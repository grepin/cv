{
 "cells": [
  {
   "cell_type": "markdown",
   "metadata": {},
   "source": [
    "<div style=\"background: #cceeaa; padding: 5px; border: 1px solid green; border-radius: 5px;\">\n",
    "    <font color='green'> <b><u>КОММЕНТАРИЙ РЕВЬЮЕРА</u></b>\n",
    "\n",
    "Георгий, доброго дня! рад приветствовать тебя)<br />\n",
    "<br />\n",
    "Меня зовут Николай Шавлюго. <br />И на этом этапе твоего движения к новой профессии от меня будут комментарии по написанному коду. <br />Чтобы меньше \"мусорить эфир\" и чтобы максимально наглядно отделяться от основного кода, есть предложение условиться в некоторых обозначениях:<br /> <br />\n",
    "<u><b>ТАКОЙ ШРИФТ</b></u> - всегда начало комментария <br />\n",
    "<font color='green'>такой шрифт</font> - комментарии о том, что всё ОК <br/>\n",
    "<font color='orange'>такой шрифт</font> - комментарии о том, что всё ОК по результату,<br> однако есть на что обратить внимание в плане применения техник, или есть способы сделать более короткий или быстрый код <br/>\n",
    "<font color='red'>такой шрифт</font> - комментарии о том, что есть критичный момент, влияющий на бизнес-результат проекта.<br/>\n",
    "</font><br /><br />\n",
    "<font color='green'>Моей целью является не \"уличить\" в не знании, а просто высказать сверху твоих знаний - свой опыт, что бы ты мог использовать его для своего дальнейшего успеха) И очень здорово будет, если тебе удастся задавать вопросы, да и вообще - всячески доставать меня, если я по каким-то причинам не приму проект:) При этом, из своего опыта скажу, хорошо и важно, когда переписка ревьюера и студента - сохраняется на следующие проекты и даже на будущую практическую деятельность.<br>\n",
    "<br> Я сразу же начал общаться на ты:) но если это не очень удобно, то дай знать)) <BR> В ПУТЬ!<br>"
   ]
  },
  {
   "cell_type": "markdown",
   "metadata": {},
   "source": [
    "<div class=\"alert alert-block alert-info\">\n",
    "<b>Комментарий студента:</b> \n",
    "Николай, привет! Комментарии по тексту буду писать вот на таком фоне\n",
    "</div>"
   ]
  },
  {
   "cell_type": "markdown",
   "metadata": {},
   "source": [
    "<div style=\"background: #cceeaa; padding: 5px; border: 1px solid green; border-radius: 5px;\">\n",
    "<font color='green'><u><b>КОММЕНТАРИЙ РЕВЬЮЕРА 2</b></u><br>\n",
    "<font color='green'>Привет Георгий! Ок, понял) Пошёл смотерть..."
   ]
  },
  {
   "cell_type": "markdown",
   "metadata": {},
   "source": [
    "# Определение стоимости автомобилей"
   ]
  },
  {
   "cell_type": "markdown",
   "metadata": {},
   "source": [
    "Сервис по продаже автомобилей с пробегом «Не бит, не крашен» разрабатывает приложение для привлечения новых клиентов. В нём можно быстро узнать рыночную стоимость своего автомобиля. В вашем распоряжении исторические данные: технические характеристики, комплектации и цены автомобилей. Вам нужно построить модель для определения стоимости. \n",
    "\n",
    "Заказчику важны:\n",
    "\n",
    "- качество предсказания;\n",
    "- скорость предсказания;\n",
    "- время обучения."
   ]
  },
  {
   "cell_type": "markdown",
   "metadata": {},
   "source": [
    "## Предварительная подготовка"
   ]
  },
  {
   "cell_type": "code",
   "execution_count": 1,
   "metadata": {},
   "outputs": [],
   "source": [
    "import pandas as pd\n",
    "import numpy as np\n",
    "from IPython.display import display_html\n",
    "from itertools import chain,cycle\n",
    "from sklearn.metrics import mean_squared_error\n",
    "import matplotlib.pyplot as plt\n",
    "from sklearn.model_selection import train_test_split\n",
    "import time\n",
    "from sklearn.linear_model import LinearRegression\n",
    "from sklearn.preprocessing import StandardScaler \n",
    "from sklearn.model_selection import GridSearchCV\n",
    "from sklearn.metrics import make_scorer\n",
    "import gc\n",
    "from sklearn.ensemble import RandomForestRegressor\n",
    "from sklearn.linear_model import LinearRegression\n",
    "from lightgbm import LGBMRegressor\n",
    "from catboost import CatBoostRegressor\n",
    "from sklearn.preprocessing import MinMaxScaler\n",
    "from warnings import filterwarnings\n",
    "filterwarnings(\"ignore\")\n",
    "pd.options.display.max_colwidth = 999"
   ]
  },
  {
   "cell_type": "code",
   "execution_count": 2,
   "metadata": {},
   "outputs": [],
   "source": [
    "GLOBAL_RANDOM_STATE=12345"
   ]
  },
  {
   "cell_type": "code",
   "execution_count": 3,
   "metadata": {},
   "outputs": [],
   "source": [
    "# вывод статистики с более информативной визуализацией\n",
    "def frame_info(df, nans_bar=True): \n",
    "    frame = df\\\n",
    "    .isna()\\\n",
    "    .sum()\\\n",
    "    .to_frame(name='Nans')\\\n",
    "    .assign(Nans_share = lambda data: data['Nans'] / df.shape[0])\\\n",
    "    .join(df.count().rename('Non-Nans'), how='inner')\\\n",
    "    .assign(Type = df.dtypes)\\\n",
    "    .sort_values(by='Nans')\\\n",
    "    [['Non-Nans','Nans','Nans_share','Type']]\n",
    "    return frame\\\n",
    "            .style\\\n",
    "            .bar(subset=['Nans_share'],color='lightblue') if nans_bar else frame\n",
    "    "
   ]
  },
  {
   "cell_type": "code",
   "execution_count": 4,
   "metadata": {},
   "outputs": [],
   "source": [
    "# отобразить несколько фреймов рядом\n",
    "def display_side_by_side(*args,titles=cycle([''])):\n",
    "    html_str=''\n",
    "    for df,title in zip(args, chain(titles,cycle(['</br>'])) ):\n",
    "        html_str+='<th style=\"text-align:left\"><td style=\"vertical-align:top\">'\n",
    "        html_str+=f'<h3>{title}</h3>'\n",
    "        html_str+=df.to_html().replace('table','table style=\"display: inline; \"')\n",
    "        html_str+='</td></th>'\n",
    "    display_html(html_str,raw=True)"
   ]
  },
  {
   "cell_type": "code",
   "execution_count": 5,
   "metadata": {},
   "outputs": [],
   "source": [
    "# построение boxplot для нескольких одноколоночных датафреймов\n",
    "def boxplot(onecolumn_frames_list=[], xlab='', ylab='', title='', vert=False, figsize=(10,5), fontsize=12, showfliers=True, notch=False):\n",
    "    fig, ax = plt.subplots()\n",
    "    fig.set_size_inches(figsize)\n",
    "    series_list, legend_list, lowers, uppers = [], [], [], []\n",
    "    label_info = \"\"\n",
    "    for i in onecolumn_frames_list:\n",
    "        column_name = i.columns[0]\n",
    "        legend_list.append(column_name)\n",
    "        series_list.append(i[column_name])\n",
    "        q1 = i[column_name].quantile(0.25)\n",
    "        q3 = i[column_name].quantile(0.75) \n",
    "        iqr = q3 - q1\n",
    "        median = i[column_name].median()\n",
    "        mean = i[column_name].mean()\n",
    "        lower = q1 - 1.5*iqr\n",
    "        if lower < 0:\n",
    "            lower = 0\n",
    "        upper = q3 + 1.5*iqr   \n",
    "        lowers.append(lower)\n",
    "        uppers.append(upper)\n",
    "        label_info += f\"\\n {column_name}: границы усов = [{round(lower,2)}; {round(upper,2)}], среднее = {round(mean,2)}, медиана = {round(median,2)}, Q1 = {round(q1,2)}, Q3 = {round(q3,2)}\" \n",
    "        \n",
    "    bp = ax.boxplot(\n",
    "        series_list,\n",
    "        vert=vert,\n",
    "        patch_artist=True,\n",
    "        labels=legend_list,\n",
    "        showfliers=showfliers,\n",
    "        notch=notch, \n",
    "        sym='gs'\n",
    "    )\n",
    "    \n",
    "    colors = ['lightblue', 'lightgreen', 'orange', 'pink', 'yellow','red', 'black', 'green', 'grey', 'blue']\n",
    "    for patch, color in zip(bp['boxes'], colors):\n",
    "        patch.set_facecolor(color)  \n",
    "        \n",
    "    if vert == False: \n",
    "        ax.xaxis.grid(True)\n",
    "    else: \n",
    "        ax.yaxis.grid(True)\n",
    "        \n",
    "    ax.set_title(title)\n",
    "    ax.set_xlabel(xlab + label_info)\n",
    "    \n",
    "    ax.set_ylabel(ylab)\n",
    "    plt.rcParams.update({'font.size': fontsize})\n",
    "    fig.tight_layout()"
   ]
  },
  {
   "cell_type": "code",
   "execution_count": 6,
   "metadata": {},
   "outputs": [],
   "source": [
    "# восстанавливаем значения по моде, получая значения моды для столбца из данных группировки по иным столбцам\n",
    "def resurrect_by_mode(data: pd.DataFrame, rgroup: list, rtarget: str) -> pd.DataFrame:\n",
    "    known = data[rgroup + [rtarget]]\\\n",
    "        .dropna()\\\n",
    "        .groupby(by=rgroup)[rtarget]\\\n",
    "        .agg(pd.Series.mode)\\\n",
    "        .reset_index()\\\n",
    "        .merge(data,how='right', on=rgroup)   \n",
    "    known[rtarget +'_x'] = known[rtarget + '_x'].apply(lambda x: np.NaN if type(x) == np.ndarray else x) # корректировка если pd.Series.mode вернула пустой pd.Series\n",
    "    index = known[known[rtarget +'_y'].isna()].index\n",
    "    for i in index: \n",
    "        known.at[i, rtarget + '_y'] = known.at[i, rtarget + '_x'] \n",
    "    known.rename(columns={rtarget + '_y': rtarget},inplace=True)\n",
    "    known.drop(rtarget + '_x', axis=1,inplace=True)\n",
    "    return known    "
   ]
  },
  {
   "cell_type": "code",
   "execution_count": 7,
   "metadata": {},
   "outputs": [],
   "source": [
    "# построение гистограм для одного и более фреймов\n",
    "def hist(onecolumn_frames_list=[], xlab='', ylab='', title='', bins=10, xrange=None, yrange=None, figsize=(10,5), fontsize=12):\n",
    "    fig, ax = plt.subplots()\n",
    "    rmin, rmax = 999999999999999, 0\n",
    "    series_list, legend_list = [], []\n",
    "    alpha, alpha_step = 1, int((40 / len(onecolumn_frames_list))) / 100 # полная прозрачность нам не нужна \n",
    "    for i in onecolumn_frames_list:\n",
    "        column_name = i.columns[0]\n",
    "        legend_list.append(column_name)\n",
    "        series_list.append(i[column_name])\n",
    "    for i in series_list:\n",
    "        rmin = i.min() if i.min() < rmin else rmin\n",
    "        rmax = i.max() if i.max() > rmax else rmax\n",
    "        ax.hist(i,bins=bins, alpha=alpha)\n",
    "        alpha -= alpha_step\n",
    "    rrange = xrange if xrange != None else (rmin,rmax)\n",
    "    ax.set_title(title)\n",
    "    ax.set_xlabel(xlab)\n",
    "    ax.set_ylabel(ylab)\n",
    "    ax.set_xlim(rrange)\n",
    "    if yrange != None:\n",
    "        ax.set_ylim(yrange)\n",
    "    ax.legend(legend_list)\n",
    "    fig.set_size_inches(figsize)\n",
    "    plt.rcParams.update({'font.size': fontsize})\n",
    "    plt.grid()\n",
    "    fig.tight_layout()"
   ]
  },
  {
   "cell_type": "code",
   "execution_count": 8,
   "metadata": {},
   "outputs": [],
   "source": [
    "# общий класс для проведения исследований \n",
    "class Comparator:\n",
    "    # переинициализация \n",
    "    def _reset(self):\n",
    "        # перечень моделей и их гиперпараметров для перебора\n",
    "        self.estimators = { \n",
    "            'LinearRegression': {\n",
    "                'estimator': LinearRegression(),\n",
    "                'grid': {\n",
    "                    'fit_intercept': [True, False],\n",
    "                    'normalize': [True, False]\n",
    "                },\n",
    "            },\n",
    "            'RandomForestRegressor': {\n",
    "                'estimator': RandomForestRegressor(),\n",
    "                'grid': {\n",
    "                    'n_estimators': [11, 29, 43],\n",
    "                    'max_depth': [2, 3, 5],\n",
    "                    'random_state': [GLOBAL_RANDOM_STATE]                \n",
    "                },\n",
    "            },\n",
    "            'LGBMRegressor': {\n",
    "                'estimator': LGBMRegressor(),\n",
    "                'grid': {\n",
    "                    'n_estimators': [11, 29, 43],\n",
    "                    'max_depth': [2, 3, 5],\n",
    "                    'random_state': [GLOBAL_RANDOM_STATE]                \n",
    "                }\n",
    "            },   \n",
    "            'CatBoostRegressor': {\n",
    "                'estimator': CatBoostRegressor(),\n",
    "                'grid': {\n",
    "                    'verbose': [False],\n",
    "                    'n_estimators': [11, 29, 43],\n",
    "                    'learning_rate': [0.3, 0.6, 0.9],\n",
    "                    'random_state': [GLOBAL_RANDOM_STATE]                \n",
    "                }\n",
    "            },   \n",
    "        }\n",
    "        \n",
    "    # расчет качества: единая точка, чтобы можно было легко изменить по ходу работы\n",
    "    @staticmethod\n",
    "    def _error(targ, targ_pred):\n",
    "        error = mean_squared_error(targ, targ_pred) ** 0.5 # rmse\n",
    "        return error\n",
    "\n",
    "    # сравнение алгоритмов\n",
    "    def process(self, \n",
    "                    ufeat_train: pd.DataFrame, utarg_train: pd.Series, \n",
    "                    ufeat_test: pd.DataFrame, utarg_test: pd.DataFrame,\n",
    "                    feat_categorial: list,\n",
    "                    feat_numeric: list,\n",
    "                    activate: list = None) -> None:\n",
    "        start_time = time.perf_counter()\n",
    "        self._reset()\n",
    "        feat_train = ufeat_train.copy().reset_index(drop=True)\n",
    "        feat_test = ufeat_test.copy().reset_index(drop=True)\n",
    "        targ_train = utarg_train.copy().reset_index(drop=True);\n",
    "        targ_test = utarg_test.copy().reset_index(drop=True);   \n",
    "        \n",
    "        feat_train_scaled, feat_test_scaled = self._scale(feat_train, feat_test, feat_numeric)\n",
    "        feat_train, feat_test = self._encoding(feat_train_scaled, feat_test_scaled, feat_categorial)\n",
    "\n",
    "        self.feat_train = feat_train\n",
    "        self.feat_test = feat_test\n",
    "    \n",
    "        for estimator_name in self.estimators:\n",
    "            estimator = self.estimators[estimator_name]['estimator']\n",
    "            if activate != None:\n",
    "                if not estimator_name in activate:\n",
    "                    continue\n",
    "            self._gridsearch_wrapper(estimator,\n",
    "                                     feat_train,\n",
    "                                     targ_train,\n",
    "                                     feat_categorial,\n",
    "                                     feat_numeric)\n",
    "\n",
    "            self._predict_and_score(estimator, feat_train, targ_train, 'pred_train', 'pred_score_train','pred_time_train')\n",
    "            self._predict_and_score(estimator, feat_test, targ_test, 'pred_test', 'pred_score_test','pred_time_test') \n",
    "            \n",
    "        end_time = time.perf_counter()\n",
    "        print('Общее время:', (end_time-start_time))\n",
    "        \n",
    "        \n",
    "    def _gridsearch_wrapper(self,\n",
    "                            estimator,\n",
    "                            feat_train: pd.DataFrame,\n",
    "                            targ_train: pd.DataFrame,\n",
    "                            feat_categorial: list,\n",
    "                            feat_numeric: list):\n",
    "        self._gridsearch(estimator, feat_train, targ_train)    \n",
    "        \n",
    "    # масштабирование\n",
    "    def _scale(self, feat_train: pd.DataFrame, feat_valid: pd.DataFrame, feat_numeric: list) -> list:\n",
    "        scaler = StandardScaler()\n",
    "        scaler.fit(feat_train[feat_numeric])\n",
    "        feat_train[feat_numeric] = scaler.transform(feat_train[feat_numeric])\n",
    "        feat_valid[feat_numeric] = scaler.transform(feat_valid[feat_numeric])\n",
    "        return [feat_train, feat_valid]        \n",
    "\n",
    "    # ohe\n",
    "    def _encoding(self, feat_train: pd.DataFrame, feat_valid: pd.DataFrame, feat_categorial: list) -> list:\n",
    "        feat_train = pd.get_dummies(feat_train, drop_first=True, columns=feat_categorial)\n",
    "        feat_valid = pd.get_dummies(feat_valid, drop_first=True, columns=feat_categorial)\n",
    "        return [feat_train, feat_valid]        \n",
    "    \n",
    "    \n",
    "    # предсказания с лучшими параметрами и расчет метрики \n",
    "    def _predict_and_score(self,\n",
    "                           estimator,\n",
    "                           feat: pd.DataFrame, \n",
    "                           targ: pd.Series, \n",
    "                           pred_key: str, \n",
    "                           score_key: str,\n",
    "                           pred_time_key: str) -> None:\n",
    "            estimator_name = estimator.__class__.__name__\n",
    "            start_time = time.perf_counter()\n",
    "            pred = self.estimators[estimator_name]['best'].predict(feat)\n",
    "            end_time = time.perf_counter()\n",
    "            self.estimators[estimator_name][pred_key] = pd.Series(pred)\n",
    "            self.estimators[estimator_name][score_key] = Comparator._error(targ, pred)\n",
    "            self.estimators[estimator_name][pred_time_key] = round(end_time-start_time, 3)\n",
    "            \n",
    "        \n",
    "    # подбор гиперпараметров и сохранение лучшей модели для каждого конкретного алгоритма\n",
    "    def _gridsearch(self, estimator: object, feat: pd.DataFrame, targ: pd.Series) -> None:\n",
    "        start_time = time.perf_counter()\n",
    "        estimator_name = estimator.__class__.__name__\n",
    "        gscv = GridSearchCV(\n",
    "                estimator,\n",
    "                self.estimators[estimator_name]['grid'],\n",
    "                scoring=make_scorer(Comparator._error, greater_is_better=False),\n",
    "                cv=3,\n",
    "                verbose=0,\n",
    "                return_train_score=True,\n",
    "                refit=True,\n",
    "                n_jobs=4\n",
    "        )\n",
    "        gscv.fit(feat, targ)\n",
    "        end_time = time.perf_counter()\n",
    "        timedelta = round(end_time-start_time,3)\n",
    "        self.estimators[estimator_name]['params'] = gscv.best_params_\n",
    "        self.estimators[estimator_name]['score'] = gscv.best_score_ * (-1)\n",
    "        self.estimators[estimator_name]['best'] = gscv.best_estimator_\n",
    "        self.estimators[estimator_name]['time_fit'] = timedelta\n",
    "        print('Выбор гиперпараметров', estimator_name,'занял',\"{:.3f}\".format(timedelta), 'секунд')\n",
    "            \n",
    "    # сводный отчет о результатах\n",
    "    def report(self):\n",
    "        frame = pd.DataFrame(\n",
    "            { \n",
    "                \"Estimator\": [], \n",
    "                \"Лучшие параметры\": [], \n",
    "                \"CV-RMSE (train)\": [],\n",
    "                \"RMSE (train)\": [],\n",
    "                \"RMSE (test)\": [],\n",
    "                \"Time (fit)\": [],\n",
    "                \"Time (predict, train)\": [],\n",
    "                \"Time (predict, test)\": []\n",
    "            })\n",
    "        for estimator_name in self.estimators:\n",
    "            if 'best' in self.estimators[estimator_name]:\n",
    "                frame.loc[len(frame)] = [\n",
    "                    estimator_name,\n",
    "                    self.estimators[estimator_name]['params'], \n",
    "                    self.estimators[estimator_name]['score'], \n",
    "                    self.estimators[estimator_name]['pred_score_train'], \n",
    "                    self.estimators[estimator_name]['pred_score_test'], \n",
    "                    self.estimators[estimator_name]['time_fit'], \n",
    "                    self.estimators[estimator_name]['pred_time_train'], \n",
    "                    self.estimators[estimator_name]['pred_time_test']\n",
    "                ]\n",
    "        return frame\n",
    "            \n",
    "    def predictions(self, classname: str) -> list:\n",
    "        for estimator in self.estimators:\n",
    "            if estimator.__class__.__name__  == classname:\n",
    "                result = {\n",
    "                    'pred_train': self.estimators[estimator]['pred_train'], \n",
    "                    'pred_test': self.estimators[estimator]['pred_test'] \n",
    "                }\n",
    "                return result\n",
    "        return None\n",
    "    \n",
    "    # масштабированные feature_impotrances во всех best models\n",
    "    def scaled_feature_importances(self, round_digits=3, sort_ascending=False) -> pd.DataFrame:\n",
    "        scaled_feature_importances = pd.DataFrame(columns=self.feat_train.columns)\n",
    "        for estimator_name in self.estimators:\n",
    "            estimator = self.estimators[estimator_name]['best']\n",
    "            if hasattr(estimator,'feature_importances_'):\n",
    "                scaled_feature_importances.loc[estimator_name] = estimator.feature_importances_\n",
    "        scaler = MinMaxScaler()\n",
    "        transposed = scaled_feature_importances.transpose()\n",
    "        transposed_scaled_feature_importances = pd.DataFrame(\n",
    "                                                    scaler.fit_transform(transposed),\n",
    "                                                    columns=transposed.columns, \n",
    "                                                    index=transposed.index)\n",
    "        cols = list(transposed_scaled_feature_importances.columns.values)\n",
    "        return transposed_scaled_feature_importances\\\n",
    "                .apply(lambda x: round(x, round_digits))\\\n",
    "                .sort_values(by=cols, ascending=sort_ascending)          "
   ]
  },
  {
   "cell_type": "code",
   "execution_count": 9,
   "metadata": {},
   "outputs": [],
   "source": [
    "# barchart с горизонтальной раскладкой\n",
    "def barchart(df: pd.DataFrame, xlabel='', ylabel='', title='', xrange=(0,1), yrange=None, figsize=(10,5), fontsize=12, grid_axis='x'):\n",
    "    plt.rcdefaults()\n",
    "    plt.rcParams.update({'font.size': fontsize})\n",
    "    dft = df.transpose()\n",
    "\n",
    "    size = len(dft.values)\n",
    "    full_height = 1\n",
    "    intercol_height = 0.1\n",
    "    height = full_height / size \n",
    "    y = []\n",
    "    for i in range(len(dft.columns), 0, -1):\n",
    "        y.append(i * (full_height + intercol_height) + intercol_height)\n",
    "    y = np.array(y)\n",
    "    fig, ax = plt.subplots()\n",
    "    for i in range(size):\n",
    "        bar = ax.barh(y + i * height, dft.values[i], height, label=dft.index.values[i])\n",
    "        # ax.bar_label(bar, padding=2) # только с версии 3.4 matplotlib\n",
    "\n",
    "    ax.set_xlabel(xlabel)\n",
    "    ax.set_ylabel(ylabel)\n",
    "    ax.set_title(title)\n",
    "    ax.set_yticks(y - height/2 + size*height/2)\n",
    "    ax.set_yticklabels(dft.columns)\n",
    "    ax.legend()\n",
    "\n",
    "    fig.set_size_inches(figsize)\n",
    "    plt.grid(axis=grid_axis)    \n",
    "    fig.tight_layout()\n",
    "    plt.show()"
   ]
  },
  {
   "cell_type": "markdown",
   "metadata": {},
   "source": [
    "<div style=\"background: #cceeaa; padding: 5px; border: 1px solid green; border-radius: 5px;\">\n",
    "<font color='green'><u><b>КОММЕНТАРИЙ РЕВЬЮЕРА</b></u><br>\n",
    "<font color='green'>Достойный арсенальчик!"
   ]
  },
  {
   "cell_type": "markdown",
   "metadata": {},
   "source": [
    "<div class=\"alert alert-block alert-info\">\n",
    "<b>Комментарий студента:</b> \n",
    "Накопленный код из предыдущих проектов с некоторыми модификациями\n",
    "</div>"
   ]
  },
  {
   "cell_type": "markdown",
   "metadata": {},
   "source": [
    "<div style=\"background: #cceeaa; padding: 5px; border: 1px solid green; border-radius: 5px;\">\n",
    "<font color='green'><u><b>КОММЕНТАРИЙ РЕВЬЮЕРА 2</b></u><br>\n",
    "<font color='green'>)"
   ]
  },
  {
   "cell_type": "markdown",
   "metadata": {},
   "source": [
    "## Подготовка данных"
   ]
  },
  {
   "cell_type": "code",
   "execution_count": 10,
   "metadata": {},
   "outputs": [],
   "source": [
    "data = pd.read_csv('/datasets/autos.csv')"
   ]
  },
  {
   "cell_type": "code",
   "execution_count": 11,
   "metadata": {},
   "outputs": [
    {
     "data": {
      "text/html": [
       "<style  type=\"text/css\" >\n",
       "    #T_c565fd3e_b7d0_11eb_865f_02420a39047erow0_col2 {\n",
       "            width:  10em;\n",
       "             height:  80%;\n",
       "        }    #T_c565fd3e_b7d0_11eb_865f_02420a39047erow1_col2 {\n",
       "            width:  10em;\n",
       "             height:  80%;\n",
       "        }    #T_c565fd3e_b7d0_11eb_865f_02420a39047erow2_col2 {\n",
       "            width:  10em;\n",
       "             height:  80%;\n",
       "        }    #T_c565fd3e_b7d0_11eb_865f_02420a39047erow3_col2 {\n",
       "            width:  10em;\n",
       "             height:  80%;\n",
       "        }    #T_c565fd3e_b7d0_11eb_865f_02420a39047erow4_col2 {\n",
       "            width:  10em;\n",
       "             height:  80%;\n",
       "        }    #T_c565fd3e_b7d0_11eb_865f_02420a39047erow5_col2 {\n",
       "            width:  10em;\n",
       "             height:  80%;\n",
       "        }    #T_c565fd3e_b7d0_11eb_865f_02420a39047erow6_col2 {\n",
       "            width:  10em;\n",
       "             height:  80%;\n",
       "        }    #T_c565fd3e_b7d0_11eb_865f_02420a39047erow7_col2 {\n",
       "            width:  10em;\n",
       "             height:  80%;\n",
       "        }    #T_c565fd3e_b7d0_11eb_865f_02420a39047erow8_col2 {\n",
       "            width:  10em;\n",
       "             height:  80%;\n",
       "        }    #T_c565fd3e_b7d0_11eb_865f_02420a39047erow9_col2 {\n",
       "            width:  10em;\n",
       "             height:  80%;\n",
       "        }    #T_c565fd3e_b7d0_11eb_865f_02420a39047erow10_col2 {\n",
       "            width:  10em;\n",
       "             height:  80%;\n",
       "        }    #T_c565fd3e_b7d0_11eb_865f_02420a39047erow11_col2 {\n",
       "            width:  10em;\n",
       "             height:  80%;\n",
       "            background:  linear-gradient(90deg,lightblue 27.7%, transparent 27.7%);\n",
       "        }    #T_c565fd3e_b7d0_11eb_865f_02420a39047erow12_col2 {\n",
       "            width:  10em;\n",
       "             height:  80%;\n",
       "            background:  linear-gradient(90deg,lightblue 27.9%, transparent 27.9%);\n",
       "        }    #T_c565fd3e_b7d0_11eb_865f_02420a39047erow13_col2 {\n",
       "            width:  10em;\n",
       "             height:  80%;\n",
       "            background:  linear-gradient(90deg,lightblue 46.2%, transparent 46.2%);\n",
       "        }    #T_c565fd3e_b7d0_11eb_865f_02420a39047erow14_col2 {\n",
       "            width:  10em;\n",
       "             height:  80%;\n",
       "            background:  linear-gradient(90deg,lightblue 52.7%, transparent 52.7%);\n",
       "        }    #T_c565fd3e_b7d0_11eb_865f_02420a39047erow15_col2 {\n",
       "            width:  10em;\n",
       "             height:  80%;\n",
       "            background:  linear-gradient(90deg,lightblue 100.0%, transparent 100.0%);\n",
       "        }</style><table id=\"T_c565fd3e_b7d0_11eb_865f_02420a39047e\" ><thead>    <tr>        <th class=\"blank level0\" ></th>        <th class=\"col_heading level0 col0\" >Non-Nans</th>        <th class=\"col_heading level0 col1\" >Nans</th>        <th class=\"col_heading level0 col2\" >Nans_share</th>        <th class=\"col_heading level0 col3\" >Type</th>    </tr></thead><tbody>\n",
       "                <tr>\n",
       "                        <th id=\"T_c565fd3e_b7d0_11eb_865f_02420a39047elevel0_row0\" class=\"row_heading level0 row0\" >DateCrawled</th>\n",
       "                        <td id=\"T_c565fd3e_b7d0_11eb_865f_02420a39047erow0_col0\" class=\"data row0 col0\" >354369</td>\n",
       "                        <td id=\"T_c565fd3e_b7d0_11eb_865f_02420a39047erow0_col1\" class=\"data row0 col1\" >0</td>\n",
       "                        <td id=\"T_c565fd3e_b7d0_11eb_865f_02420a39047erow0_col2\" class=\"data row0 col2\" >0</td>\n",
       "                        <td id=\"T_c565fd3e_b7d0_11eb_865f_02420a39047erow0_col3\" class=\"data row0 col3\" >object</td>\n",
       "            </tr>\n",
       "            <tr>\n",
       "                        <th id=\"T_c565fd3e_b7d0_11eb_865f_02420a39047elevel0_row1\" class=\"row_heading level0 row1\" >Price</th>\n",
       "                        <td id=\"T_c565fd3e_b7d0_11eb_865f_02420a39047erow1_col0\" class=\"data row1 col0\" >354369</td>\n",
       "                        <td id=\"T_c565fd3e_b7d0_11eb_865f_02420a39047erow1_col1\" class=\"data row1 col1\" >0</td>\n",
       "                        <td id=\"T_c565fd3e_b7d0_11eb_865f_02420a39047erow1_col2\" class=\"data row1 col2\" >0</td>\n",
       "                        <td id=\"T_c565fd3e_b7d0_11eb_865f_02420a39047erow1_col3\" class=\"data row1 col3\" >int64</td>\n",
       "            </tr>\n",
       "            <tr>\n",
       "                        <th id=\"T_c565fd3e_b7d0_11eb_865f_02420a39047elevel0_row2\" class=\"row_heading level0 row2\" >RegistrationYear</th>\n",
       "                        <td id=\"T_c565fd3e_b7d0_11eb_865f_02420a39047erow2_col0\" class=\"data row2 col0\" >354369</td>\n",
       "                        <td id=\"T_c565fd3e_b7d0_11eb_865f_02420a39047erow2_col1\" class=\"data row2 col1\" >0</td>\n",
       "                        <td id=\"T_c565fd3e_b7d0_11eb_865f_02420a39047erow2_col2\" class=\"data row2 col2\" >0</td>\n",
       "                        <td id=\"T_c565fd3e_b7d0_11eb_865f_02420a39047erow2_col3\" class=\"data row2 col3\" >int64</td>\n",
       "            </tr>\n",
       "            <tr>\n",
       "                        <th id=\"T_c565fd3e_b7d0_11eb_865f_02420a39047elevel0_row3\" class=\"row_heading level0 row3\" >Power</th>\n",
       "                        <td id=\"T_c565fd3e_b7d0_11eb_865f_02420a39047erow3_col0\" class=\"data row3 col0\" >354369</td>\n",
       "                        <td id=\"T_c565fd3e_b7d0_11eb_865f_02420a39047erow3_col1\" class=\"data row3 col1\" >0</td>\n",
       "                        <td id=\"T_c565fd3e_b7d0_11eb_865f_02420a39047erow3_col2\" class=\"data row3 col2\" >0</td>\n",
       "                        <td id=\"T_c565fd3e_b7d0_11eb_865f_02420a39047erow3_col3\" class=\"data row3 col3\" >int64</td>\n",
       "            </tr>\n",
       "            <tr>\n",
       "                        <th id=\"T_c565fd3e_b7d0_11eb_865f_02420a39047elevel0_row4\" class=\"row_heading level0 row4\" >Kilometer</th>\n",
       "                        <td id=\"T_c565fd3e_b7d0_11eb_865f_02420a39047erow4_col0\" class=\"data row4 col0\" >354369</td>\n",
       "                        <td id=\"T_c565fd3e_b7d0_11eb_865f_02420a39047erow4_col1\" class=\"data row4 col1\" >0</td>\n",
       "                        <td id=\"T_c565fd3e_b7d0_11eb_865f_02420a39047erow4_col2\" class=\"data row4 col2\" >0</td>\n",
       "                        <td id=\"T_c565fd3e_b7d0_11eb_865f_02420a39047erow4_col3\" class=\"data row4 col3\" >int64</td>\n",
       "            </tr>\n",
       "            <tr>\n",
       "                        <th id=\"T_c565fd3e_b7d0_11eb_865f_02420a39047elevel0_row5\" class=\"row_heading level0 row5\" >RegistrationMonth</th>\n",
       "                        <td id=\"T_c565fd3e_b7d0_11eb_865f_02420a39047erow5_col0\" class=\"data row5 col0\" >354369</td>\n",
       "                        <td id=\"T_c565fd3e_b7d0_11eb_865f_02420a39047erow5_col1\" class=\"data row5 col1\" >0</td>\n",
       "                        <td id=\"T_c565fd3e_b7d0_11eb_865f_02420a39047erow5_col2\" class=\"data row5 col2\" >0</td>\n",
       "                        <td id=\"T_c565fd3e_b7d0_11eb_865f_02420a39047erow5_col3\" class=\"data row5 col3\" >int64</td>\n",
       "            </tr>\n",
       "            <tr>\n",
       "                        <th id=\"T_c565fd3e_b7d0_11eb_865f_02420a39047elevel0_row6\" class=\"row_heading level0 row6\" >Brand</th>\n",
       "                        <td id=\"T_c565fd3e_b7d0_11eb_865f_02420a39047erow6_col0\" class=\"data row6 col0\" >354369</td>\n",
       "                        <td id=\"T_c565fd3e_b7d0_11eb_865f_02420a39047erow6_col1\" class=\"data row6 col1\" >0</td>\n",
       "                        <td id=\"T_c565fd3e_b7d0_11eb_865f_02420a39047erow6_col2\" class=\"data row6 col2\" >0</td>\n",
       "                        <td id=\"T_c565fd3e_b7d0_11eb_865f_02420a39047erow6_col3\" class=\"data row6 col3\" >object</td>\n",
       "            </tr>\n",
       "            <tr>\n",
       "                        <th id=\"T_c565fd3e_b7d0_11eb_865f_02420a39047elevel0_row7\" class=\"row_heading level0 row7\" >DateCreated</th>\n",
       "                        <td id=\"T_c565fd3e_b7d0_11eb_865f_02420a39047erow7_col0\" class=\"data row7 col0\" >354369</td>\n",
       "                        <td id=\"T_c565fd3e_b7d0_11eb_865f_02420a39047erow7_col1\" class=\"data row7 col1\" >0</td>\n",
       "                        <td id=\"T_c565fd3e_b7d0_11eb_865f_02420a39047erow7_col2\" class=\"data row7 col2\" >0</td>\n",
       "                        <td id=\"T_c565fd3e_b7d0_11eb_865f_02420a39047erow7_col3\" class=\"data row7 col3\" >object</td>\n",
       "            </tr>\n",
       "            <tr>\n",
       "                        <th id=\"T_c565fd3e_b7d0_11eb_865f_02420a39047elevel0_row8\" class=\"row_heading level0 row8\" >NumberOfPictures</th>\n",
       "                        <td id=\"T_c565fd3e_b7d0_11eb_865f_02420a39047erow8_col0\" class=\"data row8 col0\" >354369</td>\n",
       "                        <td id=\"T_c565fd3e_b7d0_11eb_865f_02420a39047erow8_col1\" class=\"data row8 col1\" >0</td>\n",
       "                        <td id=\"T_c565fd3e_b7d0_11eb_865f_02420a39047erow8_col2\" class=\"data row8 col2\" >0</td>\n",
       "                        <td id=\"T_c565fd3e_b7d0_11eb_865f_02420a39047erow8_col3\" class=\"data row8 col3\" >int64</td>\n",
       "            </tr>\n",
       "            <tr>\n",
       "                        <th id=\"T_c565fd3e_b7d0_11eb_865f_02420a39047elevel0_row9\" class=\"row_heading level0 row9\" >PostalCode</th>\n",
       "                        <td id=\"T_c565fd3e_b7d0_11eb_865f_02420a39047erow9_col0\" class=\"data row9 col0\" >354369</td>\n",
       "                        <td id=\"T_c565fd3e_b7d0_11eb_865f_02420a39047erow9_col1\" class=\"data row9 col1\" >0</td>\n",
       "                        <td id=\"T_c565fd3e_b7d0_11eb_865f_02420a39047erow9_col2\" class=\"data row9 col2\" >0</td>\n",
       "                        <td id=\"T_c565fd3e_b7d0_11eb_865f_02420a39047erow9_col3\" class=\"data row9 col3\" >int64</td>\n",
       "            </tr>\n",
       "            <tr>\n",
       "                        <th id=\"T_c565fd3e_b7d0_11eb_865f_02420a39047elevel0_row10\" class=\"row_heading level0 row10\" >LastSeen</th>\n",
       "                        <td id=\"T_c565fd3e_b7d0_11eb_865f_02420a39047erow10_col0\" class=\"data row10 col0\" >354369</td>\n",
       "                        <td id=\"T_c565fd3e_b7d0_11eb_865f_02420a39047erow10_col1\" class=\"data row10 col1\" >0</td>\n",
       "                        <td id=\"T_c565fd3e_b7d0_11eb_865f_02420a39047erow10_col2\" class=\"data row10 col2\" >0</td>\n",
       "                        <td id=\"T_c565fd3e_b7d0_11eb_865f_02420a39047erow10_col3\" class=\"data row10 col3\" >object</td>\n",
       "            </tr>\n",
       "            <tr>\n",
       "                        <th id=\"T_c565fd3e_b7d0_11eb_865f_02420a39047elevel0_row11\" class=\"row_heading level0 row11\" >Model</th>\n",
       "                        <td id=\"T_c565fd3e_b7d0_11eb_865f_02420a39047erow11_col0\" class=\"data row11 col0\" >334664</td>\n",
       "                        <td id=\"T_c565fd3e_b7d0_11eb_865f_02420a39047erow11_col1\" class=\"data row11 col1\" >19705</td>\n",
       "                        <td id=\"T_c565fd3e_b7d0_11eb_865f_02420a39047erow11_col2\" class=\"data row11 col2\" >0.0556059</td>\n",
       "                        <td id=\"T_c565fd3e_b7d0_11eb_865f_02420a39047erow11_col3\" class=\"data row11 col3\" >object</td>\n",
       "            </tr>\n",
       "            <tr>\n",
       "                        <th id=\"T_c565fd3e_b7d0_11eb_865f_02420a39047elevel0_row12\" class=\"row_heading level0 row12\" >Gearbox</th>\n",
       "                        <td id=\"T_c565fd3e_b7d0_11eb_865f_02420a39047erow12_col0\" class=\"data row12 col0\" >334536</td>\n",
       "                        <td id=\"T_c565fd3e_b7d0_11eb_865f_02420a39047erow12_col1\" class=\"data row12 col1\" >19833</td>\n",
       "                        <td id=\"T_c565fd3e_b7d0_11eb_865f_02420a39047erow12_col2\" class=\"data row12 col2\" >0.0559671</td>\n",
       "                        <td id=\"T_c565fd3e_b7d0_11eb_865f_02420a39047erow12_col3\" class=\"data row12 col3\" >object</td>\n",
       "            </tr>\n",
       "            <tr>\n",
       "                        <th id=\"T_c565fd3e_b7d0_11eb_865f_02420a39047elevel0_row13\" class=\"row_heading level0 row13\" >FuelType</th>\n",
       "                        <td id=\"T_c565fd3e_b7d0_11eb_865f_02420a39047erow13_col0\" class=\"data row13 col0\" >321474</td>\n",
       "                        <td id=\"T_c565fd3e_b7d0_11eb_865f_02420a39047erow13_col1\" class=\"data row13 col1\" >32895</td>\n",
       "                        <td id=\"T_c565fd3e_b7d0_11eb_865f_02420a39047erow13_col2\" class=\"data row13 col2\" >0.092827</td>\n",
       "                        <td id=\"T_c565fd3e_b7d0_11eb_865f_02420a39047erow13_col3\" class=\"data row13 col3\" >object</td>\n",
       "            </tr>\n",
       "            <tr>\n",
       "                        <th id=\"T_c565fd3e_b7d0_11eb_865f_02420a39047elevel0_row14\" class=\"row_heading level0 row14\" >VehicleType</th>\n",
       "                        <td id=\"T_c565fd3e_b7d0_11eb_865f_02420a39047erow14_col0\" class=\"data row14 col0\" >316879</td>\n",
       "                        <td id=\"T_c565fd3e_b7d0_11eb_865f_02420a39047erow14_col1\" class=\"data row14 col1\" >37490</td>\n",
       "                        <td id=\"T_c565fd3e_b7d0_11eb_865f_02420a39047erow14_col2\" class=\"data row14 col2\" >0.105794</td>\n",
       "                        <td id=\"T_c565fd3e_b7d0_11eb_865f_02420a39047erow14_col3\" class=\"data row14 col3\" >object</td>\n",
       "            </tr>\n",
       "            <tr>\n",
       "                        <th id=\"T_c565fd3e_b7d0_11eb_865f_02420a39047elevel0_row15\" class=\"row_heading level0 row15\" >NotRepaired</th>\n",
       "                        <td id=\"T_c565fd3e_b7d0_11eb_865f_02420a39047erow15_col0\" class=\"data row15 col0\" >283215</td>\n",
       "                        <td id=\"T_c565fd3e_b7d0_11eb_865f_02420a39047erow15_col1\" class=\"data row15 col1\" >71154</td>\n",
       "                        <td id=\"T_c565fd3e_b7d0_11eb_865f_02420a39047erow15_col2\" class=\"data row15 col2\" >0.200791</td>\n",
       "                        <td id=\"T_c565fd3e_b7d0_11eb_865f_02420a39047erow15_col3\" class=\"data row15 col3\" >object</td>\n",
       "            </tr>\n",
       "    </tbody></table>"
      ],
      "text/plain": [
       "<pandas.io.formats.style.Styler at 0x7f9735c75510>"
      ]
     },
     "execution_count": 11,
     "metadata": {},
     "output_type": "execute_result"
    }
   ],
   "source": [
    "frame_info(data)"
   ]
  },
  {
   "cell_type": "code",
   "execution_count": 12,
   "metadata": {},
   "outputs": [
    {
     "data": {
      "text/html": [
       "<div>\n",
       "<style scoped>\n",
       "    .dataframe tbody tr th:only-of-type {\n",
       "        vertical-align: middle;\n",
       "    }\n",
       "\n",
       "    .dataframe tbody tr th {\n",
       "        vertical-align: top;\n",
       "    }\n",
       "\n",
       "    .dataframe thead th {\n",
       "        text-align: right;\n",
       "    }\n",
       "</style>\n",
       "<table border=\"1\" class=\"dataframe\">\n",
       "  <thead>\n",
       "    <tr style=\"text-align: right;\">\n",
       "      <th></th>\n",
       "      <th>DateCrawled</th>\n",
       "      <th>Price</th>\n",
       "      <th>VehicleType</th>\n",
       "      <th>RegistrationYear</th>\n",
       "      <th>Gearbox</th>\n",
       "      <th>Power</th>\n",
       "      <th>Model</th>\n",
       "      <th>Kilometer</th>\n",
       "      <th>RegistrationMonth</th>\n",
       "      <th>FuelType</th>\n",
       "      <th>Brand</th>\n",
       "      <th>NotRepaired</th>\n",
       "      <th>DateCreated</th>\n",
       "      <th>NumberOfPictures</th>\n",
       "      <th>PostalCode</th>\n",
       "      <th>LastSeen</th>\n",
       "    </tr>\n",
       "  </thead>\n",
       "  <tbody>\n",
       "    <tr>\n",
       "      <td>18734</td>\n",
       "      <td>2016-04-04 13:36:58</td>\n",
       "      <td>16900</td>\n",
       "      <td>bus</td>\n",
       "      <td>2010</td>\n",
       "      <td>auto</td>\n",
       "      <td>150</td>\n",
       "      <td>viano</td>\n",
       "      <td>150000</td>\n",
       "      <td>4</td>\n",
       "      <td>gasoline</td>\n",
       "      <td>mercedes_benz</td>\n",
       "      <td>no</td>\n",
       "      <td>2016-04-04 00:00:00</td>\n",
       "      <td>0</td>\n",
       "      <td>60326</td>\n",
       "      <td>2016-04-05 12:18:31</td>\n",
       "    </tr>\n",
       "    <tr>\n",
       "      <td>141787</td>\n",
       "      <td>2016-03-07 17:57:08</td>\n",
       "      <td>15500</td>\n",
       "      <td>other</td>\n",
       "      <td>2011</td>\n",
       "      <td>manual</td>\n",
       "      <td>143</td>\n",
       "      <td>1er</td>\n",
       "      <td>40000</td>\n",
       "      <td>5</td>\n",
       "      <td>gasoline</td>\n",
       "      <td>bmw</td>\n",
       "      <td>no</td>\n",
       "      <td>2016-03-07 00:00:00</td>\n",
       "      <td>0</td>\n",
       "      <td>35083</td>\n",
       "      <td>2016-04-06 20:19:15</td>\n",
       "    </tr>\n",
       "    <tr>\n",
       "      <td>37523</td>\n",
       "      <td>2016-03-24 09:37:02</td>\n",
       "      <td>3600</td>\n",
       "      <td>sedan</td>\n",
       "      <td>2004</td>\n",
       "      <td>manual</td>\n",
       "      <td>125</td>\n",
       "      <td>astra</td>\n",
       "      <td>150000</td>\n",
       "      <td>12</td>\n",
       "      <td>petrol</td>\n",
       "      <td>opel</td>\n",
       "      <td>no</td>\n",
       "      <td>2016-03-24 00:00:00</td>\n",
       "      <td>0</td>\n",
       "      <td>13627</td>\n",
       "      <td>2016-03-24 10:38:57</td>\n",
       "    </tr>\n",
       "    <tr>\n",
       "      <td>194192</td>\n",
       "      <td>2016-03-15 09:49:03</td>\n",
       "      <td>8990</td>\n",
       "      <td>sedan</td>\n",
       "      <td>2007</td>\n",
       "      <td>auto</td>\n",
       "      <td>224</td>\n",
       "      <td>c_klasse</td>\n",
       "      <td>150000</td>\n",
       "      <td>9</td>\n",
       "      <td>gasoline</td>\n",
       "      <td>mercedes_benz</td>\n",
       "      <td>no</td>\n",
       "      <td>2016-03-15 00:00:00</td>\n",
       "      <td>0</td>\n",
       "      <td>58135</td>\n",
       "      <td>2016-03-18 02:17:06</td>\n",
       "    </tr>\n",
       "    <tr>\n",
       "      <td>110210</td>\n",
       "      <td>2016-03-29 23:43:52</td>\n",
       "      <td>2500</td>\n",
       "      <td>other</td>\n",
       "      <td>1994</td>\n",
       "      <td>manual</td>\n",
       "      <td>68</td>\n",
       "      <td>transporter</td>\n",
       "      <td>150000</td>\n",
       "      <td>9</td>\n",
       "      <td>gasoline</td>\n",
       "      <td>volkswagen</td>\n",
       "      <td>no</td>\n",
       "      <td>2016-03-29 00:00:00</td>\n",
       "      <td>0</td>\n",
       "      <td>24598</td>\n",
       "      <td>2016-04-02 12:45:46</td>\n",
       "    </tr>\n",
       "  </tbody>\n",
       "</table>\n",
       "</div>"
      ],
      "text/plain": [
       "                DateCrawled  Price VehicleType  RegistrationYear Gearbox  \\\n",
       "18734   2016-04-04 13:36:58  16900         bus              2010    auto   \n",
       "141787  2016-03-07 17:57:08  15500       other              2011  manual   \n",
       "37523   2016-03-24 09:37:02   3600       sedan              2004  manual   \n",
       "194192  2016-03-15 09:49:03   8990       sedan              2007    auto   \n",
       "110210  2016-03-29 23:43:52   2500       other              1994  manual   \n",
       "\n",
       "        Power        Model  Kilometer  RegistrationMonth  FuelType  \\\n",
       "18734     150        viano     150000                  4  gasoline   \n",
       "141787    143          1er      40000                  5  gasoline   \n",
       "37523     125        astra     150000                 12    petrol   \n",
       "194192    224     c_klasse     150000                  9  gasoline   \n",
       "110210     68  transporter     150000                  9  gasoline   \n",
       "\n",
       "                Brand NotRepaired          DateCreated  NumberOfPictures  \\\n",
       "18734   mercedes_benz          no  2016-04-04 00:00:00                 0   \n",
       "141787            bmw          no  2016-03-07 00:00:00                 0   \n",
       "37523            opel          no  2016-03-24 00:00:00                 0   \n",
       "194192  mercedes_benz          no  2016-03-15 00:00:00                 0   \n",
       "110210     volkswagen          no  2016-03-29 00:00:00                 0   \n",
       "\n",
       "        PostalCode             LastSeen  \n",
       "18734        60326  2016-04-05 12:18:31  \n",
       "141787       35083  2016-04-06 20:19:15  \n",
       "37523        13627  2016-03-24 10:38:57  \n",
       "194192       58135  2016-03-18 02:17:06  \n",
       "110210       24598  2016-04-02 12:45:46  "
      ]
     },
     "execution_count": 12,
     "metadata": {},
     "output_type": "execute_result"
    }
   ],
   "source": [
    "data.sample(5, random_state=GLOBAL_RANDOM_STATE)"
   ]
  },
  {
   "cell_type": "code",
   "execution_count": 13,
   "metadata": {},
   "outputs": [
    {
     "data": {
      "text/html": [
       "<div>\n",
       "<style scoped>\n",
       "    .dataframe tbody tr th:only-of-type {\n",
       "        vertical-align: middle;\n",
       "    }\n",
       "\n",
       "    .dataframe tbody tr th {\n",
       "        vertical-align: top;\n",
       "    }\n",
       "\n",
       "    .dataframe thead th {\n",
       "        text-align: right;\n",
       "    }\n",
       "</style>\n",
       "<table border=\"1\" class=\"dataframe\">\n",
       "  <thead>\n",
       "    <tr style=\"text-align: right;\">\n",
       "      <th></th>\n",
       "      <th>Price</th>\n",
       "      <th>RegistrationYear</th>\n",
       "      <th>Power</th>\n",
       "      <th>Kilometer</th>\n",
       "      <th>RegistrationMonth</th>\n",
       "      <th>NumberOfPictures</th>\n",
       "      <th>PostalCode</th>\n",
       "    </tr>\n",
       "  </thead>\n",
       "  <tbody>\n",
       "    <tr>\n",
       "      <td>count</td>\n",
       "      <td>354369.000000</td>\n",
       "      <td>354369.000000</td>\n",
       "      <td>354369.000000</td>\n",
       "      <td>354369.000000</td>\n",
       "      <td>354369.000000</td>\n",
       "      <td>354369.0</td>\n",
       "      <td>354369.000000</td>\n",
       "    </tr>\n",
       "    <tr>\n",
       "      <td>mean</td>\n",
       "      <td>4416.656776</td>\n",
       "      <td>2004.234448</td>\n",
       "      <td>110.094337</td>\n",
       "      <td>128211.172535</td>\n",
       "      <td>5.714645</td>\n",
       "      <td>0.0</td>\n",
       "      <td>50508.689087</td>\n",
       "    </tr>\n",
       "    <tr>\n",
       "      <td>std</td>\n",
       "      <td>4514.158514</td>\n",
       "      <td>90.227958</td>\n",
       "      <td>189.850405</td>\n",
       "      <td>37905.341530</td>\n",
       "      <td>3.726421</td>\n",
       "      <td>0.0</td>\n",
       "      <td>25783.096248</td>\n",
       "    </tr>\n",
       "    <tr>\n",
       "      <td>min</td>\n",
       "      <td>0.000000</td>\n",
       "      <td>1000.000000</td>\n",
       "      <td>0.000000</td>\n",
       "      <td>5000.000000</td>\n",
       "      <td>0.000000</td>\n",
       "      <td>0.0</td>\n",
       "      <td>1067.000000</td>\n",
       "    </tr>\n",
       "    <tr>\n",
       "      <td>25%</td>\n",
       "      <td>1050.000000</td>\n",
       "      <td>1999.000000</td>\n",
       "      <td>69.000000</td>\n",
       "      <td>125000.000000</td>\n",
       "      <td>3.000000</td>\n",
       "      <td>0.0</td>\n",
       "      <td>30165.000000</td>\n",
       "    </tr>\n",
       "    <tr>\n",
       "      <td>50%</td>\n",
       "      <td>2700.000000</td>\n",
       "      <td>2003.000000</td>\n",
       "      <td>105.000000</td>\n",
       "      <td>150000.000000</td>\n",
       "      <td>6.000000</td>\n",
       "      <td>0.0</td>\n",
       "      <td>49413.000000</td>\n",
       "    </tr>\n",
       "    <tr>\n",
       "      <td>75%</td>\n",
       "      <td>6400.000000</td>\n",
       "      <td>2008.000000</td>\n",
       "      <td>143.000000</td>\n",
       "      <td>150000.000000</td>\n",
       "      <td>9.000000</td>\n",
       "      <td>0.0</td>\n",
       "      <td>71083.000000</td>\n",
       "    </tr>\n",
       "    <tr>\n",
       "      <td>max</td>\n",
       "      <td>20000.000000</td>\n",
       "      <td>9999.000000</td>\n",
       "      <td>20000.000000</td>\n",
       "      <td>150000.000000</td>\n",
       "      <td>12.000000</td>\n",
       "      <td>0.0</td>\n",
       "      <td>99998.000000</td>\n",
       "    </tr>\n",
       "  </tbody>\n",
       "</table>\n",
       "</div>"
      ],
      "text/plain": [
       "               Price  RegistrationYear          Power      Kilometer  \\\n",
       "count  354369.000000     354369.000000  354369.000000  354369.000000   \n",
       "mean     4416.656776       2004.234448     110.094337  128211.172535   \n",
       "std      4514.158514         90.227958     189.850405   37905.341530   \n",
       "min         0.000000       1000.000000       0.000000    5000.000000   \n",
       "25%      1050.000000       1999.000000      69.000000  125000.000000   \n",
       "50%      2700.000000       2003.000000     105.000000  150000.000000   \n",
       "75%      6400.000000       2008.000000     143.000000  150000.000000   \n",
       "max     20000.000000       9999.000000   20000.000000  150000.000000   \n",
       "\n",
       "       RegistrationMonth  NumberOfPictures     PostalCode  \n",
       "count      354369.000000          354369.0  354369.000000  \n",
       "mean            5.714645               0.0   50508.689087  \n",
       "std             3.726421               0.0   25783.096248  \n",
       "min             0.000000               0.0    1067.000000  \n",
       "25%             3.000000               0.0   30165.000000  \n",
       "50%             6.000000               0.0   49413.000000  \n",
       "75%             9.000000               0.0   71083.000000  \n",
       "max            12.000000               0.0   99998.000000  "
      ]
     },
     "execution_count": 13,
     "metadata": {},
     "output_type": "execute_result"
    }
   ],
   "source": [
    "data.describe()"
   ]
  },
  {
   "cell_type": "markdown",
   "metadata": {},
   "source": [
    "<div style=\"background: #cceeaa; padding: 5px; border: 1px solid green; border-radius: 5px;\">\n",
    "<font color='green'><u><b>КОММЕНТАРИЙ РЕВЬЮЕРА</b></u><br />\n",
    "<font color='green'>ОК, данные на базе)"
   ]
  },
  {
   "cell_type": "markdown",
   "metadata": {},
   "source": [
    "Подробнее: **DateCrawled**, **DateCreated**, **LastSeen**, **RegistrationYear** и **RegistrationMonth**"
   ]
  },
  {
   "cell_type": "code",
   "execution_count": 14,
   "metadata": {},
   "outputs": [
    {
     "data": {
      "image/png": "[encoded data removed]",
      "text/plain": [
       "<Figure size 1224x360 with 1 Axes>"
      ]
     },
     "metadata": {
      "needs_background": "light"
     },
     "output_type": "display_data"
    }
   ],
   "source": [
    "boxplot(\n",
    "        [data[['RegistrationYear']]],\n",
    "        figsize=(17,5), \n",
    "        fontsize=16,\n",
    "        title=f'RegistrationYear boxplot'\n",
    ") "
   ]
  },
  {
   "cell_type": "markdown",
   "metadata": {},
   "source": [
    "Удалим всю \"явную фантастику\", т.е. автомобили, имеющие RegistrationYear > 2022 года (данную работу мы пишем в 2021):"
   ]
  },
  {
   "cell_type": "code",
   "execution_count": 15,
   "metadata": {},
   "outputs": [],
   "source": [
    "data = data.query('RegistrationYear <= 2022')"
   ]
  },
  {
   "cell_type": "markdown",
   "metadata": {},
   "source": [
    "В прошлом тоже ошибки: как известно (https://ru.wikipedia.org/wiki/История_автомобиля) Бенц создал первый автомобиль в 1885. Вряд ли он вообще попадает в нашу выборку, но все же:"
   ]
  },
  {
   "cell_type": "code",
   "execution_count": 16,
   "metadata": {},
   "outputs": [
    {
     "data": {
      "image/png": "[encoded data removed]",
      "text/plain": [
       "<Figure size 1224x432 with 1 Axes>"
      ]
     },
     "metadata": {
      "needs_background": "light"
     },
     "output_type": "display_data"
    }
   ],
   "source": [
    "hist(\n",
    "        onecolumn_frames_list = [data[['RegistrationYear']].query('1885 <= RegistrationYear <= 2022')],\n",
    "        xlab='Год',\n",
    "        ylab='Частота в выборке',\n",
    "        title='Распределение параметра RegistrationYear, годы = [1885..2022]',\n",
    "        fontsize=18,\n",
    "        bins=200,\n",
    "        figsize=(17,6),\n",
    "        xrange=(1885, 2022)\n",
    "    )"
   ]
  },
  {
   "cell_type": "code",
   "execution_count": 17,
   "metadata": {},
   "outputs": [
    {
     "data": {
      "image/png": "[encoded data removed]",
      "text/plain": [
       "<Figure size 1224x432 with 1 Axes>"
      ]
     },
     "metadata": {
      "needs_background": "light"
     },
     "output_type": "display_data"
    }
   ],
   "source": [
    "hist(\n",
    "        onecolumn_frames_list = [data[['RegistrationYear']].query('1900 <= RegistrationYear <= 1980')],\n",
    "        xlab='Год',\n",
    "        ylab='Частота в выборке',\n",
    "        title='Распределение RegistrationYear, годы = [1900-1980], масштаб частоты = [0..2000]',\n",
    "        fontsize=18,\n",
    "        bins=200,\n",
    "        figsize=(17,6),\n",
    "        xrange=(1900, 1980),\n",
    "        yrange=(0,2000)\n",
    "    )"
   ]
  },
  {
   "cell_type": "markdown",
   "metadata": {},
   "source": [
    "Отбросим все, что было зарегистрировано ранее 1950, т.к. незначимо по количеству + это явно отдельный рынок даже не \"ретро-авто\", а \"музейных экспонатов\":"
   ]
  },
  {
   "cell_type": "code",
   "execution_count": 18,
   "metadata": {},
   "outputs": [],
   "source": [
    "data = data.query('RegistrationYear > 1950')"
   ]
  },
  {
   "cell_type": "markdown",
   "metadata": {},
   "source": [
    "<div style=\"background: #cceeaa; padding: 5px; border: 1px solid green; border-radius: 5px;\">\n",
    "<font color='green'><u><b>КОММЕНТАРИЙ РЕВЬЮЕРА</b></u></font><br />\n",
    "<font color='green'>\n",
    "Отличное исследование (вместе с ссылкой на источник данных!)<br>\n",
    "Есть пару моментов на обсуждение:<br>\n",
    "1) последняя дата регистрации на сайте - 2016 год. Значит всё что больше 2016 - аномалии..<br>\n",
    "2) нижняя отсечка 1950: Полностью согласен, что до того времени совсем иное ценнообразование у машин, ОК. Если в целом, то тут с бизнесом можно пообщаться на предмет - какие машины на сервисе будут. Ретро, супер ретро, люьые или только не старше 40 , например. Ну и исходя из этого - выставлять отсечку...."
   ]
  },
  {
   "cell_type": "markdown",
   "metadata": {},
   "source": [
    "<div class=\"alert alert-block alert-info\">\n",
    "<b>Комментарий студента:</b> \n",
    "    \n",
    "1. Да, я тоже изначально так думал. Потом пришел к тому, что у нас - \"датасет с особенностями\". Но даже без гипотезы \"данные о годе регистрации могли обновить после скачиваения\", допустима ситуация, когда \"купил машину под продажу, она к тебе едет, но ты ее уже выставил на сайте и планируешь зарегистрировать в будущем\". Здесь действительно - поможет только \"понимание от бизнеса\"\n",
    "1. Давай  посмотрим на вопрос \"совсем серьезно\", а не просто \"отсечкой\": у нас 300K строк, мы можем смело \"брать максимально узкие срезы\" и учить регрессию на них; с учетом того, что даже в этих срезах будет много данных (тысячи или даже десятки тысяч для популярных машин), \"специализированная регрессия\" **скорее всего** будет многократно точнее \"обобщенной\"\n",
    "</div>"
   ]
  },
  {
   "cell_type": "markdown",
   "metadata": {},
   "source": [
    "<div style=\"background: #cceeaa; padding: 5px; border: 1px solid green; border-radius: 5px;\">\n",
    "<font color='green'><u><b>КОММЕНТАРИЙ РЕВЬЮЕРА 2</b></u><br>\n",
    "<font color='green'>согласен, можно взять узкие интерваы в разрезе сегмента авто (старая, ретро...)"
   ]
  },
  {
   "cell_type": "markdown",
   "metadata": {},
   "source": [
    "Изучение registrationMonth вызывает две гипотезы:\n",
    "1. Данные являются сводов из нескольких баз, в части из которых месяц задается как 0..11, а в части - как 1..12\n",
    "1. Возможно, указывали 0, когда не знали или не хотели указывать месяц регистрации, а 1..12 - номера месяцев (наиболее вероятно)"
   ]
  },
  {
   "cell_type": "code",
   "execution_count": 19,
   "metadata": {},
   "outputs": [
    {
     "data": {
      "image/png": "[encoded data removed]",
      "text/plain": [
       "<Figure size 1224x432 with 1 Axes>"
      ]
     },
     "metadata": {
      "needs_background": "light"
     },
     "output_type": "display_data"
    }
   ],
   "source": [
    "hist(\n",
    "        onecolumn_frames_list = [data[['RegistrationMonth']]],\n",
    "        xlab='Месяц (номер)',\n",
    "        ylab='Частота в выборке',\n",
    "        title='Распределение параметра RegistrationMonth',\n",
    "        fontsize=18,\n",
    "        bins=200,\n",
    "        figsize=(17,6)\n",
    "    )"
   ]
  },
  {
   "cell_type": "markdown",
   "metadata": {},
   "source": [
    "Поскольку, мы ограничились 1950-ым в качестве RegistrationYear, можно легко заменить пару RegistrationYear и RegistrationMonth на хороший (сравнимый) численный признак RegMonthsFrom1950 (хотя тут мы несколько \"размываем\" признак, что может сказаться на результате):"
   ]
  },
  {
   "cell_type": "code",
   "execution_count": 20,
   "metadata": {},
   "outputs": [],
   "source": [
    "data['RegMonthsFrom1950'] = 12 * (data['RegistrationYear'] - 1950) + data['RegistrationMonth']"
   ]
  },
  {
   "cell_type": "markdown",
   "metadata": {},
   "source": [
    "<div style=\"background: #cceeaa; padding: 5px; border: 1px solid green; border-radius: 5px;\">\n",
    "<font color='green'><u><b>КОММЕНТАРИЙ РЕВЬЮЕРА</b></u></font><br />\n",
    "<font color='green'>\n",
    "Тут, скорее, можно месяц отбросить. На цену больше влияет именно возраст (год регистрации). Но попробовать можно и это признак."
   ]
  },
  {
   "cell_type": "markdown",
   "metadata": {},
   "source": [
    "Создадим datetime-признаки для удобства дополнительного форматного контроля:"
   ]
  },
  {
   "cell_type": "code",
   "execution_count": 21,
   "metadata": {},
   "outputs": [],
   "source": [
    "data['DateCrawledDT'] = data['DateCrawled'].astype('datetime64')\n",
    "data['DateCreatedDT'] = data['DateCreated'].astype('datetime64')\n",
    "data['LastSeenDT'] = data['LastSeen'].astype('datetime64')"
   ]
  },
  {
   "cell_type": "markdown",
   "metadata": {},
   "source": [
    "Чего мы **не ожидаем**? Например, того, что DateCreated будет больше DateCrawled, и это верно:"
   ]
  },
  {
   "cell_type": "code",
   "execution_count": 22,
   "metadata": {},
   "outputs": [
    {
     "data": {
      "text/plain": [
       "0"
      ]
     },
     "execution_count": 22,
     "metadata": {},
     "output_type": "execute_result"
    }
   ],
   "source": [
    "data.query('DateCreatedDT > DateCrawledDT')['DateCreated'].count()"
   ]
  },
  {
   "cell_type": "markdown",
   "metadata": {},
   "source": [
    "Мы также вправе ожидать, что LastSeen всегда меньше DateCrawled ... **но это неверно**:"
   ]
  },
  {
   "cell_type": "code",
   "execution_count": 23,
   "metadata": {},
   "outputs": [
    {
     "data": {
      "text/plain": [
       "354000"
      ]
     },
     "execution_count": 23,
     "metadata": {},
     "output_type": "execute_result"
    }
   ],
   "source": [
    "data.query('DateCreatedDT < LastSeenDT')['LastSeen'].count()"
   ]
  },
  {
   "cell_type": "markdown",
   "metadata": {},
   "source": [
    "Т.е. информация о последней активности пользователя поступает к нам **после** того, как мы скачали анекту. Ok, сформируем хороший численный признак, например DaysOnSale, как разность между датой создания объявдения и последней активностью пользователя (используем \"слабую\" гипотезу \"один пользователь продает только один автомобиль и перестает посещать сайт после продажи\", но будем считать ее верной):"
   ]
  },
  {
   "cell_type": "code",
   "execution_count": 24,
   "metadata": {},
   "outputs": [],
   "source": [
    "data['DaysOnSale'] = (data['LastSeenDT'] - data['DateCreatedDT']).dt.days"
   ]
  },
  {
   "cell_type": "markdown",
   "metadata": {},
   "source": [
    "<div style=\"background: #cceeaa; padding: 5px; border: 1px solid green; border-radius: 5px;\">\n",
    "<font color='green'><u><b>КОММЕНТАРИЙ РЕВЬЮЕРА</b></u></font><br />\n",
    "<font color='green'>\n",
    "ОК, здорово проверил всё)"
   ]
  },
  {
   "cell_type": "markdown",
   "metadata": {},
   "source": [
    "В завершении, удалим бессмысленный с точки зрения определения цены DateCrawled и первичные признаки (как зависимые):"
   ]
  },
  {
   "cell_type": "code",
   "execution_count": 25,
   "metadata": {},
   "outputs": [],
   "source": [
    "data = data.drop(\n",
    "    columns=[\n",
    "        'LastSeenDT',\n",
    "        'LastSeen',\n",
    "        'DateCrawledDT',\n",
    "        'DateCrawled',\n",
    "        'DateCreatedDT',\n",
    "        'DateCreated',\n",
    "        'RegistrationYear',\n",
    "        'RegistrationMonth']\n",
    "    )"
   ]
  },
  {
   "cell_type": "markdown",
   "metadata": {},
   "source": [
    "<div style=\"background: #ffeeaa; padding: 5px; border: 1px solid green; border-radius: 5px;\">\n",
    "<font color='green'><u><b>КОММЕНТАРИЙ РЕВЬЮЕРА</b></u></font><br />\n",
    "<font color='green'>\n",
    "Как вараинт - ОК. Ещё можно почтовый код (слишком много категорий, прсто набор цифр) и \"количесвто фото\" (константа)"
   ]
  },
  {
   "cell_type": "markdown",
   "metadata": {},
   "source": [
    "<div class=\"alert alert-block alert-info\">\n",
    "<b>Комментарий студента:</b> \n",
    "Не соглашусь с почтовым кодом: давай мысленно сравним цели на японские машины в Москве и Владивостоке и \"почувствуем разницу\". Почтовый код <b>скорее всего</b> - признак с высоким уровнем значимой информации (хотя работа с ним затруднена из-за невозможности хорошей группировки хотя бы по региону - у нас в базе разные коды ранзных форматов), но другое дело - техническая возможность работы с ним (в итоге и не работаю с ним из-за памяти)    \n",
    "</div>"
   ]
  },
  {
   "cell_type": "markdown",
   "metadata": {},
   "source": [
    "<div style=\"background: #cceeaa; padding: 5px; border: 1px solid green; border-radius: 5px;\">\n",
    "<font color='green'><u><b>КОММЕНТАРИЙ РЕВЬЮЕРА 2</b></u><br>\n",
    "<font color='green'>ок, ниже как раз оставлял предложение, как гипотезу, что можно от кода можно поиспользовать пару первых цифр. Тогда категории будут более рельефные и в модели будут \"играть\" интереснее)"
   ]
  },
  {
   "cell_type": "code",
   "execution_count": 26,
   "metadata": {},
   "outputs": [
    {
     "data": {
      "text/html": [
       "<style  type=\"text/css\" >\n",
       "    #T_c93e5dc0_b7d0_11eb_865f_02420a39047erow0_col2 {\n",
       "            width:  10em;\n",
       "             height:  80%;\n",
       "        }    #T_c93e5dc0_b7d0_11eb_865f_02420a39047erow1_col2 {\n",
       "            width:  10em;\n",
       "             height:  80%;\n",
       "        }    #T_c93e5dc0_b7d0_11eb_865f_02420a39047erow2_col2 {\n",
       "            width:  10em;\n",
       "             height:  80%;\n",
       "        }    #T_c93e5dc0_b7d0_11eb_865f_02420a39047erow3_col2 {\n",
       "            width:  10em;\n",
       "             height:  80%;\n",
       "        }    #T_c93e5dc0_b7d0_11eb_865f_02420a39047erow4_col2 {\n",
       "            width:  10em;\n",
       "             height:  80%;\n",
       "        }    #T_c93e5dc0_b7d0_11eb_865f_02420a39047erow5_col2 {\n",
       "            width:  10em;\n",
       "             height:  80%;\n",
       "        }    #T_c93e5dc0_b7d0_11eb_865f_02420a39047erow6_col2 {\n",
       "            width:  10em;\n",
       "             height:  80%;\n",
       "        }    #T_c93e5dc0_b7d0_11eb_865f_02420a39047erow7_col2 {\n",
       "            width:  10em;\n",
       "             height:  80%;\n",
       "        }    #T_c93e5dc0_b7d0_11eb_865f_02420a39047erow8_col2 {\n",
       "            width:  10em;\n",
       "             height:  80%;\n",
       "            background:  linear-gradient(90deg,lightblue 27.6%, transparent 27.6%);\n",
       "        }    #T_c93e5dc0_b7d0_11eb_865f_02420a39047erow9_col2 {\n",
       "            width:  10em;\n",
       "             height:  80%;\n",
       "            background:  linear-gradient(90deg,lightblue 27.6%, transparent 27.6%);\n",
       "        }    #T_c93e5dc0_b7d0_11eb_865f_02420a39047erow10_col2 {\n",
       "            width:  10em;\n",
       "             height:  80%;\n",
       "            background:  linear-gradient(90deg,lightblue 46.1%, transparent 46.1%);\n",
       "        }    #T_c93e5dc0_b7d0_11eb_865f_02420a39047erow11_col2 {\n",
       "            width:  10em;\n",
       "             height:  80%;\n",
       "            background:  linear-gradient(90deg,lightblue 52.5%, transparent 52.5%);\n",
       "        }    #T_c93e5dc0_b7d0_11eb_865f_02420a39047erow12_col2 {\n",
       "            width:  10em;\n",
       "             height:  80%;\n",
       "            background:  linear-gradient(90deg,lightblue 100.0%, transparent 100.0%);\n",
       "        }</style><table id=\"T_c93e5dc0_b7d0_11eb_865f_02420a39047e\" ><thead>    <tr>        <th class=\"blank level0\" ></th>        <th class=\"col_heading level0 col0\" >Non-Nans</th>        <th class=\"col_heading level0 col1\" >Nans</th>        <th class=\"col_heading level0 col2\" >Nans_share</th>        <th class=\"col_heading level0 col3\" >Type</th>    </tr></thead><tbody>\n",
       "                <tr>\n",
       "                        <th id=\"T_c93e5dc0_b7d0_11eb_865f_02420a39047elevel0_row0\" class=\"row_heading level0 row0\" >Price</th>\n",
       "                        <td id=\"T_c93e5dc0_b7d0_11eb_865f_02420a39047erow0_col0\" class=\"data row0 col0\" >354000</td>\n",
       "                        <td id=\"T_c93e5dc0_b7d0_11eb_865f_02420a39047erow0_col1\" class=\"data row0 col1\" >0</td>\n",
       "                        <td id=\"T_c93e5dc0_b7d0_11eb_865f_02420a39047erow0_col2\" class=\"data row0 col2\" >0</td>\n",
       "                        <td id=\"T_c93e5dc0_b7d0_11eb_865f_02420a39047erow0_col3\" class=\"data row0 col3\" >int64</td>\n",
       "            </tr>\n",
       "            <tr>\n",
       "                        <th id=\"T_c93e5dc0_b7d0_11eb_865f_02420a39047elevel0_row1\" class=\"row_heading level0 row1\" >Power</th>\n",
       "                        <td id=\"T_c93e5dc0_b7d0_11eb_865f_02420a39047erow1_col0\" class=\"data row1 col0\" >354000</td>\n",
       "                        <td id=\"T_c93e5dc0_b7d0_11eb_865f_02420a39047erow1_col1\" class=\"data row1 col1\" >0</td>\n",
       "                        <td id=\"T_c93e5dc0_b7d0_11eb_865f_02420a39047erow1_col2\" class=\"data row1 col2\" >0</td>\n",
       "                        <td id=\"T_c93e5dc0_b7d0_11eb_865f_02420a39047erow1_col3\" class=\"data row1 col3\" >int64</td>\n",
       "            </tr>\n",
       "            <tr>\n",
       "                        <th id=\"T_c93e5dc0_b7d0_11eb_865f_02420a39047elevel0_row2\" class=\"row_heading level0 row2\" >Kilometer</th>\n",
       "                        <td id=\"T_c93e5dc0_b7d0_11eb_865f_02420a39047erow2_col0\" class=\"data row2 col0\" >354000</td>\n",
       "                        <td id=\"T_c93e5dc0_b7d0_11eb_865f_02420a39047erow2_col1\" class=\"data row2 col1\" >0</td>\n",
       "                        <td id=\"T_c93e5dc0_b7d0_11eb_865f_02420a39047erow2_col2\" class=\"data row2 col2\" >0</td>\n",
       "                        <td id=\"T_c93e5dc0_b7d0_11eb_865f_02420a39047erow2_col3\" class=\"data row2 col3\" >int64</td>\n",
       "            </tr>\n",
       "            <tr>\n",
       "                        <th id=\"T_c93e5dc0_b7d0_11eb_865f_02420a39047elevel0_row3\" class=\"row_heading level0 row3\" >Brand</th>\n",
       "                        <td id=\"T_c93e5dc0_b7d0_11eb_865f_02420a39047erow3_col0\" class=\"data row3 col0\" >354000</td>\n",
       "                        <td id=\"T_c93e5dc0_b7d0_11eb_865f_02420a39047erow3_col1\" class=\"data row3 col1\" >0</td>\n",
       "                        <td id=\"T_c93e5dc0_b7d0_11eb_865f_02420a39047erow3_col2\" class=\"data row3 col2\" >0</td>\n",
       "                        <td id=\"T_c93e5dc0_b7d0_11eb_865f_02420a39047erow3_col3\" class=\"data row3 col3\" >object</td>\n",
       "            </tr>\n",
       "            <tr>\n",
       "                        <th id=\"T_c93e5dc0_b7d0_11eb_865f_02420a39047elevel0_row4\" class=\"row_heading level0 row4\" >NumberOfPictures</th>\n",
       "                        <td id=\"T_c93e5dc0_b7d0_11eb_865f_02420a39047erow4_col0\" class=\"data row4 col0\" >354000</td>\n",
       "                        <td id=\"T_c93e5dc0_b7d0_11eb_865f_02420a39047erow4_col1\" class=\"data row4 col1\" >0</td>\n",
       "                        <td id=\"T_c93e5dc0_b7d0_11eb_865f_02420a39047erow4_col2\" class=\"data row4 col2\" >0</td>\n",
       "                        <td id=\"T_c93e5dc0_b7d0_11eb_865f_02420a39047erow4_col3\" class=\"data row4 col3\" >int64</td>\n",
       "            </tr>\n",
       "            <tr>\n",
       "                        <th id=\"T_c93e5dc0_b7d0_11eb_865f_02420a39047elevel0_row5\" class=\"row_heading level0 row5\" >PostalCode</th>\n",
       "                        <td id=\"T_c93e5dc0_b7d0_11eb_865f_02420a39047erow5_col0\" class=\"data row5 col0\" >354000</td>\n",
       "                        <td id=\"T_c93e5dc0_b7d0_11eb_865f_02420a39047erow5_col1\" class=\"data row5 col1\" >0</td>\n",
       "                        <td id=\"T_c93e5dc0_b7d0_11eb_865f_02420a39047erow5_col2\" class=\"data row5 col2\" >0</td>\n",
       "                        <td id=\"T_c93e5dc0_b7d0_11eb_865f_02420a39047erow5_col3\" class=\"data row5 col3\" >int64</td>\n",
       "            </tr>\n",
       "            <tr>\n",
       "                        <th id=\"T_c93e5dc0_b7d0_11eb_865f_02420a39047elevel0_row6\" class=\"row_heading level0 row6\" >RegMonthsFrom1950</th>\n",
       "                        <td id=\"T_c93e5dc0_b7d0_11eb_865f_02420a39047erow6_col0\" class=\"data row6 col0\" >354000</td>\n",
       "                        <td id=\"T_c93e5dc0_b7d0_11eb_865f_02420a39047erow6_col1\" class=\"data row6 col1\" >0</td>\n",
       "                        <td id=\"T_c93e5dc0_b7d0_11eb_865f_02420a39047erow6_col2\" class=\"data row6 col2\" >0</td>\n",
       "                        <td id=\"T_c93e5dc0_b7d0_11eb_865f_02420a39047erow6_col3\" class=\"data row6 col3\" >int64</td>\n",
       "            </tr>\n",
       "            <tr>\n",
       "                        <th id=\"T_c93e5dc0_b7d0_11eb_865f_02420a39047elevel0_row7\" class=\"row_heading level0 row7\" >DaysOnSale</th>\n",
       "                        <td id=\"T_c93e5dc0_b7d0_11eb_865f_02420a39047erow7_col0\" class=\"data row7 col0\" >354000</td>\n",
       "                        <td id=\"T_c93e5dc0_b7d0_11eb_865f_02420a39047erow7_col1\" class=\"data row7 col1\" >0</td>\n",
       "                        <td id=\"T_c93e5dc0_b7d0_11eb_865f_02420a39047erow7_col2\" class=\"data row7 col2\" >0</td>\n",
       "                        <td id=\"T_c93e5dc0_b7d0_11eb_865f_02420a39047erow7_col3\" class=\"data row7 col3\" >int64</td>\n",
       "            </tr>\n",
       "            <tr>\n",
       "                        <th id=\"T_c93e5dc0_b7d0_11eb_865f_02420a39047elevel0_row8\" class=\"row_heading level0 row8\" >Model</th>\n",
       "                        <td id=\"T_c93e5dc0_b7d0_11eb_865f_02420a39047erow8_col0\" class=\"data row8 col0\" >334466</td>\n",
       "                        <td id=\"T_c93e5dc0_b7d0_11eb_865f_02420a39047erow8_col1\" class=\"data row8 col1\" >19534</td>\n",
       "                        <td id=\"T_c93e5dc0_b7d0_11eb_865f_02420a39047erow8_col2\" class=\"data row8 col2\" >0.0551808</td>\n",
       "                        <td id=\"T_c93e5dc0_b7d0_11eb_865f_02420a39047erow8_col3\" class=\"data row8 col3\" >object</td>\n",
       "            </tr>\n",
       "            <tr>\n",
       "                        <th id=\"T_c93e5dc0_b7d0_11eb_865f_02420a39047elevel0_row9\" class=\"row_heading level0 row9\" >Gearbox</th>\n",
       "                        <td id=\"T_c93e5dc0_b7d0_11eb_865f_02420a39047erow9_col0\" class=\"data row9 col0\" >334403</td>\n",
       "                        <td id=\"T_c93e5dc0_b7d0_11eb_865f_02420a39047erow9_col1\" class=\"data row9 col1\" >19597</td>\n",
       "                        <td id=\"T_c93e5dc0_b7d0_11eb_865f_02420a39047erow9_col2\" class=\"data row9 col2\" >0.0553588</td>\n",
       "                        <td id=\"T_c93e5dc0_b7d0_11eb_865f_02420a39047erow9_col3\" class=\"data row9 col3\" >object</td>\n",
       "            </tr>\n",
       "            <tr>\n",
       "                        <th id=\"T_c93e5dc0_b7d0_11eb_865f_02420a39047elevel0_row10\" class=\"row_heading level0 row10\" >FuelType</th>\n",
       "                        <td id=\"T_c93e5dc0_b7d0_11eb_865f_02420a39047erow10_col0\" class=\"data row10 col0\" >321323</td>\n",
       "                        <td id=\"T_c93e5dc0_b7d0_11eb_865f_02420a39047erow10_col1\" class=\"data row10 col1\" >32677</td>\n",
       "                        <td id=\"T_c93e5dc0_b7d0_11eb_865f_02420a39047erow10_col2\" class=\"data row10 col2\" >0.0923079</td>\n",
       "                        <td id=\"T_c93e5dc0_b7d0_11eb_865f_02420a39047erow10_col3\" class=\"data row10 col3\" >object</td>\n",
       "            </tr>\n",
       "            <tr>\n",
       "                        <th id=\"T_c93e5dc0_b7d0_11eb_865f_02420a39047elevel0_row11\" class=\"row_heading level0 row11\" >VehicleType</th>\n",
       "                        <td id=\"T_c93e5dc0_b7d0_11eb_865f_02420a39047erow11_col0\" class=\"data row11 col0\" >316755</td>\n",
       "                        <td id=\"T_c93e5dc0_b7d0_11eb_865f_02420a39047erow11_col1\" class=\"data row11 col1\" >37245</td>\n",
       "                        <td id=\"T_c93e5dc0_b7d0_11eb_865f_02420a39047erow11_col2\" class=\"data row11 col2\" >0.105212</td>\n",
       "                        <td id=\"T_c93e5dc0_b7d0_11eb_865f_02420a39047erow11_col3\" class=\"data row11 col3\" >object</td>\n",
       "            </tr>\n",
       "            <tr>\n",
       "                        <th id=\"T_c93e5dc0_b7d0_11eb_865f_02420a39047elevel0_row12\" class=\"row_heading level0 row12\" >NotRepaired</th>\n",
       "                        <td id=\"T_c93e5dc0_b7d0_11eb_865f_02420a39047erow12_col0\" class=\"data row12 col0\" >283123</td>\n",
       "                        <td id=\"T_c93e5dc0_b7d0_11eb_865f_02420a39047erow12_col1\" class=\"data row12 col1\" >70877</td>\n",
       "                        <td id=\"T_c93e5dc0_b7d0_11eb_865f_02420a39047erow12_col2\" class=\"data row12 col2\" >0.200218</td>\n",
       "                        <td id=\"T_c93e5dc0_b7d0_11eb_865f_02420a39047erow12_col3\" class=\"data row12 col3\" >object</td>\n",
       "            </tr>\n",
       "    </tbody></table>"
      ],
      "text/plain": [
       "<pandas.io.formats.style.Styler at 0x7f975cfc71d0>"
      ]
     },
     "execution_count": 26,
     "metadata": {},
     "output_type": "execute_result"
    }
   ],
   "source": [
    "frame_info(data)"
   ]
  },
  {
   "cell_type": "markdown",
   "metadata": {},
   "source": [
    "Подробнее: **Price**"
   ]
  },
  {
   "cell_type": "code",
   "execution_count": 27,
   "metadata": {},
   "outputs": [
    {
     "data": {
      "image/png": "[encoded data removed]",
      "text/plain": [
       "<Figure size 1224x360 with 1 Axes>"
      ]
     },
     "metadata": {
      "needs_background": "light"
     },
     "output_type": "display_data"
    }
   ],
   "source": [
    "boxplot(\n",
    "        [data[['Price']]],\n",
    "        figsize=(17,5), \n",
    "        fontsize=16,\n",
    "        title=f'Price boxplot'\n",
    ") "
   ]
  },
  {
   "cell_type": "code",
   "execution_count": 28,
   "metadata": {},
   "outputs": [
    {
     "data": {
      "image/png": "[encoded data removed]",
      "text/plain": [
       "<Figure size 1224x432 with 1 Axes>"
      ]
     },
     "metadata": {
      "needs_background": "light"
     },
     "output_type": "display_data"
    }
   ],
   "source": [
    "hist(\n",
    "        onecolumn_frames_list = [data[['Price']]],\n",
    "        xlab='Цена',\n",
    "        ylab='Частота в выборке',\n",
    "        title='Распределение параметра Price',\n",
    "        fontsize=18,\n",
    "        bins=200,\n",
    "        figsize=(17,6)\n",
    "    )"
   ]
  },
  {
   "cell_type": "markdown",
   "metadata": {},
   "source": [
    "Да, люди любят \"круглые цифры\" (как и деньги в целом). Ничего интересного, кроме большого количества дешевых авто:"
   ]
  },
  {
   "cell_type": "markdown",
   "metadata": {},
   "source": [
    "<div style=\"background: #cceeaa; padding: 5px; border: 1px solid green; border-radius: 5px;\">\n",
    "<font color='green'><u><b>КОММЕНТАРИЙ РЕВЬЮЕРА</b></u></font><br />\n",
    "<font color='green'>\n",
    ":)"
   ]
  },
  {
   "cell_type": "code",
   "execution_count": 29,
   "metadata": {},
   "outputs": [
    {
     "data": {
      "image/png": "[encoded data removed]",
      "text/plain": [
       "<Figure size 1224x432 with 1 Axes>"
      ]
     },
     "metadata": {
      "needs_background": "light"
     },
     "output_type": "display_data"
    }
   ],
   "source": [
    "hist(\n",
    "        onecolumn_frames_list = [data[['Price']].query('0 <= Price <= 500')],\n",
    "        xlab='Цена',\n",
    "        ylab='Частота в выборке',\n",
    "        title='Распределение параметра Price в интервале [0..500]',\n",
    "        fontsize=18,\n",
    "        bins=200,\n",
    "        xrange=(0,500),\n",
    "        figsize=(17,6)\n",
    "    )"
   ]
  },
  {
   "cell_type": "markdown",
   "metadata": {},
   "source": [
    "Автохлам? Может, и даром отдают? Да, и это большая часть при Price < 100:"
   ]
  },
  {
   "cell_type": "code",
   "execution_count": 30,
   "metadata": {},
   "outputs": [
    {
     "data": {
      "text/html": [
       "<div>\n",
       "<style scoped>\n",
       "    .dataframe tbody tr th:only-of-type {\n",
       "        vertical-align: middle;\n",
       "    }\n",
       "\n",
       "    .dataframe tbody tr th {\n",
       "        vertical-align: top;\n",
       "    }\n",
       "\n",
       "    .dataframe thead th {\n",
       "        text-align: right;\n",
       "    }\n",
       "</style>\n",
       "<table border=\"1\" class=\"dataframe\">\n",
       "  <thead>\n",
       "    <tr style=\"text-align: right;\">\n",
       "      <th></th>\n",
       "      <th>Brand</th>\n",
       "      <th>Model</th>\n",
       "      <th>Price</th>\n",
       "    </tr>\n",
       "  </thead>\n",
       "  <tbody>\n",
       "    <tr>\n",
       "      <td>7</td>\n",
       "      <td>volkswagen</td>\n",
       "      <td>other</td>\n",
       "      <td>0</td>\n",
       "    </tr>\n",
       "    <tr>\n",
       "      <td>40</td>\n",
       "      <td>opel</td>\n",
       "      <td>corsa</td>\n",
       "      <td>0</td>\n",
       "    </tr>\n",
       "    <tr>\n",
       "      <td>111</td>\n",
       "      <td>volkswagen</td>\n",
       "      <td>golf</td>\n",
       "      <td>0</td>\n",
       "    </tr>\n",
       "    <tr>\n",
       "      <td>115</td>\n",
       "      <td>volkswagen</td>\n",
       "      <td>NaN</td>\n",
       "      <td>0</td>\n",
       "    </tr>\n",
       "    <tr>\n",
       "      <td>152</td>\n",
       "      <td>opel</td>\n",
       "      <td>meriva</td>\n",
       "      <td>0</td>\n",
       "    </tr>\n",
       "    <tr>\n",
       "      <td>...</td>\n",
       "      <td>...</td>\n",
       "      <td>...</td>\n",
       "      <td>...</td>\n",
       "    </tr>\n",
       "    <tr>\n",
       "      <td>354205</td>\n",
       "      <td>opel</td>\n",
       "      <td>corsa</td>\n",
       "      <td>0</td>\n",
       "    </tr>\n",
       "    <tr>\n",
       "      <td>354238</td>\n",
       "      <td>ford</td>\n",
       "      <td>fiesta</td>\n",
       "      <td>0</td>\n",
       "    </tr>\n",
       "    <tr>\n",
       "      <td>354248</td>\n",
       "      <td>suzuki</td>\n",
       "      <td>swift</td>\n",
       "      <td>0</td>\n",
       "    </tr>\n",
       "    <tr>\n",
       "      <td>354277</td>\n",
       "      <td>seat</td>\n",
       "      <td>arosa</td>\n",
       "      <td>0</td>\n",
       "    </tr>\n",
       "    <tr>\n",
       "      <td>354364</td>\n",
       "      <td>mitsubishi</td>\n",
       "      <td>colt</td>\n",
       "      <td>0</td>\n",
       "    </tr>\n",
       "  </tbody>\n",
       "</table>\n",
       "<p>10685 rows × 3 columns</p>\n",
       "</div>"
      ],
      "text/plain": [
       "             Brand   Model  Price\n",
       "7       volkswagen   other      0\n",
       "40            opel   corsa      0\n",
       "111     volkswagen    golf      0\n",
       "115     volkswagen     NaN      0\n",
       "152           opel  meriva      0\n",
       "...            ...     ...    ...\n",
       "354205        opel   corsa      0\n",
       "354238        ford  fiesta      0\n",
       "354248      suzuki   swift      0\n",
       "354277        seat   arosa      0\n",
       "354364  mitsubishi    colt      0\n",
       "\n",
       "[10685 rows x 3 columns]"
      ]
     },
     "execution_count": 30,
     "metadata": {},
     "output_type": "execute_result"
    }
   ],
   "source": [
    "data[['Brand','Model','Price']].query('Price == 0')"
   ]
  },
  {
   "cell_type": "markdown",
   "metadata": {},
   "source": [
    "Мы не будем ничего с этим делать (хотя и могли бы применить разные техники восстановления или удалить), т.к:\n",
    "1. это целевой признак \n",
    "1. сценарий \"отдам хлам самовывозом\" вполне реалистичен"
   ]
  },
  {
   "cell_type": "markdown",
   "metadata": {},
   "source": [
    "<div style=\"background: #ffeeaa; padding: 5px; border: 1px solid green; border-radius: 5px;\">\n",
    "<font color='green'><u><b>КОММЕНТАРИЙ РЕВЬЮЕРА</b></u></font><br />\n",
    "<font color='green'>\n",
    "Аргумент, ок. С другой стороны, мы хоти делать бизнес, т.е. нам интересны те машины, которые продаются за деньги. Тут, всё-таки, логичнее брать только их. Но это моё мнение)"
   ]
  },
  {
   "cell_type": "markdown",
   "metadata": {},
   "source": [
    "<div style=\"background: #cceeaa; padding: 5px; border: 1px solid green; border-radius: 5px;\">\n",
    "<font color='green'><u><b>КОММЕНТАРИЙ РЕВЬЮЕРА</b></u>\n",
    "<font color='green'><br>Есть таой ещё подход для работы с количественными данными: совместно со статистическим анализом проводить бизнес-анализ данных. Т.е. подключать понимание рынка и на этом понимании устанавливать отсечки. И также,оставлять ссылки на источник знаний по границам отсечек, чтобы это не выглядело, будто бы решение принимал аналитик исключительно от себя)"
   ]
  },
  {
   "cell_type": "markdown",
   "metadata": {},
   "source": [
    "<div class=\"alert alert-block alert-info\">\n",
    "<b>Комментарий студента:</b>\n",
    "Надо попросить Яндекс.Практикум к наставникам, проверяющим и кураторам нанять еще и бизнес-консультантов ;)\n",
    "</div>"
   ]
  },
  {
   "cell_type": "markdown",
   "metadata": {},
   "source": [
    "<div style=\"background: #cceeaa; padding: 5px; border: 1px solid green; border-radius: 5px;\">\n",
    "<font color='green'><u><b>КОММЕНТАРИЙ РЕВЬЮЕРА 2</b></u><br>\n",
    "<font color='green'>И вместе обсудить за бокалом чая:) <br>"
   ]
  },
  {
   "cell_type": "markdown",
   "metadata": {},
   "source": [
    "Подробнее: **NotRepaired**"
   ]
  },
  {
   "cell_type": "code",
   "execution_count": 31,
   "metadata": {},
   "outputs": [
    {
     "data": {
      "text/plain": [
       "no     247098\n",
       "yes     36025\n",
       "Name: NotRepaired, dtype: int64"
      ]
     },
     "execution_count": 31,
     "metadata": {},
     "output_type": "execute_result"
    }
   ],
   "source": [
    "data['NotRepaired'].value_counts()"
   ]
  },
  {
   "cell_type": "markdown",
   "metadata": {},
   "source": [
    "Восстановления здесь быть не может (это независимая переменная по любой из возможных групп в данных), но, очевидно, нужна третья категория: \"информация недоступна\", которая наиболее близко отражает физическую суть \"кто-то решил не указывать сведения\":"
   ]
  },
  {
   "cell_type": "code",
   "execution_count": 32,
   "metadata": {},
   "outputs": [
    {
     "data": {
      "text/plain": [
       "no         247098\n",
       "unknown     70877\n",
       "yes         36025\n",
       "Name: NotRepaired, dtype: int64"
      ]
     },
     "execution_count": 32,
     "metadata": {},
     "output_type": "execute_result"
    }
   ],
   "source": [
    "data['NotRepaired'] = data['NotRepaired'].apply(lambda x: 'unknown' if x is np.NaN else x)\n",
    "data['NotRepaired'].value_counts()"
   ]
  },
  {
   "cell_type": "markdown",
   "metadata": {},
   "source": [
    "<div style=\"background: #cceeaa; padding: 5px; border: 1px solid green; border-radius: 5px;\">\n",
    "<font color='green'><u><b>КОММЕНТАРИЙ РЕВЬЮЕРА</b></u>\n",
    "<font color='green'><br>принято) С категориаьными факторами, т.е. пропусками в них: действиетльно, подчас непросто их заполнить. И выход - подстановка новой категории \"неизвестно\" (\"другое\") видится оправданным. Или удалить)"
   ]
  },
  {
   "cell_type": "code",
   "execution_count": 33,
   "metadata": {},
   "outputs": [
    {
     "data": {
      "text/html": [
       "<style  type=\"text/css\" >\n",
       "    #T_cbc67a28_b7d0_11eb_865f_02420a39047erow0_col2 {\n",
       "            width:  10em;\n",
       "             height:  80%;\n",
       "        }    #T_cbc67a28_b7d0_11eb_865f_02420a39047erow1_col2 {\n",
       "            width:  10em;\n",
       "             height:  80%;\n",
       "        }    #T_cbc67a28_b7d0_11eb_865f_02420a39047erow2_col2 {\n",
       "            width:  10em;\n",
       "             height:  80%;\n",
       "        }    #T_cbc67a28_b7d0_11eb_865f_02420a39047erow3_col2 {\n",
       "            width:  10em;\n",
       "             height:  80%;\n",
       "        }    #T_cbc67a28_b7d0_11eb_865f_02420a39047erow4_col2 {\n",
       "            width:  10em;\n",
       "             height:  80%;\n",
       "        }    #T_cbc67a28_b7d0_11eb_865f_02420a39047erow5_col2 {\n",
       "            width:  10em;\n",
       "             height:  80%;\n",
       "        }    #T_cbc67a28_b7d0_11eb_865f_02420a39047erow6_col2 {\n",
       "            width:  10em;\n",
       "             height:  80%;\n",
       "        }    #T_cbc67a28_b7d0_11eb_865f_02420a39047erow7_col2 {\n",
       "            width:  10em;\n",
       "             height:  80%;\n",
       "        }    #T_cbc67a28_b7d0_11eb_865f_02420a39047erow8_col2 {\n",
       "            width:  10em;\n",
       "             height:  80%;\n",
       "        }    #T_cbc67a28_b7d0_11eb_865f_02420a39047erow9_col2 {\n",
       "            width:  10em;\n",
       "             height:  80%;\n",
       "            background:  linear-gradient(90deg,lightblue 52.4%, transparent 52.4%);\n",
       "        }    #T_cbc67a28_b7d0_11eb_865f_02420a39047erow10_col2 {\n",
       "            width:  10em;\n",
       "             height:  80%;\n",
       "            background:  linear-gradient(90deg,lightblue 52.6%, transparent 52.6%);\n",
       "        }    #T_cbc67a28_b7d0_11eb_865f_02420a39047erow11_col2 {\n",
       "            width:  10em;\n",
       "             height:  80%;\n",
       "            background:  linear-gradient(90deg,lightblue 87.7%, transparent 87.7%);\n",
       "        }    #T_cbc67a28_b7d0_11eb_865f_02420a39047erow12_col2 {\n",
       "            width:  10em;\n",
       "             height:  80%;\n",
       "            background:  linear-gradient(90deg,lightblue 100.0%, transparent 100.0%);\n",
       "        }</style><table id=\"T_cbc67a28_b7d0_11eb_865f_02420a39047e\" ><thead>    <tr>        <th class=\"blank level0\" ></th>        <th class=\"col_heading level0 col0\" >Non-Nans</th>        <th class=\"col_heading level0 col1\" >Nans</th>        <th class=\"col_heading level0 col2\" >Nans_share</th>        <th class=\"col_heading level0 col3\" >Type</th>    </tr></thead><tbody>\n",
       "                <tr>\n",
       "                        <th id=\"T_cbc67a28_b7d0_11eb_865f_02420a39047elevel0_row0\" class=\"row_heading level0 row0\" >Price</th>\n",
       "                        <td id=\"T_cbc67a28_b7d0_11eb_865f_02420a39047erow0_col0\" class=\"data row0 col0\" >354000</td>\n",
       "                        <td id=\"T_cbc67a28_b7d0_11eb_865f_02420a39047erow0_col1\" class=\"data row0 col1\" >0</td>\n",
       "                        <td id=\"T_cbc67a28_b7d0_11eb_865f_02420a39047erow0_col2\" class=\"data row0 col2\" >0</td>\n",
       "                        <td id=\"T_cbc67a28_b7d0_11eb_865f_02420a39047erow0_col3\" class=\"data row0 col3\" >int64</td>\n",
       "            </tr>\n",
       "            <tr>\n",
       "                        <th id=\"T_cbc67a28_b7d0_11eb_865f_02420a39047elevel0_row1\" class=\"row_heading level0 row1\" >Power</th>\n",
       "                        <td id=\"T_cbc67a28_b7d0_11eb_865f_02420a39047erow1_col0\" class=\"data row1 col0\" >354000</td>\n",
       "                        <td id=\"T_cbc67a28_b7d0_11eb_865f_02420a39047erow1_col1\" class=\"data row1 col1\" >0</td>\n",
       "                        <td id=\"T_cbc67a28_b7d0_11eb_865f_02420a39047erow1_col2\" class=\"data row1 col2\" >0</td>\n",
       "                        <td id=\"T_cbc67a28_b7d0_11eb_865f_02420a39047erow1_col3\" class=\"data row1 col3\" >int64</td>\n",
       "            </tr>\n",
       "            <tr>\n",
       "                        <th id=\"T_cbc67a28_b7d0_11eb_865f_02420a39047elevel0_row2\" class=\"row_heading level0 row2\" >Kilometer</th>\n",
       "                        <td id=\"T_cbc67a28_b7d0_11eb_865f_02420a39047erow2_col0\" class=\"data row2 col0\" >354000</td>\n",
       "                        <td id=\"T_cbc67a28_b7d0_11eb_865f_02420a39047erow2_col1\" class=\"data row2 col1\" >0</td>\n",
       "                        <td id=\"T_cbc67a28_b7d0_11eb_865f_02420a39047erow2_col2\" class=\"data row2 col2\" >0</td>\n",
       "                        <td id=\"T_cbc67a28_b7d0_11eb_865f_02420a39047erow2_col3\" class=\"data row2 col3\" >int64</td>\n",
       "            </tr>\n",
       "            <tr>\n",
       "                        <th id=\"T_cbc67a28_b7d0_11eb_865f_02420a39047elevel0_row3\" class=\"row_heading level0 row3\" >Brand</th>\n",
       "                        <td id=\"T_cbc67a28_b7d0_11eb_865f_02420a39047erow3_col0\" class=\"data row3 col0\" >354000</td>\n",
       "                        <td id=\"T_cbc67a28_b7d0_11eb_865f_02420a39047erow3_col1\" class=\"data row3 col1\" >0</td>\n",
       "                        <td id=\"T_cbc67a28_b7d0_11eb_865f_02420a39047erow3_col2\" class=\"data row3 col2\" >0</td>\n",
       "                        <td id=\"T_cbc67a28_b7d0_11eb_865f_02420a39047erow3_col3\" class=\"data row3 col3\" >object</td>\n",
       "            </tr>\n",
       "            <tr>\n",
       "                        <th id=\"T_cbc67a28_b7d0_11eb_865f_02420a39047elevel0_row4\" class=\"row_heading level0 row4\" >NotRepaired</th>\n",
       "                        <td id=\"T_cbc67a28_b7d0_11eb_865f_02420a39047erow4_col0\" class=\"data row4 col0\" >354000</td>\n",
       "                        <td id=\"T_cbc67a28_b7d0_11eb_865f_02420a39047erow4_col1\" class=\"data row4 col1\" >0</td>\n",
       "                        <td id=\"T_cbc67a28_b7d0_11eb_865f_02420a39047erow4_col2\" class=\"data row4 col2\" >0</td>\n",
       "                        <td id=\"T_cbc67a28_b7d0_11eb_865f_02420a39047erow4_col3\" class=\"data row4 col3\" >object</td>\n",
       "            </tr>\n",
       "            <tr>\n",
       "                        <th id=\"T_cbc67a28_b7d0_11eb_865f_02420a39047elevel0_row5\" class=\"row_heading level0 row5\" >NumberOfPictures</th>\n",
       "                        <td id=\"T_cbc67a28_b7d0_11eb_865f_02420a39047erow5_col0\" class=\"data row5 col0\" >354000</td>\n",
       "                        <td id=\"T_cbc67a28_b7d0_11eb_865f_02420a39047erow5_col1\" class=\"data row5 col1\" >0</td>\n",
       "                        <td id=\"T_cbc67a28_b7d0_11eb_865f_02420a39047erow5_col2\" class=\"data row5 col2\" >0</td>\n",
       "                        <td id=\"T_cbc67a28_b7d0_11eb_865f_02420a39047erow5_col3\" class=\"data row5 col3\" >int64</td>\n",
       "            </tr>\n",
       "            <tr>\n",
       "                        <th id=\"T_cbc67a28_b7d0_11eb_865f_02420a39047elevel0_row6\" class=\"row_heading level0 row6\" >PostalCode</th>\n",
       "                        <td id=\"T_cbc67a28_b7d0_11eb_865f_02420a39047erow6_col0\" class=\"data row6 col0\" >354000</td>\n",
       "                        <td id=\"T_cbc67a28_b7d0_11eb_865f_02420a39047erow6_col1\" class=\"data row6 col1\" >0</td>\n",
       "                        <td id=\"T_cbc67a28_b7d0_11eb_865f_02420a39047erow6_col2\" class=\"data row6 col2\" >0</td>\n",
       "                        <td id=\"T_cbc67a28_b7d0_11eb_865f_02420a39047erow6_col3\" class=\"data row6 col3\" >int64</td>\n",
       "            </tr>\n",
       "            <tr>\n",
       "                        <th id=\"T_cbc67a28_b7d0_11eb_865f_02420a39047elevel0_row7\" class=\"row_heading level0 row7\" >RegMonthsFrom1950</th>\n",
       "                        <td id=\"T_cbc67a28_b7d0_11eb_865f_02420a39047erow7_col0\" class=\"data row7 col0\" >354000</td>\n",
       "                        <td id=\"T_cbc67a28_b7d0_11eb_865f_02420a39047erow7_col1\" class=\"data row7 col1\" >0</td>\n",
       "                        <td id=\"T_cbc67a28_b7d0_11eb_865f_02420a39047erow7_col2\" class=\"data row7 col2\" >0</td>\n",
       "                        <td id=\"T_cbc67a28_b7d0_11eb_865f_02420a39047erow7_col3\" class=\"data row7 col3\" >int64</td>\n",
       "            </tr>\n",
       "            <tr>\n",
       "                        <th id=\"T_cbc67a28_b7d0_11eb_865f_02420a39047elevel0_row8\" class=\"row_heading level0 row8\" >DaysOnSale</th>\n",
       "                        <td id=\"T_cbc67a28_b7d0_11eb_865f_02420a39047erow8_col0\" class=\"data row8 col0\" >354000</td>\n",
       "                        <td id=\"T_cbc67a28_b7d0_11eb_865f_02420a39047erow8_col1\" class=\"data row8 col1\" >0</td>\n",
       "                        <td id=\"T_cbc67a28_b7d0_11eb_865f_02420a39047erow8_col2\" class=\"data row8 col2\" >0</td>\n",
       "                        <td id=\"T_cbc67a28_b7d0_11eb_865f_02420a39047erow8_col3\" class=\"data row8 col3\" >int64</td>\n",
       "            </tr>\n",
       "            <tr>\n",
       "                        <th id=\"T_cbc67a28_b7d0_11eb_865f_02420a39047elevel0_row9\" class=\"row_heading level0 row9\" >Model</th>\n",
       "                        <td id=\"T_cbc67a28_b7d0_11eb_865f_02420a39047erow9_col0\" class=\"data row9 col0\" >334466</td>\n",
       "                        <td id=\"T_cbc67a28_b7d0_11eb_865f_02420a39047erow9_col1\" class=\"data row9 col1\" >19534</td>\n",
       "                        <td id=\"T_cbc67a28_b7d0_11eb_865f_02420a39047erow9_col2\" class=\"data row9 col2\" >0.0551808</td>\n",
       "                        <td id=\"T_cbc67a28_b7d0_11eb_865f_02420a39047erow9_col3\" class=\"data row9 col3\" >object</td>\n",
       "            </tr>\n",
       "            <tr>\n",
       "                        <th id=\"T_cbc67a28_b7d0_11eb_865f_02420a39047elevel0_row10\" class=\"row_heading level0 row10\" >Gearbox</th>\n",
       "                        <td id=\"T_cbc67a28_b7d0_11eb_865f_02420a39047erow10_col0\" class=\"data row10 col0\" >334403</td>\n",
       "                        <td id=\"T_cbc67a28_b7d0_11eb_865f_02420a39047erow10_col1\" class=\"data row10 col1\" >19597</td>\n",
       "                        <td id=\"T_cbc67a28_b7d0_11eb_865f_02420a39047erow10_col2\" class=\"data row10 col2\" >0.0553588</td>\n",
       "                        <td id=\"T_cbc67a28_b7d0_11eb_865f_02420a39047erow10_col3\" class=\"data row10 col3\" >object</td>\n",
       "            </tr>\n",
       "            <tr>\n",
       "                        <th id=\"T_cbc67a28_b7d0_11eb_865f_02420a39047elevel0_row11\" class=\"row_heading level0 row11\" >FuelType</th>\n",
       "                        <td id=\"T_cbc67a28_b7d0_11eb_865f_02420a39047erow11_col0\" class=\"data row11 col0\" >321323</td>\n",
       "                        <td id=\"T_cbc67a28_b7d0_11eb_865f_02420a39047erow11_col1\" class=\"data row11 col1\" >32677</td>\n",
       "                        <td id=\"T_cbc67a28_b7d0_11eb_865f_02420a39047erow11_col2\" class=\"data row11 col2\" >0.0923079</td>\n",
       "                        <td id=\"T_cbc67a28_b7d0_11eb_865f_02420a39047erow11_col3\" class=\"data row11 col3\" >object</td>\n",
       "            </tr>\n",
       "            <tr>\n",
       "                        <th id=\"T_cbc67a28_b7d0_11eb_865f_02420a39047elevel0_row12\" class=\"row_heading level0 row12\" >VehicleType</th>\n",
       "                        <td id=\"T_cbc67a28_b7d0_11eb_865f_02420a39047erow12_col0\" class=\"data row12 col0\" >316755</td>\n",
       "                        <td id=\"T_cbc67a28_b7d0_11eb_865f_02420a39047erow12_col1\" class=\"data row12 col1\" >37245</td>\n",
       "                        <td id=\"T_cbc67a28_b7d0_11eb_865f_02420a39047erow12_col2\" class=\"data row12 col2\" >0.105212</td>\n",
       "                        <td id=\"T_cbc67a28_b7d0_11eb_865f_02420a39047erow12_col3\" class=\"data row12 col3\" >object</td>\n",
       "            </tr>\n",
       "    </tbody></table>"
      ],
      "text/plain": [
       "<pandas.io.formats.style.Styler at 0x7f9735a59610>"
      ]
     },
     "execution_count": 33,
     "metadata": {},
     "output_type": "execute_result"
    }
   ],
   "source": [
    "frame_info(data)"
   ]
  },
  {
   "cell_type": "markdown",
   "metadata": {},
   "source": [
    "Подробнее: **NumberOfPictures**"
   ]
  },
  {
   "cell_type": "code",
   "execution_count": 34,
   "metadata": {},
   "outputs": [
    {
     "data": {
      "text/plain": [
       "0    354000\n",
       "Name: NumberOfPictures, dtype: int64"
      ]
     },
     "execution_count": 34,
     "metadata": {},
     "output_type": "execute_result"
    }
   ],
   "source": [
    "data['NumberOfPictures'].value_counts()"
   ]
  },
  {
   "cell_type": "markdown",
   "metadata": {},
   "source": [
    "А это столбец с нулями, удаляем:"
   ]
  },
  {
   "cell_type": "code",
   "execution_count": 35,
   "metadata": {},
   "outputs": [],
   "source": [
    "data.drop(columns=['NumberOfPictures'],inplace=True)"
   ]
  },
  {
   "cell_type": "markdown",
   "metadata": {},
   "source": [
    "<div style=\"background: #cceeaa; padding: 5px; border: 1px solid green; border-radius: 5px;\">\n",
    "<font color='green'><u><b>КОММЕНТАРИЙ РЕВЬЮЕРА</b></u>\n",
    "<font color='green'><br>да, ОК!"
   ]
  },
  {
   "cell_type": "code",
   "execution_count": 36,
   "metadata": {},
   "outputs": [
    {
     "data": {
      "text/html": [
       "<style  type=\"text/css\" >\n",
       "    #T_cbf848c8_b7d0_11eb_865f_02420a39047erow0_col2 {\n",
       "            width:  10em;\n",
       "             height:  80%;\n",
       "        }    #T_cbf848c8_b7d0_11eb_865f_02420a39047erow1_col2 {\n",
       "            width:  10em;\n",
       "             height:  80%;\n",
       "        }    #T_cbf848c8_b7d0_11eb_865f_02420a39047erow2_col2 {\n",
       "            width:  10em;\n",
       "             height:  80%;\n",
       "        }    #T_cbf848c8_b7d0_11eb_865f_02420a39047erow3_col2 {\n",
       "            width:  10em;\n",
       "             height:  80%;\n",
       "        }    #T_cbf848c8_b7d0_11eb_865f_02420a39047erow4_col2 {\n",
       "            width:  10em;\n",
       "             height:  80%;\n",
       "        }    #T_cbf848c8_b7d0_11eb_865f_02420a39047erow5_col2 {\n",
       "            width:  10em;\n",
       "             height:  80%;\n",
       "        }    #T_cbf848c8_b7d0_11eb_865f_02420a39047erow6_col2 {\n",
       "            width:  10em;\n",
       "             height:  80%;\n",
       "        }    #T_cbf848c8_b7d0_11eb_865f_02420a39047erow7_col2 {\n",
       "            width:  10em;\n",
       "             height:  80%;\n",
       "        }    #T_cbf848c8_b7d0_11eb_865f_02420a39047erow8_col2 {\n",
       "            width:  10em;\n",
       "             height:  80%;\n",
       "            background:  linear-gradient(90deg,lightblue 52.4%, transparent 52.4%);\n",
       "        }    #T_cbf848c8_b7d0_11eb_865f_02420a39047erow9_col2 {\n",
       "            width:  10em;\n",
       "             height:  80%;\n",
       "            background:  linear-gradient(90deg,lightblue 52.6%, transparent 52.6%);\n",
       "        }    #T_cbf848c8_b7d0_11eb_865f_02420a39047erow10_col2 {\n",
       "            width:  10em;\n",
       "             height:  80%;\n",
       "            background:  linear-gradient(90deg,lightblue 87.7%, transparent 87.7%);\n",
       "        }    #T_cbf848c8_b7d0_11eb_865f_02420a39047erow11_col2 {\n",
       "            width:  10em;\n",
       "             height:  80%;\n",
       "            background:  linear-gradient(90deg,lightblue 100.0%, transparent 100.0%);\n",
       "        }</style><table id=\"T_cbf848c8_b7d0_11eb_865f_02420a39047e\" ><thead>    <tr>        <th class=\"blank level0\" ></th>        <th class=\"col_heading level0 col0\" >Non-Nans</th>        <th class=\"col_heading level0 col1\" >Nans</th>        <th class=\"col_heading level0 col2\" >Nans_share</th>        <th class=\"col_heading level0 col3\" >Type</th>    </tr></thead><tbody>\n",
       "                <tr>\n",
       "                        <th id=\"T_cbf848c8_b7d0_11eb_865f_02420a39047elevel0_row0\" class=\"row_heading level0 row0\" >Price</th>\n",
       "                        <td id=\"T_cbf848c8_b7d0_11eb_865f_02420a39047erow0_col0\" class=\"data row0 col0\" >354000</td>\n",
       "                        <td id=\"T_cbf848c8_b7d0_11eb_865f_02420a39047erow0_col1\" class=\"data row0 col1\" >0</td>\n",
       "                        <td id=\"T_cbf848c8_b7d0_11eb_865f_02420a39047erow0_col2\" class=\"data row0 col2\" >0</td>\n",
       "                        <td id=\"T_cbf848c8_b7d0_11eb_865f_02420a39047erow0_col3\" class=\"data row0 col3\" >int64</td>\n",
       "            </tr>\n",
       "            <tr>\n",
       "                        <th id=\"T_cbf848c8_b7d0_11eb_865f_02420a39047elevel0_row1\" class=\"row_heading level0 row1\" >Power</th>\n",
       "                        <td id=\"T_cbf848c8_b7d0_11eb_865f_02420a39047erow1_col0\" class=\"data row1 col0\" >354000</td>\n",
       "                        <td id=\"T_cbf848c8_b7d0_11eb_865f_02420a39047erow1_col1\" class=\"data row1 col1\" >0</td>\n",
       "                        <td id=\"T_cbf848c8_b7d0_11eb_865f_02420a39047erow1_col2\" class=\"data row1 col2\" >0</td>\n",
       "                        <td id=\"T_cbf848c8_b7d0_11eb_865f_02420a39047erow1_col3\" class=\"data row1 col3\" >int64</td>\n",
       "            </tr>\n",
       "            <tr>\n",
       "                        <th id=\"T_cbf848c8_b7d0_11eb_865f_02420a39047elevel0_row2\" class=\"row_heading level0 row2\" >Kilometer</th>\n",
       "                        <td id=\"T_cbf848c8_b7d0_11eb_865f_02420a39047erow2_col0\" class=\"data row2 col0\" >354000</td>\n",
       "                        <td id=\"T_cbf848c8_b7d0_11eb_865f_02420a39047erow2_col1\" class=\"data row2 col1\" >0</td>\n",
       "                        <td id=\"T_cbf848c8_b7d0_11eb_865f_02420a39047erow2_col2\" class=\"data row2 col2\" >0</td>\n",
       "                        <td id=\"T_cbf848c8_b7d0_11eb_865f_02420a39047erow2_col3\" class=\"data row2 col3\" >int64</td>\n",
       "            </tr>\n",
       "            <tr>\n",
       "                        <th id=\"T_cbf848c8_b7d0_11eb_865f_02420a39047elevel0_row3\" class=\"row_heading level0 row3\" >Brand</th>\n",
       "                        <td id=\"T_cbf848c8_b7d0_11eb_865f_02420a39047erow3_col0\" class=\"data row3 col0\" >354000</td>\n",
       "                        <td id=\"T_cbf848c8_b7d0_11eb_865f_02420a39047erow3_col1\" class=\"data row3 col1\" >0</td>\n",
       "                        <td id=\"T_cbf848c8_b7d0_11eb_865f_02420a39047erow3_col2\" class=\"data row3 col2\" >0</td>\n",
       "                        <td id=\"T_cbf848c8_b7d0_11eb_865f_02420a39047erow3_col3\" class=\"data row3 col3\" >object</td>\n",
       "            </tr>\n",
       "            <tr>\n",
       "                        <th id=\"T_cbf848c8_b7d0_11eb_865f_02420a39047elevel0_row4\" class=\"row_heading level0 row4\" >NotRepaired</th>\n",
       "                        <td id=\"T_cbf848c8_b7d0_11eb_865f_02420a39047erow4_col0\" class=\"data row4 col0\" >354000</td>\n",
       "                        <td id=\"T_cbf848c8_b7d0_11eb_865f_02420a39047erow4_col1\" class=\"data row4 col1\" >0</td>\n",
       "                        <td id=\"T_cbf848c8_b7d0_11eb_865f_02420a39047erow4_col2\" class=\"data row4 col2\" >0</td>\n",
       "                        <td id=\"T_cbf848c8_b7d0_11eb_865f_02420a39047erow4_col3\" class=\"data row4 col3\" >object</td>\n",
       "            </tr>\n",
       "            <tr>\n",
       "                        <th id=\"T_cbf848c8_b7d0_11eb_865f_02420a39047elevel0_row5\" class=\"row_heading level0 row5\" >PostalCode</th>\n",
       "                        <td id=\"T_cbf848c8_b7d0_11eb_865f_02420a39047erow5_col0\" class=\"data row5 col0\" >354000</td>\n",
       "                        <td id=\"T_cbf848c8_b7d0_11eb_865f_02420a39047erow5_col1\" class=\"data row5 col1\" >0</td>\n",
       "                        <td id=\"T_cbf848c8_b7d0_11eb_865f_02420a39047erow5_col2\" class=\"data row5 col2\" >0</td>\n",
       "                        <td id=\"T_cbf848c8_b7d0_11eb_865f_02420a39047erow5_col3\" class=\"data row5 col3\" >int64</td>\n",
       "            </tr>\n",
       "            <tr>\n",
       "                        <th id=\"T_cbf848c8_b7d0_11eb_865f_02420a39047elevel0_row6\" class=\"row_heading level0 row6\" >RegMonthsFrom1950</th>\n",
       "                        <td id=\"T_cbf848c8_b7d0_11eb_865f_02420a39047erow6_col0\" class=\"data row6 col0\" >354000</td>\n",
       "                        <td id=\"T_cbf848c8_b7d0_11eb_865f_02420a39047erow6_col1\" class=\"data row6 col1\" >0</td>\n",
       "                        <td id=\"T_cbf848c8_b7d0_11eb_865f_02420a39047erow6_col2\" class=\"data row6 col2\" >0</td>\n",
       "                        <td id=\"T_cbf848c8_b7d0_11eb_865f_02420a39047erow6_col3\" class=\"data row6 col3\" >int64</td>\n",
       "            </tr>\n",
       "            <tr>\n",
       "                        <th id=\"T_cbf848c8_b7d0_11eb_865f_02420a39047elevel0_row7\" class=\"row_heading level0 row7\" >DaysOnSale</th>\n",
       "                        <td id=\"T_cbf848c8_b7d0_11eb_865f_02420a39047erow7_col0\" class=\"data row7 col0\" >354000</td>\n",
       "                        <td id=\"T_cbf848c8_b7d0_11eb_865f_02420a39047erow7_col1\" class=\"data row7 col1\" >0</td>\n",
       "                        <td id=\"T_cbf848c8_b7d0_11eb_865f_02420a39047erow7_col2\" class=\"data row7 col2\" >0</td>\n",
       "                        <td id=\"T_cbf848c8_b7d0_11eb_865f_02420a39047erow7_col3\" class=\"data row7 col3\" >int64</td>\n",
       "            </tr>\n",
       "            <tr>\n",
       "                        <th id=\"T_cbf848c8_b7d0_11eb_865f_02420a39047elevel0_row8\" class=\"row_heading level0 row8\" >Model</th>\n",
       "                        <td id=\"T_cbf848c8_b7d0_11eb_865f_02420a39047erow8_col0\" class=\"data row8 col0\" >334466</td>\n",
       "                        <td id=\"T_cbf848c8_b7d0_11eb_865f_02420a39047erow8_col1\" class=\"data row8 col1\" >19534</td>\n",
       "                        <td id=\"T_cbf848c8_b7d0_11eb_865f_02420a39047erow8_col2\" class=\"data row8 col2\" >0.0551808</td>\n",
       "                        <td id=\"T_cbf848c8_b7d0_11eb_865f_02420a39047erow8_col3\" class=\"data row8 col3\" >object</td>\n",
       "            </tr>\n",
       "            <tr>\n",
       "                        <th id=\"T_cbf848c8_b7d0_11eb_865f_02420a39047elevel0_row9\" class=\"row_heading level0 row9\" >Gearbox</th>\n",
       "                        <td id=\"T_cbf848c8_b7d0_11eb_865f_02420a39047erow9_col0\" class=\"data row9 col0\" >334403</td>\n",
       "                        <td id=\"T_cbf848c8_b7d0_11eb_865f_02420a39047erow9_col1\" class=\"data row9 col1\" >19597</td>\n",
       "                        <td id=\"T_cbf848c8_b7d0_11eb_865f_02420a39047erow9_col2\" class=\"data row9 col2\" >0.0553588</td>\n",
       "                        <td id=\"T_cbf848c8_b7d0_11eb_865f_02420a39047erow9_col3\" class=\"data row9 col3\" >object</td>\n",
       "            </tr>\n",
       "            <tr>\n",
       "                        <th id=\"T_cbf848c8_b7d0_11eb_865f_02420a39047elevel0_row10\" class=\"row_heading level0 row10\" >FuelType</th>\n",
       "                        <td id=\"T_cbf848c8_b7d0_11eb_865f_02420a39047erow10_col0\" class=\"data row10 col0\" >321323</td>\n",
       "                        <td id=\"T_cbf848c8_b7d0_11eb_865f_02420a39047erow10_col1\" class=\"data row10 col1\" >32677</td>\n",
       "                        <td id=\"T_cbf848c8_b7d0_11eb_865f_02420a39047erow10_col2\" class=\"data row10 col2\" >0.0923079</td>\n",
       "                        <td id=\"T_cbf848c8_b7d0_11eb_865f_02420a39047erow10_col3\" class=\"data row10 col3\" >object</td>\n",
       "            </tr>\n",
       "            <tr>\n",
       "                        <th id=\"T_cbf848c8_b7d0_11eb_865f_02420a39047elevel0_row11\" class=\"row_heading level0 row11\" >VehicleType</th>\n",
       "                        <td id=\"T_cbf848c8_b7d0_11eb_865f_02420a39047erow11_col0\" class=\"data row11 col0\" >316755</td>\n",
       "                        <td id=\"T_cbf848c8_b7d0_11eb_865f_02420a39047erow11_col1\" class=\"data row11 col1\" >37245</td>\n",
       "                        <td id=\"T_cbf848c8_b7d0_11eb_865f_02420a39047erow11_col2\" class=\"data row11 col2\" >0.105212</td>\n",
       "                        <td id=\"T_cbf848c8_b7d0_11eb_865f_02420a39047erow11_col3\" class=\"data row11 col3\" >object</td>\n",
       "            </tr>\n",
       "    </tbody></table>"
      ],
      "text/plain": [
       "<pandas.io.formats.style.Styler at 0x7f9733e3d2d0>"
      ]
     },
     "execution_count": 36,
     "metadata": {},
     "output_type": "execute_result"
    }
   ],
   "source": [
    "frame_info(data)"
   ]
  },
  {
   "cell_type": "markdown",
   "metadata": {},
   "source": [
    "Подробнее: **PostalCode**"
   ]
  },
  {
   "cell_type": "markdown",
   "metadata": {},
   "source": [
    "Категориальная переменная (численные сравнения бессмысленны) с большим числом значений, где и 4 и 5 цифр допустимы (https://en.wikipedia.org/wiki/List_of_postal_codes):"
   ]
  },
  {
   "cell_type": "code",
   "execution_count": 37,
   "metadata": {},
   "outputs": [
    {
     "data": {
      "text/plain": [
       "5    335877\n",
       "4     18123\n",
       "Name: PostalCode, dtype: int64"
      ]
     },
     "execution_count": 37,
     "metadata": {},
     "output_type": "execute_result"
    }
   ],
   "source": [
    "data['PostalCode'].apply(lambda x: len(str(x))).value_counts()"
   ]
  },
  {
   "cell_type": "markdown",
   "metadata": {},
   "source": [
    "<div style=\"background: #cceeaa; padding: 5px; border: 1px solid green; border-radius: 5px;\">\n",
    "<font color='green'><u><b>КОММЕНТАРИЙ РЕВЬЮЕРА</b></u>\n",
    "<font color='green'><br>да, поэтому можно и удалить.А можно попробовать оставить 1-2 первые цифры от почнового кода... тогда категорий будет меньше. И для модели - уже интереснее.. Но это на будущие исследования)"
   ]
  },
  {
   "cell_type": "markdown",
   "metadata": {},
   "source": [
    "Подробнее: **Kilometer**"
   ]
  },
  {
   "cell_type": "code",
   "execution_count": 38,
   "metadata": {},
   "outputs": [
    {
     "data": {
      "image/png": "[encoded data removed]",
      "text/plain": [
       "<Figure size 1224x360 with 1 Axes>"
      ]
     },
     "metadata": {
      "needs_background": "light"
     },
     "output_type": "display_data"
    }
   ],
   "source": [
    "boxplot(\n",
    "        [data[['Kilometer']]],\n",
    "        figsize=(17,5), \n",
    "        fontsize=16,\n",
    "        title=f'Kilometer boxplot'\n",
    ") "
   ]
  },
  {
   "cell_type": "code",
   "execution_count": 39,
   "metadata": {},
   "outputs": [
    {
     "data": {
      "image/png": "[encoded data removed]",
      "text/plain": [
       "<Figure size 1224x432 with 1 Axes>"
      ]
     },
     "metadata": {
      "needs_background": "light"
     },
     "output_type": "display_data"
    }
   ],
   "source": [
    "hist(\n",
    "        onecolumn_frames_list = [data[['Kilometer']]],\n",
    "        xlab='Пробег(км)',\n",
    "        ylab='Частота в выборке',\n",
    "        title='Распределение параметра Kilometer',\n",
    "        fontsize=18,\n",
    "        bins=200,\n",
    "        figsize=(17,6)\n",
    "    )"
   ]
  },
  {
   "cell_type": "markdown",
   "metadata": {},
   "source": [
    "Предобработанная численная переменная, ничего интересного"
   ]
  },
  {
   "cell_type": "markdown",
   "metadata": {},
   "source": [
    "Подробнее: собственные характеристики авто - **Power**, **Brand**, **Model**, **Gearbox**, **FuelType**, **VehicleType**"
   ]
  },
  {
   "cell_type": "code",
   "execution_count": 40,
   "metadata": {},
   "outputs": [
    {
     "data": {
      "text/plain": [
       "volkswagen        76954\n",
       "opel              39891\n",
       "bmw               36894\n",
       "mercedes_benz     32027\n",
       "audi              29445\n",
       "ford              25155\n",
       "renault           17920\n",
       "peugeot           10992\n",
       "fiat               9632\n",
       "seat               6905\n",
       "mazda              5609\n",
       "skoda              5498\n",
       "smart              5246\n",
       "citroen            5139\n",
       "nissan             4941\n",
       "toyota             4605\n",
       "hyundai            3584\n",
       "sonstige_autos     3273\n",
       "volvo              3210\n",
       "mini               3201\n",
       "mitsubishi         3018\n",
       "honda              2817\n",
       "kia                2465\n",
       "suzuki             2323\n",
       "alfa_romeo         2309\n",
       "chevrolet          1748\n",
       "chrysler           1436\n",
       "dacia               900\n",
       "daihatsu            806\n",
       "subaru              758\n",
       "porsche             754\n",
       "jeep                669\n",
       "trabant             579\n",
       "land_rover          544\n",
       "daewoo              542\n",
       "saab                525\n",
       "jaguar              505\n",
       "rover               485\n",
       "lancia              471\n",
       "lada                225\n",
       "Name: Brand, dtype: int64"
      ]
     },
     "execution_count": 40,
     "metadata": {},
     "output_type": "execute_result"
    }
   ],
   "source": [
    "data['Brand'].value_counts()"
   ]
  },
  {
   "cell_type": "markdown",
   "metadata": {},
   "source": [
    "Все хорошо: приведено к нижнему регистру, чего-то \"радикально странного\" не наблюдается. Оставляем как есть"
   ]
  },
  {
   "cell_type": "code",
   "execution_count": 41,
   "metadata": {},
   "outputs": [
    {
     "data": {
      "text/plain": [
       "petrol      216225\n",
       "gasoline     98704\n",
       "lpg           5309\n",
       "cng            564\n",
       "hybrid         232\n",
       "other          199\n",
       "electric        90\n",
       "Name: FuelType, dtype: int64"
      ]
     },
     "execution_count": 41,
     "metadata": {},
     "output_type": "execute_result"
    }
   ],
   "source": [
    "data['FuelType'].value_counts()"
   ]
  },
  {
   "cell_type": "markdown",
   "metadata": {},
   "source": [
    "Явно налицо терминологическая путаница: gasoline и petrol - это бензин, но в британской и американской версиях наименования (смотрим https://en.wikipedia.org/wiki/Gasoline) + явно хочется сделать признак бинарным (\"petrol\"/\"not petrol\"). Но не будем ничего менять: значения есть, какие - не так важно."
   ]
  },
  {
   "cell_type": "code",
   "execution_count": 42,
   "metadata": {},
   "outputs": [
    {
     "data": {
      "text/plain": [
       "manual    268131\n",
       "auto       66272\n",
       "Name: Gearbox, dtype: int64"
      ]
     },
     "execution_count": 42,
     "metadata": {},
     "output_type": "execute_result"
    }
   ],
   "source": [
    "data['Gearbox'].value_counts()"
   ]
  },
  {
   "cell_type": "markdown",
   "metadata": {},
   "source": [
    "И тут все ожидаемо хорошо (кроме NaN)"
   ]
  },
  {
   "cell_type": "code",
   "execution_count": 43,
   "metadata": {},
   "outputs": [
    {
     "data": {
      "text/plain": [
       "sedan          91425\n",
       "small          79812\n",
       "wagon          65162\n",
       "bus            28771\n",
       "convertible    20191\n",
       "coupe          16152\n",
       "suv            11978\n",
       "other           3264\n",
       "Name: VehicleType, dtype: int64"
      ]
     },
     "execution_count": 43,
     "metadata": {},
     "output_type": "execute_result"
    }
   ],
   "source": [
    "data['VehicleType'].value_counts()"
   ]
  },
  {
   "cell_type": "markdown",
   "metadata": {},
   "source": [
    "И тут хорошо (опять же, кроме NaN)"
   ]
  },
  {
   "cell_type": "code",
   "execution_count": 44,
   "metadata": {},
   "outputs": [
    {
     "data": {
      "text/plain": [
       "golf                  29214\n",
       "other                 24344\n",
       "3er                   19754\n",
       "polo                  13061\n",
       "corsa                 12562\n",
       "                      ...  \n",
       "i3                        8\n",
       "rangerover                4\n",
       "serie_3                   4\n",
       "range_rover_evoque        2\n",
       "serie_1                   2\n",
       "Name: Model, Length: 250, dtype: int64"
      ]
     },
     "execution_count": 44,
     "metadata": {},
     "output_type": "execute_result"
    }
   ],
   "source": [
    "data['Model'].value_counts()"
   ]
  },
  {
   "cell_type": "markdown",
   "metadata": {},
   "source": [
    "Тут (помимо NaN) плохо тем, что при OHE-кодировании может получиться много признаков"
   ]
  },
  {
   "cell_type": "markdown",
   "metadata": {},
   "source": [
    "<div style=\"background: #cceeaa; padding: 5px; border: 1px solid green; border-radius: 5px;\">\n",
    "<font color='green'><u><b>КОММЕНТАРИЙ РЕВЬЮЕРА</b></u>\n",
    "<font color='green'><br>поэтому, к таким признакоам можно примениять методот ordinal"
   ]
  },
  {
   "cell_type": "code",
   "execution_count": 45,
   "metadata": {},
   "outputs": [
    {
     "data": {
      "image/png": "[encoded data removed]",
      "text/plain": [
       "<Figure size 1224x360 with 1 Axes>"
      ]
     },
     "metadata": {
      "needs_background": "light"
     },
     "output_type": "display_data"
    }
   ],
   "source": [
    "boxplot(\n",
    "        [data[['Power']]],\n",
    "        figsize=(17,5), \n",
    "        fontsize=16,\n",
    "        title=f'Power boxplot'\n",
    ")"
   ]
  },
  {
   "cell_type": "code",
   "execution_count": 46,
   "metadata": {},
   "outputs": [
    {
     "data": {
      "image/png": "[encoded data removed]",
      "text/plain": [
       "<Figure size 1224x432 with 1 Axes>"
      ]
     },
     "metadata": {
      "needs_background": "light"
     },
     "output_type": "display_data"
    }
   ],
   "source": [
    "hist(\n",
    "        onecolumn_frames_list = [data[['Power']]],\n",
    "        xlab='Мощность (л.с.)',\n",
    "        ylab='Частота в выборке',\n",
    "        title='Распределение параметра Power',\n",
    "        fontsize=18,\n",
    "        bins=200,\n",
    "        figsize=(17,6)\n",
    "    )"
   ]
  },
  {
   "cell_type": "code",
   "execution_count": 47,
   "metadata": {},
   "outputs": [
    {
     "data": {
      "image/png": "[encoded data removed]",
      "text/plain": [
       "<Figure size 1224x432 with 1 Axes>"
      ]
     },
     "metadata": {
      "needs_background": "light"
     },
     "output_type": "display_data"
    }
   ],
   "source": [
    "hist(\n",
    "        onecolumn_frames_list = [data[['Power']].query('0 <= Power <= 650')],\n",
    "        xlab='Мощность (л.с.)',\n",
    "        ylab='Частота в выборке',\n",
    "        title='Распределение параметра Power в диапазоне [0..650]',\n",
    "        fontsize=18,\n",
    "        bins=200,\n",
    "        figsize=(17,6),\n",
    "        xrange=(0,650)\n",
    "    )"
   ]
  },
  {
   "cell_type": "code",
   "execution_count": 48,
   "metadata": {},
   "outputs": [
    {
     "data": {
      "image/png": "[encoded data removed]",
      "text/plain": [
       "<Figure size 1224x432 with 1 Axes>"
      ]
     },
     "metadata": {
      "needs_background": "light"
     },
     "output_type": "display_data"
    }
   ],
   "source": [
    "hist(\n",
    "        onecolumn_frames_list = [data[['Power']].query('0 <= Power <= 100')],\n",
    "        xlab='Мощность (л.с.)',\n",
    "        ylab='Частота в выборке',\n",
    "        title='Распределение параметра Power в диапазоне [0..100]',\n",
    "        fontsize=18,\n",
    "        bins=200,\n",
    "        figsize=(17,6),\n",
    "        xrange=(0,100)\n",
    "    )"
   ]
  },
  {
   "cell_type": "code",
   "execution_count": 49,
   "metadata": {},
   "outputs": [
    {
     "data": {
      "text/plain": [
       "Power    39960\n",
       "dtype: int64"
      ]
     },
     "execution_count": 49,
     "metadata": {},
     "output_type": "execute_result"
    }
   ],
   "source": [
    "data[['Power']].query('Power == 0').count()"
   ]
  },
  {
   "cell_type": "markdown",
   "metadata": {},
   "source": [
    "Здесь мы отметим только то, что максимальная цена в нашей выборке - 20000 (не важно, долларов, евро или фунтов). Суперкары с мощностью от 1000 л.с. - это существенно более серьезные деньги (на порядки), поэтому, исходя из здравого смысла, можно (в первом приближении) установить их в NaN, равно как и машины с мощностью = 0 л.с (с битым дивгателем? или просто не стали указывать?) + преобразуем в строку чтобы избежать дальнейших затруднений в восстановлении:"
   ]
  },
  {
   "cell_type": "markdown",
   "metadata": {},
   "source": [
    "<div style=\"background: #cceeaa; padding: 5px; border: 1px solid green; border-radius: 5px;\">\n",
    "<font color='green'><u><b>КОММЕНТАРИЙ РЕВЬЮЕРА</b></u>\n",
    "<font color='green'><br>ок, авто по такой цене стоит смотреть внимательнее или тоже вынести в отдельный кластер, как и ретро."
   ]
  },
  {
   "cell_type": "code",
   "execution_count": 50,
   "metadata": {},
   "outputs": [],
   "source": [
    "data['Power'] = data['Power'].apply(lambda x: str(x) if 0 < x < 1000 else np.NaN)"
   ]
  },
  {
   "cell_type": "markdown",
   "metadata": {},
   "source": [
    "Теперь, используя **моду** по подмножеству признаков, выполним циклическое восстановление собственных признаков авто:"
   ]
  },
  {
   "cell_type": "markdown",
   "metadata": {},
   "source": [
    "<div style=\"background: #cceeaa; padding: 5px; border: 1px solid green; border-radius: 5px;\">\n",
    "<font color='green'><u><b>КОММЕНТАРИЙ РЕВЬЮЕРА</b></u>\n",
    "<font color='green'><br>лично я сторонник того, что восстанавливать данные моно, когда уверен на 100% в том, что подставляешь. Т.е. уверен, что ошибки не будет. Если такой уверенности нет - удаляю. Но это мой мнение) А твой подход - тоже может быть интересен."
   ]
  },
  {
   "cell_type": "markdown",
   "metadata": {},
   "source": [
    "<div class=\"alert alert-block alert-info\">\n",
    "<b>Комментарий студента:</b>\n",
    "Смотри, здесь логика такая: я оперирую \"справочными\" свойствами, изначально присущими автомобилю. Я бы мог позвонить на завод и попросить \"прислать мне все данные по всем моделям\", а потом - вписать вручную и получил бы истину. Но вместо этого, я использую голосование, например: \"если <b>большинство</b> пользователей указало, что ['Brand','VehicleType', 'Power', 'Model','Gearbox'] имеют 'FuelType', то я использую именно это значение\". Где могуть быть проблемы? Очевидно, в редких машинах, данных по которым мало. Чтобы уйти от этих ошибок, можно ввести \"порог голосования\" (например, есть минимум 100 строк по срезу) - но, как и Скарлет О'Хара \"я подумаю об этом завтра\"\n",
    "</div>"
   ]
  },
  {
   "cell_type": "markdown",
   "metadata": {},
   "source": [
    "<div style=\"background: #cceeaa; padding: 5px; border: 1px solid green; border-radius: 5px;\">\n",
    "<font color='green'><u><b>КОММЕНТАРИЙ РЕВЬЮЕРА 2</b></u><br>\n",
    "<font color='green'>Так и тут я согласен, просто высказывал именно свой подход) Он мне позволяет не делать проверок подставленных данных, т.е. экономить на этом время:). А любую подстановку надо потом проверять, как она осуществилась..."
   ]
  },
  {
   "cell_type": "code",
   "execution_count": 51,
   "metadata": {},
   "outputs": [],
   "source": [
    "group = ['FuelType','Brand','VehicleType', 'Power', 'Model','Gearbox']"
   ]
  },
  {
   "cell_type": "code",
   "execution_count": 52,
   "metadata": {},
   "outputs": [
    {
     "data": {
      "text/html": [
       "<style  type=\"text/css\" >\n",
       "    #T_d10eb61c_b7d0_11eb_865f_02420a39047erow0_col2 {\n",
       "            width:  10em;\n",
       "             height:  80%;\n",
       "        }    #T_d10eb61c_b7d0_11eb_865f_02420a39047erow1_col2 {\n",
       "            width:  10em;\n",
       "             height:  80%;\n",
       "            background:  linear-gradient(90deg,lightblue 48.5%, transparent 48.5%);\n",
       "        }    #T_d10eb61c_b7d0_11eb_865f_02420a39047erow2_col2 {\n",
       "            width:  10em;\n",
       "             height:  80%;\n",
       "            background:  linear-gradient(90deg,lightblue 48.7%, transparent 48.7%);\n",
       "        }    #T_d10eb61c_b7d0_11eb_865f_02420a39047erow3_col2 {\n",
       "            width:  10em;\n",
       "             height:  80%;\n",
       "            background:  linear-gradient(90deg,lightblue 81.2%, transparent 81.2%);\n",
       "        }    #T_d10eb61c_b7d0_11eb_865f_02420a39047erow4_col2 {\n",
       "            width:  10em;\n",
       "             height:  80%;\n",
       "            background:  linear-gradient(90deg,lightblue 92.5%, transparent 92.5%);\n",
       "        }    #T_d10eb61c_b7d0_11eb_865f_02420a39047erow5_col2 {\n",
       "            width:  10em;\n",
       "             height:  80%;\n",
       "            background:  linear-gradient(90deg,lightblue 100.0%, transparent 100.0%);\n",
       "        }</style><table id=\"T_d10eb61c_b7d0_11eb_865f_02420a39047e\" ><thead>    <tr>        <th class=\"blank level0\" ></th>        <th class=\"col_heading level0 col0\" >Non-Nans</th>        <th class=\"col_heading level0 col1\" >Nans</th>        <th class=\"col_heading level0 col2\" >Nans_share</th>        <th class=\"col_heading level0 col3\" >Type</th>    </tr></thead><tbody>\n",
       "                <tr>\n",
       "                        <th id=\"T_d10eb61c_b7d0_11eb_865f_02420a39047elevel0_row0\" class=\"row_heading level0 row0\" >Brand</th>\n",
       "                        <td id=\"T_d10eb61c_b7d0_11eb_865f_02420a39047erow0_col0\" class=\"data row0 col0\" >354000</td>\n",
       "                        <td id=\"T_d10eb61c_b7d0_11eb_865f_02420a39047erow0_col1\" class=\"data row0 col1\" >0</td>\n",
       "                        <td id=\"T_d10eb61c_b7d0_11eb_865f_02420a39047erow0_col2\" class=\"data row0 col2\" >0</td>\n",
       "                        <td id=\"T_d10eb61c_b7d0_11eb_865f_02420a39047erow0_col3\" class=\"data row0 col3\" >object</td>\n",
       "            </tr>\n",
       "            <tr>\n",
       "                        <th id=\"T_d10eb61c_b7d0_11eb_865f_02420a39047elevel0_row1\" class=\"row_heading level0 row1\" >Model</th>\n",
       "                        <td id=\"T_d10eb61c_b7d0_11eb_865f_02420a39047erow1_col0\" class=\"data row1 col0\" >334466</td>\n",
       "                        <td id=\"T_d10eb61c_b7d0_11eb_865f_02420a39047erow1_col1\" class=\"data row1 col1\" >19534</td>\n",
       "                        <td id=\"T_d10eb61c_b7d0_11eb_865f_02420a39047erow1_col2\" class=\"data row1 col2\" >0.0551808</td>\n",
       "                        <td id=\"T_d10eb61c_b7d0_11eb_865f_02420a39047erow1_col3\" class=\"data row1 col3\" >object</td>\n",
       "            </tr>\n",
       "            <tr>\n",
       "                        <th id=\"T_d10eb61c_b7d0_11eb_865f_02420a39047elevel0_row2\" class=\"row_heading level0 row2\" >Gearbox</th>\n",
       "                        <td id=\"T_d10eb61c_b7d0_11eb_865f_02420a39047erow2_col0\" class=\"data row2 col0\" >334403</td>\n",
       "                        <td id=\"T_d10eb61c_b7d0_11eb_865f_02420a39047erow2_col1\" class=\"data row2 col1\" >19597</td>\n",
       "                        <td id=\"T_d10eb61c_b7d0_11eb_865f_02420a39047erow2_col2\" class=\"data row2 col2\" >0.0553588</td>\n",
       "                        <td id=\"T_d10eb61c_b7d0_11eb_865f_02420a39047erow2_col3\" class=\"data row2 col3\" >object</td>\n",
       "            </tr>\n",
       "            <tr>\n",
       "                        <th id=\"T_d10eb61c_b7d0_11eb_865f_02420a39047elevel0_row3\" class=\"row_heading level0 row3\" >FuelType</th>\n",
       "                        <td id=\"T_d10eb61c_b7d0_11eb_865f_02420a39047erow3_col0\" class=\"data row3 col0\" >321323</td>\n",
       "                        <td id=\"T_d10eb61c_b7d0_11eb_865f_02420a39047erow3_col1\" class=\"data row3 col1\" >32677</td>\n",
       "                        <td id=\"T_d10eb61c_b7d0_11eb_865f_02420a39047erow3_col2\" class=\"data row3 col2\" >0.0923079</td>\n",
       "                        <td id=\"T_d10eb61c_b7d0_11eb_865f_02420a39047erow3_col3\" class=\"data row3 col3\" >object</td>\n",
       "            </tr>\n",
       "            <tr>\n",
       "                        <th id=\"T_d10eb61c_b7d0_11eb_865f_02420a39047elevel0_row4\" class=\"row_heading level0 row4\" >VehicleType</th>\n",
       "                        <td id=\"T_d10eb61c_b7d0_11eb_865f_02420a39047erow4_col0\" class=\"data row4 col0\" >316755</td>\n",
       "                        <td id=\"T_d10eb61c_b7d0_11eb_865f_02420a39047erow4_col1\" class=\"data row4 col1\" >37245</td>\n",
       "                        <td id=\"T_d10eb61c_b7d0_11eb_865f_02420a39047erow4_col2\" class=\"data row4 col2\" >0.105212</td>\n",
       "                        <td id=\"T_d10eb61c_b7d0_11eb_865f_02420a39047erow4_col3\" class=\"data row4 col3\" >object</td>\n",
       "            </tr>\n",
       "            <tr>\n",
       "                        <th id=\"T_d10eb61c_b7d0_11eb_865f_02420a39047elevel0_row5\" class=\"row_heading level0 row5\" >Power</th>\n",
       "                        <td id=\"T_d10eb61c_b7d0_11eb_865f_02420a39047erow5_col0\" class=\"data row5 col0\" >313742</td>\n",
       "                        <td id=\"T_d10eb61c_b7d0_11eb_865f_02420a39047erow5_col1\" class=\"data row5 col1\" >40258</td>\n",
       "                        <td id=\"T_d10eb61c_b7d0_11eb_865f_02420a39047erow5_col2\" class=\"data row5 col2\" >0.113723</td>\n",
       "                        <td id=\"T_d10eb61c_b7d0_11eb_865f_02420a39047erow5_col3\" class=\"data row5 col3\" >object</td>\n",
       "            </tr>\n",
       "    </tbody></table>"
      ],
      "text/plain": [
       "<pandas.io.formats.style.Styler at 0x7f9734ad4e90>"
      ]
     },
     "execution_count": 52,
     "metadata": {},
     "output_type": "execute_result"
    }
   ],
   "source": [
    "frame_info(data[group])"
   ]
  },
  {
   "cell_type": "code",
   "execution_count": 53,
   "metadata": {},
   "outputs": [
    {
     "name": "stdout",
     "output_type": "stream",
     "text": [
      "FuelType ['Brand', 'VehicleType', 'Power', 'Model', 'Gearbox'] 0.3979858757062147 0\n",
      "Brand ['FuelType', 'VehicleType', 'Power', 'Model', 'Gearbox'] 0.3979858757062147 1\n",
      "VehicleType ['FuelType', 'Brand', 'Power', 'Model', 'Gearbox'] 0.3690508474576271 1\n",
      "Power ['FuelType', 'Brand', 'VehicleType', 'Model', 'Gearbox'] 0.3248050847457627 1\n",
      "Model ['FuelType', 'Brand', 'VehicleType', 'Power', 'Gearbox'] 0.3086779661016949 1\n",
      "Gearbox ['FuelType', 'Brand', 'VehicleType', 'Power', 'Model'] 0.300090395480226 1\n",
      "FuelType ['Brand', 'VehicleType', 'Power', 'Model', 'Gearbox'] 0.30004802259887003 1\n",
      "Brand ['FuelType', 'VehicleType', 'Power', 'Model', 'Gearbox'] 0.30004802259887003 2\n",
      "VehicleType ['FuelType', 'Brand', 'Power', 'Model', 'Gearbox'] 0.29992372881355933 2\n",
      "Power ['FuelType', 'Brand', 'VehicleType', 'Model', 'Gearbox'] 0.2995790960451977 2\n",
      "Model ['FuelType', 'Brand', 'VehicleType', 'Power', 'Gearbox'] 0.2995225988700565 2\n",
      "Gearbox ['FuelType', 'Brand', 'VehicleType', 'Power', 'Model'] 0.2995225988700565 3\n",
      "FuelType ['Brand', 'VehicleType', 'Power', 'Model', 'Gearbox'] 0.2995225988700565 4\n",
      "Brand ['FuelType', 'VehicleType', 'Power', 'Model', 'Gearbox'] 0.2995225988700565 5\n",
      "VehicleType ['FuelType', 'Brand', 'Power', 'Model', 'Gearbox'] 0.2995225988700565 6\n"
     ]
    }
   ],
   "source": [
    "counter = 0\n",
    "sum_prev = 0\n",
    "sum_current = 0\n",
    "equality_counter = 0\n",
    "while equality_counter < len (group):\n",
    "    rgroup = group.copy()\n",
    "    rtarget = rgroup.pop(counter)\n",
    "    print(rtarget, rgroup, end='')\n",
    "    data = resurrect_by_mode(data, rgroup, rtarget) # восстанавлием rtarget на основании моды rtarget в выборке по группе  \n",
    "    sum_prev = sum_current\n",
    "    sum_current = frame_info(data[group],nans_bar=False)['Nans_share'].sum()\n",
    "    if(sum_prev == sum_current):\n",
    "        equality_counter += 1\n",
    "    counter += 1\n",
    "    counter = counter %len(group)\n",
    "    print('', sum_current, equality_counter)"
   ]
  },
  {
   "cell_type": "code",
   "execution_count": 54,
   "metadata": {},
   "outputs": [
    {
     "data": {
      "text/html": [
       "<style  type=\"text/css\" >\n",
       "    #T_15b8e53a_b7d1_11eb_865f_02420a39047erow0_col2 {\n",
       "            width:  10em;\n",
       "             height:  80%;\n",
       "        }    #T_15b8e53a_b7d1_11eb_865f_02420a39047erow1_col2 {\n",
       "            width:  10em;\n",
       "             height:  80%;\n",
       "            background:  linear-gradient(90deg,lightblue 51.2%, transparent 51.2%);\n",
       "        }    #T_15b8e53a_b7d1_11eb_865f_02420a39047erow2_col2 {\n",
       "            width:  10em;\n",
       "             height:  80%;\n",
       "            background:  linear-gradient(90deg,lightblue 61.4%, transparent 61.4%);\n",
       "        }    #T_15b8e53a_b7d1_11eb_865f_02420a39047erow3_col2 {\n",
       "            width:  10em;\n",
       "             height:  80%;\n",
       "            background:  linear-gradient(90deg,lightblue 89.9%, transparent 89.9%);\n",
       "        }    #T_15b8e53a_b7d1_11eb_865f_02420a39047erow4_col2 {\n",
       "            width:  10em;\n",
       "             height:  80%;\n",
       "            background:  linear-gradient(90deg,lightblue 90.8%, transparent 90.8%);\n",
       "        }    #T_15b8e53a_b7d1_11eb_865f_02420a39047erow5_col2 {\n",
       "            width:  10em;\n",
       "             height:  80%;\n",
       "            background:  linear-gradient(90deg,lightblue 100.0%, transparent 100.0%);\n",
       "        }</style><table id=\"T_15b8e53a_b7d1_11eb_865f_02420a39047e\" ><thead>    <tr>        <th class=\"blank level0\" ></th>        <th class=\"col_heading level0 col0\" >Non-Nans</th>        <th class=\"col_heading level0 col1\" >Nans</th>        <th class=\"col_heading level0 col2\" >Nans_share</th>        <th class=\"col_heading level0 col3\" >Type</th>    </tr></thead><tbody>\n",
       "                <tr>\n",
       "                        <th id=\"T_15b8e53a_b7d1_11eb_865f_02420a39047elevel0_row0\" class=\"row_heading level0 row0\" >Brand</th>\n",
       "                        <td id=\"T_15b8e53a_b7d1_11eb_865f_02420a39047erow0_col0\" class=\"data row0 col0\" >354000</td>\n",
       "                        <td id=\"T_15b8e53a_b7d1_11eb_865f_02420a39047erow0_col1\" class=\"data row0 col1\" >0</td>\n",
       "                        <td id=\"T_15b8e53a_b7d1_11eb_865f_02420a39047erow0_col2\" class=\"data row0 col2\" >0</td>\n",
       "                        <td id=\"T_15b8e53a_b7d1_11eb_865f_02420a39047erow0_col3\" class=\"data row0 col3\" >object</td>\n",
       "            </tr>\n",
       "            <tr>\n",
       "                        <th id=\"T_15b8e53a_b7d1_11eb_865f_02420a39047elevel0_row1\" class=\"row_heading level0 row1\" >Model</th>\n",
       "                        <td id=\"T_15b8e53a_b7d1_11eb_865f_02420a39047erow1_col0\" class=\"data row1 col0\" >340195</td>\n",
       "                        <td id=\"T_15b8e53a_b7d1_11eb_865f_02420a39047erow1_col1\" class=\"data row1 col1\" >13805</td>\n",
       "                        <td id=\"T_15b8e53a_b7d1_11eb_865f_02420a39047erow1_col2\" class=\"data row1 col2\" >0.0389972</td>\n",
       "                        <td id=\"T_15b8e53a_b7d1_11eb_865f_02420a39047erow1_col3\" class=\"data row1 col3\" >object</td>\n",
       "            </tr>\n",
       "            <tr>\n",
       "                        <th id=\"T_15b8e53a_b7d1_11eb_865f_02420a39047elevel0_row2\" class=\"row_heading level0 row2\" >Gearbox</th>\n",
       "                        <td id=\"T_15b8e53a_b7d1_11eb_865f_02420a39047erow2_col0\" class=\"data row2 col0\" >337443</td>\n",
       "                        <td id=\"T_15b8e53a_b7d1_11eb_865f_02420a39047erow2_col1\" class=\"data row2 col1\" >16557</td>\n",
       "                        <td id=\"T_15b8e53a_b7d1_11eb_865f_02420a39047erow2_col2\" class=\"data row2 col2\" >0.0467712</td>\n",
       "                        <td id=\"T_15b8e53a_b7d1_11eb_865f_02420a39047erow2_col3\" class=\"data row2 col3\" >object</td>\n",
       "            </tr>\n",
       "            <tr>\n",
       "                        <th id=\"T_15b8e53a_b7d1_11eb_865f_02420a39047elevel0_row3\" class=\"row_heading level0 row3\" >FuelType</th>\n",
       "                        <td id=\"T_15b8e53a_b7d1_11eb_865f_02420a39047erow3_col0\" class=\"data row3 col0\" >329762</td>\n",
       "                        <td id=\"T_15b8e53a_b7d1_11eb_865f_02420a39047erow3_col1\" class=\"data row3 col1\" >24238</td>\n",
       "                        <td id=\"T_15b8e53a_b7d1_11eb_865f_02420a39047erow3_col2\" class=\"data row3 col2\" >0.0684689</td>\n",
       "                        <td id=\"T_15b8e53a_b7d1_11eb_865f_02420a39047erow3_col3\" class=\"data row3 col3\" >object</td>\n",
       "            </tr>\n",
       "            <tr>\n",
       "                        <th id=\"T_15b8e53a_b7d1_11eb_865f_02420a39047elevel0_row4\" class=\"row_heading level0 row4\" >Power</th>\n",
       "                        <td id=\"T_15b8e53a_b7d1_11eb_865f_02420a39047erow4_col0\" class=\"data row4 col0\" >329527</td>\n",
       "                        <td id=\"T_15b8e53a_b7d1_11eb_865f_02420a39047erow4_col1\" class=\"data row4 col1\" >24473</td>\n",
       "                        <td id=\"T_15b8e53a_b7d1_11eb_865f_02420a39047erow4_col2\" class=\"data row4 col2\" >0.0691328</td>\n",
       "                        <td id=\"T_15b8e53a_b7d1_11eb_865f_02420a39047erow4_col3\" class=\"data row4 col3\" >object</td>\n",
       "            </tr>\n",
       "            <tr>\n",
       "                        <th id=\"T_15b8e53a_b7d1_11eb_865f_02420a39047elevel0_row5\" class=\"row_heading level0 row5\" >VehicleType</th>\n",
       "                        <td id=\"T_15b8e53a_b7d1_11eb_865f_02420a39047erow5_col0\" class=\"data row5 col0\" >327042</td>\n",
       "                        <td id=\"T_15b8e53a_b7d1_11eb_865f_02420a39047erow5_col1\" class=\"data row5 col1\" >26958</td>\n",
       "                        <td id=\"T_15b8e53a_b7d1_11eb_865f_02420a39047erow5_col2\" class=\"data row5 col2\" >0.0761525</td>\n",
       "                        <td id=\"T_15b8e53a_b7d1_11eb_865f_02420a39047erow5_col3\" class=\"data row5 col3\" >object</td>\n",
       "            </tr>\n",
       "    </tbody></table>"
      ],
      "text/plain": [
       "<pandas.io.formats.style.Styler at 0x7f9731d89050>"
      ]
     },
     "execution_count": 54,
     "metadata": {},
     "output_type": "execute_result"
    }
   ],
   "source": [
    "frame_info(data[group])"
   ]
  },
  {
   "cell_type": "markdown",
   "metadata": {},
   "source": [
    "Все, что с NaN теперь просто отбросим и не забудем вернуть тип int для **Power**, а также исключим полные дубликаты:"
   ]
  },
  {
   "cell_type": "code",
   "execution_count": 55,
   "metadata": {},
   "outputs": [],
   "source": [
    "data.dropna(inplace=True)"
   ]
  },
  {
   "cell_type": "code",
   "execution_count": 56,
   "metadata": {},
   "outputs": [],
   "source": [
    "data['Power'] = data['Power'].astype('int64')"
   ]
  },
  {
   "cell_type": "code",
   "execution_count": 57,
   "metadata": {},
   "outputs": [],
   "source": [
    "data.drop_duplicates(inplace=True)"
   ]
  },
  {
   "cell_type": "markdown",
   "metadata": {},
   "source": [
    "Разделим переменные на категориальные и численные:"
   ]
  },
  {
   "cell_type": "code",
   "execution_count": 58,
   "metadata": {},
   "outputs": [
    {
     "data": {
      "text/html": [
       "<th style=\"text-align:left\"><td style=\"vertical-align:top\"><h3>Категориальные</h3><table style=\"display: inline; \" border=\"1\" class=\"dataframe\">\n",
       "  <thead>\n",
       "    <tr style=\"text-align: right;\">\n",
       "      <th></th>\n",
       "      <th>Non-Nans</th>\n",
       "      <th>Nans</th>\n",
       "      <th>Nans_share</th>\n",
       "      <th>Type</th>\n",
       "    </tr>\n",
       "  </thead>\n",
       "  <tbody>\n",
       "    <tr>\n",
       "      <th>VehicleType</th>\n",
       "      <td>301574</td>\n",
       "      <td>0</td>\n",
       "      <td>0.0</td>\n",
       "      <td>object</td>\n",
       "    </tr>\n",
       "    <tr>\n",
       "      <th>Gearbox</th>\n",
       "      <td>301574</td>\n",
       "      <td>0</td>\n",
       "      <td>0.0</td>\n",
       "      <td>object</td>\n",
       "    </tr>\n",
       "    <tr>\n",
       "      <th>Model</th>\n",
       "      <td>301574</td>\n",
       "      <td>0</td>\n",
       "      <td>0.0</td>\n",
       "      <td>object</td>\n",
       "    </tr>\n",
       "    <tr>\n",
       "      <th>FuelType</th>\n",
       "      <td>301574</td>\n",
       "      <td>0</td>\n",
       "      <td>0.0</td>\n",
       "      <td>object</td>\n",
       "    </tr>\n",
       "    <tr>\n",
       "      <th>Brand</th>\n",
       "      <td>301574</td>\n",
       "      <td>0</td>\n",
       "      <td>0.0</td>\n",
       "      <td>object</td>\n",
       "    </tr>\n",
       "    <tr>\n",
       "      <th>NotRepaired</th>\n",
       "      <td>301574</td>\n",
       "      <td>0</td>\n",
       "      <td>0.0</td>\n",
       "      <td>object</td>\n",
       "    </tr>\n",
       "    <tr>\n",
       "      <th>PostalCode</th>\n",
       "      <td>301574</td>\n",
       "      <td>0</td>\n",
       "      <td>0.0</td>\n",
       "      <td>int64</td>\n",
       "    </tr>\n",
       "  </tbody>\n",
       "</table style=\"display: inline; \"></td></th><th style=\"text-align:left\"><td style=\"vertical-align:top\"><h3>Численные</h3><table style=\"display: inline; \" border=\"1\" class=\"dataframe\">\n",
       "  <thead>\n",
       "    <tr style=\"text-align: right;\">\n",
       "      <th></th>\n",
       "      <th>Non-Nans</th>\n",
       "      <th>Nans</th>\n",
       "      <th>Nans_share</th>\n",
       "      <th>Type</th>\n",
       "    </tr>\n",
       "  </thead>\n",
       "  <tbody>\n",
       "    <tr>\n",
       "      <th>RegMonthsFrom1950</th>\n",
       "      <td>301574</td>\n",
       "      <td>0</td>\n",
       "      <td>0.0</td>\n",
       "      <td>int64</td>\n",
       "    </tr>\n",
       "    <tr>\n",
       "      <th>Power</th>\n",
       "      <td>301574</td>\n",
       "      <td>0</td>\n",
       "      <td>0.0</td>\n",
       "      <td>int64</td>\n",
       "    </tr>\n",
       "    <tr>\n",
       "      <th>DaysOnSale</th>\n",
       "      <td>301574</td>\n",
       "      <td>0</td>\n",
       "      <td>0.0</td>\n",
       "      <td>int64</td>\n",
       "    </tr>\n",
       "    <tr>\n",
       "      <th>Kilometer</th>\n",
       "      <td>301574</td>\n",
       "      <td>0</td>\n",
       "      <td>0.0</td>\n",
       "      <td>int64</td>\n",
       "    </tr>\n",
       "  </tbody>\n",
       "</table style=\"display: inline; \"></td></th>"
      ]
     },
     "metadata": {},
     "output_type": "display_data"
    }
   ],
   "source": [
    "feat_categorial = ['VehicleType','Gearbox','Model','FuelType','Brand','NotRepaired','PostalCode']\n",
    "feat_numeric = set(data.columns).difference(feat_categorial)\n",
    "feat_numeric.remove('Price')\n",
    "feat_numeric = list(feat_numeric)\n",
    "display_side_by_side(\n",
    "    frame_info(data[feat_categorial], nans_bar=False),\n",
    "    frame_info(data[feat_numeric], nans_bar=False),\n",
    "    titles=['Категориальные', 'Численные']\n",
    "    \n",
    ")"
   ]
  },
  {
   "cell_type": "markdown",
   "metadata": {},
   "source": [
    "Кодирование (OHE) для категориальных признаков и масштабирование (StandardScaler) для численных реализовано в классе Comparator, который будет использован для дальнейшего анализа работы алгоритов"
   ]
  },
  {
   "cell_type": "markdown",
   "metadata": {},
   "source": [
    "<div style=\"background: #cceeaa; padding: 5px; border: 1px solid green; border-radius: 5px;\">\n",
    "<font color='green'><u><b>КОММЕНТАРИЙ РЕВЬЮЕРА</b></u>\n",
    "<font color='green'><br>То, что я не со всеми подходами согласен(постарался аргументировать почему) - не важно . Важно, что ничего не забыл посмотеть и обо всё поразмыслил. Хорошая работа по разделу!"
   ]
  },
  {
   "cell_type": "markdown",
   "metadata": {},
   "source": [
    "## А где же память?\n"
   ]
  },
  {
   "cell_type": "markdown",
   "metadata": {},
   "source": [
    "Печаль выглядит вот так:"
   ]
  },
  {
   "cell_type": "markdown",
   "metadata": {},
   "source": [
    "<pre>\n",
    "TerminatedWorkerError: A worker process managed by the executor was unexpectedly terminated. This could be caused by a segmentation fault while calling the function or by an excessive memory usage causing the Operating System to kill the worker.\n",
    "\n",
    "The exit codes of the workers are {SIGKILL(-9)}\n",
    "</pre>\n"
   ]
  },
  {
   "cell_type": "markdown",
   "metadata": {},
   "source": [
    "Ограничим набор features теми, для которых запуск алгоритма все-таки происходит.**Отдельно отметим, что анализ использования памяти DataFrame'ом и нашей с ним работы - совсем не то, ради чего мы проходим данный курс**:"
   ]
  },
  {
   "cell_type": "markdown",
   "metadata": {},
   "source": [
    "<div style=\"background: #cceeaa; padding: 5px; border: 1px solid green; border-radius: 5px;\">\n",
    "<font color='green'><u><b>КОММЕНТАРИЙ РЕВЬЮЕРА</b></u>\n",
    "<font color='green'><br>согласен)"
   ]
  },
  {
   "cell_type": "code",
   "execution_count": 59,
   "metadata": {},
   "outputs": [
    {
     "data": {
      "text/html": [
       "<th style=\"text-align:left\"><td style=\"vertical-align:top\"><h3>Используемые категориальные</h3><table style=\"display: inline; \" border=\"1\" class=\"dataframe\">\n",
       "  <thead>\n",
       "    <tr style=\"text-align: right;\">\n",
       "      <th></th>\n",
       "      <th>Non-Nans</th>\n",
       "      <th>Nans</th>\n",
       "      <th>Nans_share</th>\n",
       "      <th>Type</th>\n",
       "    </tr>\n",
       "  </thead>\n",
       "  <tbody>\n",
       "    <tr>\n",
       "      <th>VehicleType</th>\n",
       "      <td>301574</td>\n",
       "      <td>0</td>\n",
       "      <td>0.0</td>\n",
       "      <td>object</td>\n",
       "    </tr>\n",
       "    <tr>\n",
       "      <th>Gearbox</th>\n",
       "      <td>301574</td>\n",
       "      <td>0</td>\n",
       "      <td>0.0</td>\n",
       "      <td>object</td>\n",
       "    </tr>\n",
       "    <tr>\n",
       "      <th>FuelType</th>\n",
       "      <td>301574</td>\n",
       "      <td>0</td>\n",
       "      <td>0.0</td>\n",
       "      <td>object</td>\n",
       "    </tr>\n",
       "    <tr>\n",
       "      <th>Brand</th>\n",
       "      <td>301574</td>\n",
       "      <td>0</td>\n",
       "      <td>0.0</td>\n",
       "      <td>object</td>\n",
       "    </tr>\n",
       "    <tr>\n",
       "      <th>NotRepaired</th>\n",
       "      <td>301574</td>\n",
       "      <td>0</td>\n",
       "      <td>0.0</td>\n",
       "      <td>object</td>\n",
       "    </tr>\n",
       "  </tbody>\n",
       "</table style=\"display: inline; \"></td></th><th style=\"text-align:left\"><td style=\"vertical-align:top\"><h3>Используемые численные</h3><table style=\"display: inline; \" border=\"1\" class=\"dataframe\">\n",
       "  <thead>\n",
       "    <tr style=\"text-align: right;\">\n",
       "      <th></th>\n",
       "      <th>Non-Nans</th>\n",
       "      <th>Nans</th>\n",
       "      <th>Nans_share</th>\n",
       "      <th>Type</th>\n",
       "    </tr>\n",
       "  </thead>\n",
       "  <tbody>\n",
       "    <tr>\n",
       "      <th>RegMonthsFrom1950</th>\n",
       "      <td>301574</td>\n",
       "      <td>0</td>\n",
       "      <td>0.0</td>\n",
       "      <td>int64</td>\n",
       "    </tr>\n",
       "    <tr>\n",
       "      <th>Power</th>\n",
       "      <td>301574</td>\n",
       "      <td>0</td>\n",
       "      <td>0.0</td>\n",
       "      <td>int64</td>\n",
       "    </tr>\n",
       "    <tr>\n",
       "      <th>DaysOnSale</th>\n",
       "      <td>301574</td>\n",
       "      <td>0</td>\n",
       "      <td>0.0</td>\n",
       "      <td>int64</td>\n",
       "    </tr>\n",
       "    <tr>\n",
       "      <th>Kilometer</th>\n",
       "      <td>301574</td>\n",
       "      <td>0</td>\n",
       "      <td>0.0</td>\n",
       "      <td>int64</td>\n",
       "    </tr>\n",
       "  </tbody>\n",
       "</table style=\"display: inline; \"></td></th>"
      ]
     },
     "metadata": {},
     "output_type": "display_data"
    }
   ],
   "source": [
    "feat_to_remove = ['Model','PostalCode']\n",
    "for feat in feat_to_remove:\n",
    "    feat_categorial.remove(feat)\n",
    "data.drop(columns=feat_to_remove,inplace=True)\n",
    "display_side_by_side(\n",
    "    frame_info(data[feat_categorial], nans_bar=False),\n",
    "    frame_info(data[feat_numeric], nans_bar=False),\n",
    "    titles=['Используемые категориальные', 'Используемые численные']\n",
    ")"
   ]
  },
  {
   "cell_type": "markdown",
   "metadata": {},
   "source": [
    "<div style=\"background: #cceeaa; padding: 5px; border: 1px solid green; border-radius: 5px;\">\n",
    "<font color='green'><u><b>КОММЕНТАРИЙ РЕВЬЮЕРА</b></u>\n",
    "<font color='green'><br>красиво и понятно!"
   ]
  },
  {
   "cell_type": "markdown",
   "metadata": {},
   "source": [
    "## Обучение моделей"
   ]
  },
  {
   "cell_type": "markdown",
   "metadata": {},
   "source": [
    "Разобъем данные и посмотрим на результаты обучения и тестирования:"
   ]
  },
  {
   "cell_type": "code",
   "execution_count": 60,
   "metadata": {},
   "outputs": [],
   "source": [
    "targ = data['Price']\n",
    "feat = data.drop(columns=['Price'])"
   ]
  },
  {
   "cell_type": "code",
   "execution_count": 61,
   "metadata": {},
   "outputs": [],
   "source": [
    "feat_train, feat_test, targ_train, targ_test = train_test_split(\n",
    "                                                    feat, \n",
    "                                                    targ, \n",
    "                                                    test_size=0.25, \n",
    "                                                    random_state=GLOBAL_RANDOM_STATE)"
   ]
  },
  {
   "cell_type": "markdown",
   "metadata": {},
   "source": [
    "Попытаемся очистить память (не факт что успешно - цифра, возвращаемая gc.collect() - достаточно бессмысленна)"
   ]
  },
  {
   "cell_type": "code",
   "execution_count": 62,
   "metadata": {},
   "outputs": [
    {
     "data": {
      "text/plain": [
       "48834"
      ]
     },
     "execution_count": 62,
     "metadata": {},
     "output_type": "execute_result"
    }
   ],
   "source": [
    "del data\n",
    "del targ\n",
    "del feat\n",
    "gc.collect()"
   ]
  },
  {
   "cell_type": "code",
   "execution_count": 63,
   "metadata": {},
   "outputs": [
    {
     "name": "stdout",
     "output_type": "stream",
     "text": [
      "Выбор гиперпараметров LinearRegression занял 25.996 секунд\n",
      "Выбор гиперпараметров RandomForestRegressor занял 279.393 секунд\n",
      "Выбор гиперпараметров LGBMRegressor занял 93.403 секунд\n",
      "Выбор гиперпараметров CatBoostRegressor занял 142.823 секунд\n",
      "Общее время: 544.3811410032213\n"
     ]
    },
    {
     "data": {
      "text/html": [
       "<div>\n",
       "<style scoped>\n",
       "    .dataframe tbody tr th:only-of-type {\n",
       "        vertical-align: middle;\n",
       "    }\n",
       "\n",
       "    .dataframe tbody tr th {\n",
       "        vertical-align: top;\n",
       "    }\n",
       "\n",
       "    .dataframe thead th {\n",
       "        text-align: right;\n",
       "    }\n",
       "</style>\n",
       "<table border=\"1\" class=\"dataframe\">\n",
       "  <thead>\n",
       "    <tr style=\"text-align: right;\">\n",
       "      <th></th>\n",
       "      <th>Estimator</th>\n",
       "      <th>Лучшие параметры</th>\n",
       "      <th>CV-RMSE (train)</th>\n",
       "      <th>RMSE (train)</th>\n",
       "      <th>RMSE (test)</th>\n",
       "      <th>Time (fit)</th>\n",
       "      <th>Time (predict, train)</th>\n",
       "      <th>Time (predict, test)</th>\n",
       "    </tr>\n",
       "  </thead>\n",
       "  <tbody>\n",
       "    <tr>\n",
       "      <td>0</td>\n",
       "      <td>LinearRegression</td>\n",
       "      <td>{'fit_intercept': True, 'normalize': True}</td>\n",
       "      <td>2781.788319</td>\n",
       "      <td>2780.712541</td>\n",
       "      <td>2787.322338</td>\n",
       "      <td>25.996</td>\n",
       "      <td>0.127</td>\n",
       "      <td>0.112</td>\n",
       "    </tr>\n",
       "    <tr>\n",
       "      <td>1</td>\n",
       "      <td>RandomForestRegressor</td>\n",
       "      <td>{'max_depth': 5, 'n_estimators': 11, 'random_state': 12345}</td>\n",
       "      <td>2382.502518</td>\n",
       "      <td>2385.605358</td>\n",
       "      <td>2399.719141</td>\n",
       "      <td>279.393</td>\n",
       "      <td>0.224</td>\n",
       "      <td>0.077</td>\n",
       "    </tr>\n",
       "    <tr>\n",
       "      <td>2</td>\n",
       "      <td>LGBMRegressor</td>\n",
       "      <td>{'max_depth': 5, 'n_estimators': 43, 'random_state': 12345}</td>\n",
       "      <td>1912.209588</td>\n",
       "      <td>1899.225753</td>\n",
       "      <td>1923.997217</td>\n",
       "      <td>93.403</td>\n",
       "      <td>1.124</td>\n",
       "      <td>0.387</td>\n",
       "    </tr>\n",
       "    <tr>\n",
       "      <td>3</td>\n",
       "      <td>CatBoostRegressor</td>\n",
       "      <td>{'learning_rate': 0.9, 'n_estimators': 43, 'random_state': 12345, 'verbose': False}</td>\n",
       "      <td>1783.144337</td>\n",
       "      <td>1736.532910</td>\n",
       "      <td>1781.678622</td>\n",
       "      <td>142.823</td>\n",
       "      <td>0.111</td>\n",
       "      <td>0.015</td>\n",
       "    </tr>\n",
       "  </tbody>\n",
       "</table>\n",
       "</div>"
      ],
      "text/plain": [
       "               Estimator  \\\n",
       "0       LinearRegression   \n",
       "1  RandomForestRegressor   \n",
       "2          LGBMRegressor   \n",
       "3      CatBoostRegressor   \n",
       "\n",
       "                                                                      Лучшие параметры  \\\n",
       "0                                           {'fit_intercept': True, 'normalize': True}   \n",
       "1                          {'max_depth': 5, 'n_estimators': 11, 'random_state': 12345}   \n",
       "2                          {'max_depth': 5, 'n_estimators': 43, 'random_state': 12345}   \n",
       "3  {'learning_rate': 0.9, 'n_estimators': 43, 'random_state': 12345, 'verbose': False}   \n",
       "\n",
       "   CV-RMSE (train)  RMSE (train)  RMSE (test)  Time (fit)  \\\n",
       "0      2781.788319   2780.712541  2787.322338      25.996   \n",
       "1      2382.502518   2385.605358  2399.719141     279.393   \n",
       "2      1912.209588   1899.225753  1923.997217      93.403   \n",
       "3      1783.144337   1736.532910  1781.678622     142.823   \n",
       "\n",
       "   Time (predict, train)  Time (predict, test)  \n",
       "0                  0.127                 0.112  \n",
       "1                  0.224                 0.077  \n",
       "2                  1.124                 0.387  \n",
       "3                  0.111                 0.015  "
      ]
     },
     "execution_count": 63,
     "metadata": {},
     "output_type": "execute_result"
    }
   ],
   "source": [
    "comparator = Comparator()\n",
    "comparator.process(feat_train, targ_train, feat_test, targ_test, feat_categorial, feat_numeric)\n",
    "comparator.report()"
   ]
  },
  {
   "cell_type": "markdown",
   "metadata": {},
   "source": [
    "## Анализ моделей"
   ]
  },
  {
   "cell_type": "markdown",
   "metadata": {},
   "source": [
    "По результатам работы:\n",
    "1. По двум критериям из трех: скорость предсказания и минимальная RMSE побеждаем CatBoostRegressor\n",
    "1. Если максимально критично быстрое переобучение (например, на данных изменяемых в реальном времени) - то лучше использовать линейную регрессию: да, RMSE выше, но время обучения существенно ниже.\n",
    "1. LightGBM (на данных признаках) покзал себя странно - сложно придумать сценарий, в котором но будет оптимален."
   ]
  },
  {
   "cell_type": "markdown",
   "metadata": {},
   "source": [
    "<div style=\"background: #cceeaa; padding: 5px; border: 1px solid green; border-radius: 5px;\">\n",
    "<font color='green'><u><b>КОММЕНТАРИЙ РЕВЬЮЕРА</b></u></font><br />\n",
    "<font color='green'>\n",
    "<br/>Георгий, крепкая работа<br>\n",
    "Прочитав её до конца хочется добавить: ...\"А по сему и делу конец), как говорится\" <br>\n",
    "Мне было интерено двигаться от блока к блоку, читать размышления, код и выводы.<br>\n",
    "При этом оформление выводов такое же последовательное и адекватное.<br>\n",
    "В целом, ты не забыл поисследовать данные, и достаточно разносторонне поработать с моделями.<br>\n",
    "    \n",
    "<font color='green'>\n",
    "Если говорить, что можно ещё улучшить в подобных проектах, то я бы выделили такие моменты:<br>   \n",
    "1) Для понимания, а какие в итоге факторы важны при моделировании, можно выводить их важность, использую feature_importances_, ну и график заодно. Это будет смотреться очнь здорово: результативная метрика и график важности факторов)))<br>  \n",
    "    \n",
    "2) предварительная работа с данными:<br>\n",
    "Можно организовать для себя некую систему работы с данными:<br>\n",
    " \n",
    "Например, алгоритм такой может:<br>\n",
    "а) анализ аномалий: количественные и категориальные переменные <br>\n",
    "б) анализ пропусков: количественные и категориальные переменные<br>\n",
    "в) проверка дубликатов<br>\n",
    "г) Анализ факторов: исходя из типа шкалы, могут применять следующие графический и аналитический анализы:<br>\n",
    "- колличественная-колличественная: аналитически методод - корреляции, графический - скатерплот.<br>\n",
    "- колличественная-номинальная: аналитически методод - проверка гипотез (стьюдент, маннауитни), графический - боксплот.<br>\n",
    "- номинальная-номинальная: аналитически методод - Хи-квадрат, графический - круговая диаграмма<br>\n",
    "    \n",
    "3) Можно попробовать провести анализ остатков. Вычислить разницу между прогноз-факт и посмотерть что и как можедель чаще всего хорошо/плохо предсказывает.<br>\n",
    "4) У нас разный возраст машин. Есть гипотеза, что для разных возрастов - своё ценообразование. Поэтому, можно попробовать ввести фактор \"тип возраста\" (ретро, суперретро, старая, новаоя... надо пдумать..) ну и попробовать новую модель (этопросто на обчуждение). А может, по каждому кластеру - вообще своя модель...<br>\n",
    "    \n",
    "    \n",
    "<font color='red'>\n",
    "Что ещё лучше сделать в этой работе:<br>\n",
    "Очень здорово будет, если найдёшь возможность сделать график важности факторов. Это необходимая вещь для финалной части любой модельной работы.<br>\n",
    "<font color='green'>    \n",
    "<br>\n",
    "Спасибо) БУДУ ЖДАТЬ КОММЕНТАРИЕВ!"
   ]
  },
  {
   "cell_type": "markdown",
   "metadata": {},
   "source": [
    "<div class=\"alert alert-block alert-info\">\n",
    "<b>Комментарий студента:</b>\n",
    "    \n",
    "1. За методологию в п. 2г - спасибо, что-то было в голове, что-то посмотрю\n",
    "2. В части п.3, ты видимо, имеешь ввиду оценку адекватности модели в различных срезах?\n",
    "3. В части п.4 - я высказал аналогичную мысль выше по тексту, в твоей терминологии - \"по каждому кластеру\", рад, что мы оба понимаем, что подобный подход **скорее всего** даст лучший результат\n",
    "4. В части диаграмм feature importances - без проблем (+добавил RandomForestRegressor, чтобы уже было хотя бы три алгоритма с feature_importances_):\n",
    "</div>"
   ]
  },
  {
   "cell_type": "markdown",
   "metadata": {},
   "source": [
    "<div style=\"background: #cceeaa; padding: 5px; border: 1px solid green; border-radius: 5px;\">\n",
    "<font color='green'><u><b>КОММЕНТАРИЙ РЕВЬЮЕРА 2</b></u><br>\n",
    "<font color='green'>Георгий, ОТЛИЧНЫЕ доработки по проекту!<br>\n",
    "Анализ важности - супер)<br>\n",
    "По вопросу 2 выше: да именно так. Оценить разность факт-прогноз в различных срезах: в целом качество остатвков, по возрасту, модели.... - это покажет картину того, где у нас потенциал модели.<br>\n",
    "    \n",
    "И я рад, что мои комментарии вызвали ту самую реакцию, на которую расчитывал! <br>\n",
    "Спасибо) УСПЕШНОГО ДАЛЬНЕЙШЕГО ОБУЧЕНИЯ!<br>\n",
    "    "
   ]
  },
  {
   "cell_type": "code",
   "execution_count": 64,
   "metadata": {},
   "outputs": [
    {
     "data": {
      "image/png": "[encoded data removed]",
      "text/plain": [
       "<Figure size 1700x1000 with 1 Axes>"
      ]
     },
     "metadata": {},
     "output_type": "display_data"
    }
   ],
   "source": [
    "scaled_feature_imporances = comparator.scaled_feature_importances()\n",
    "barchart(\n",
    "    scaled_feature_imporances.head(10),\n",
    "    ylabel='Признаки',\n",
    "    xlabel='Относительная значимость [0..1]',\n",
    "    title='Топ-10 относительной значимости признаков (диапазон значений = [0..1])',\n",
    "    figsize=(17,10), \n",
    "    fontsize=18)"
   ]
  },
  {
   "cell_type": "markdown",
   "metadata": {},
   "source": [
    "В топ-10 ожидаемо входят возраст (лидирующий), мощность двигателя, пробег. Неожиданно: значим бренд и тип кузова \"кабриолет\" (тут конечно надо разбираться). Полный набор данных, как мне кажется, проще смотреть напрямую:"
   ]
  },
  {
   "cell_type": "code",
   "execution_count": 65,
   "metadata": {},
   "outputs": [
    {
     "data": {
      "text/html": [
       "<div>\n",
       "<style scoped>\n",
       "    .dataframe tbody tr th:only-of-type {\n",
       "        vertical-align: middle;\n",
       "    }\n",
       "\n",
       "    .dataframe tbody tr th {\n",
       "        vertical-align: top;\n",
       "    }\n",
       "\n",
       "    .dataframe thead th {\n",
       "        text-align: right;\n",
       "    }\n",
       "</style>\n",
       "<table border=\"1\" class=\"dataframe\">\n",
       "  <thead>\n",
       "    <tr style=\"text-align: right;\">\n",
       "      <th></th>\n",
       "      <th>RandomForestRegressor</th>\n",
       "      <th>LGBMRegressor</th>\n",
       "      <th>CatBoostRegressor</th>\n",
       "    </tr>\n",
       "  </thead>\n",
       "  <tbody>\n",
       "    <tr>\n",
       "      <td>RegMonthsFrom1950</td>\n",
       "      <td>1.000</td>\n",
       "      <td>1.000</td>\n",
       "      <td>1.000</td>\n",
       "    </tr>\n",
       "    <tr>\n",
       "      <td>Power</td>\n",
       "      <td>0.465</td>\n",
       "      <td>0.761</td>\n",
       "      <td>0.816</td>\n",
       "    </tr>\n",
       "    <tr>\n",
       "      <td>Kilometer</td>\n",
       "      <td>0.088</td>\n",
       "      <td>0.388</td>\n",
       "      <td>0.325</td>\n",
       "    </tr>\n",
       "    <tr>\n",
       "      <td>VehicleType_convertible</td>\n",
       "      <td>0.016</td>\n",
       "      <td>0.144</td>\n",
       "      <td>0.053</td>\n",
       "    </tr>\n",
       "    <tr>\n",
       "      <td>VehicleType_wagon</td>\n",
       "      <td>0.001</td>\n",
       "      <td>0.069</td>\n",
       "      <td>0.025</td>\n",
       "    </tr>\n",
       "    <tr>\n",
       "      <td>NotRepaired_yes</td>\n",
       "      <td>0.000</td>\n",
       "      <td>0.170</td>\n",
       "      <td>0.050</td>\n",
       "    </tr>\n",
       "    <tr>\n",
       "      <td>DaysOnSale</td>\n",
       "      <td>0.000</td>\n",
       "      <td>0.147</td>\n",
       "      <td>0.027</td>\n",
       "    </tr>\n",
       "    <tr>\n",
       "      <td>Brand_volkswagen</td>\n",
       "      <td>0.000</td>\n",
       "      <td>0.126</td>\n",
       "      <td>0.043</td>\n",
       "    </tr>\n",
       "    <tr>\n",
       "      <td>FuelType_gasoline</td>\n",
       "      <td>0.000</td>\n",
       "      <td>0.124</td>\n",
       "      <td>0.050</td>\n",
       "    </tr>\n",
       "    <tr>\n",
       "      <td>Brand_audi</td>\n",
       "      <td>0.000</td>\n",
       "      <td>0.109</td>\n",
       "      <td>0.033</td>\n",
       "    </tr>\n",
       "    <tr>\n",
       "      <td>Brand_mercedes_benz</td>\n",
       "      <td>0.000</td>\n",
       "      <td>0.098</td>\n",
       "      <td>0.036</td>\n",
       "    </tr>\n",
       "    <tr>\n",
       "      <td>Brand_bmw</td>\n",
       "      <td>0.000</td>\n",
       "      <td>0.075</td>\n",
       "      <td>0.035</td>\n",
       "    </tr>\n",
       "    <tr>\n",
       "      <td>VehicleType_suv</td>\n",
       "      <td>0.000</td>\n",
       "      <td>0.057</td>\n",
       "      <td>0.018</td>\n",
       "    </tr>\n",
       "    <tr>\n",
       "      <td>Brand_mini</td>\n",
       "      <td>0.000</td>\n",
       "      <td>0.052</td>\n",
       "      <td>0.009</td>\n",
       "    </tr>\n",
       "    <tr>\n",
       "      <td>NotRepaired_unknown</td>\n",
       "      <td>0.000</td>\n",
       "      <td>0.046</td>\n",
       "      <td>0.015</td>\n",
       "    </tr>\n",
       "    <tr>\n",
       "      <td>VehicleType_sedan</td>\n",
       "      <td>0.000</td>\n",
       "      <td>0.043</td>\n",
       "      <td>0.013</td>\n",
       "    </tr>\n",
       "    <tr>\n",
       "      <td>VehicleType_coupe</td>\n",
       "      <td>0.000</td>\n",
       "      <td>0.037</td>\n",
       "      <td>0.008</td>\n",
       "    </tr>\n",
       "    <tr>\n",
       "      <td>Gearbox_manual</td>\n",
       "      <td>0.000</td>\n",
       "      <td>0.032</td>\n",
       "      <td>0.008</td>\n",
       "    </tr>\n",
       "    <tr>\n",
       "      <td>Brand_opel</td>\n",
       "      <td>0.000</td>\n",
       "      <td>0.029</td>\n",
       "      <td>0.002</td>\n",
       "    </tr>\n",
       "    <tr>\n",
       "      <td>FuelType_petrol</td>\n",
       "      <td>0.000</td>\n",
       "      <td>0.026</td>\n",
       "      <td>0.002</td>\n",
       "    </tr>\n",
       "    <tr>\n",
       "      <td>VehicleType_small</td>\n",
       "      <td>0.000</td>\n",
       "      <td>0.023</td>\n",
       "      <td>0.010</td>\n",
       "    </tr>\n",
       "    <tr>\n",
       "      <td>Brand_peugeot</td>\n",
       "      <td>0.000</td>\n",
       "      <td>0.023</td>\n",
       "      <td>0.002</td>\n",
       "    </tr>\n",
       "    <tr>\n",
       "      <td>Brand_porsche</td>\n",
       "      <td>0.000</td>\n",
       "      <td>0.020</td>\n",
       "      <td>0.006</td>\n",
       "    </tr>\n",
       "    <tr>\n",
       "      <td>Brand_renault</td>\n",
       "      <td>0.000</td>\n",
       "      <td>0.020</td>\n",
       "      <td>0.004</td>\n",
       "    </tr>\n",
       "    <tr>\n",
       "      <td>Brand_land_rover</td>\n",
       "      <td>0.000</td>\n",
       "      <td>0.017</td>\n",
       "      <td>0.002</td>\n",
       "    </tr>\n",
       "    <tr>\n",
       "      <td>Brand_trabant</td>\n",
       "      <td>0.000</td>\n",
       "      <td>0.014</td>\n",
       "      <td>0.001</td>\n",
       "    </tr>\n",
       "    <tr>\n",
       "      <td>Brand_hyundai</td>\n",
       "      <td>0.000</td>\n",
       "      <td>0.011</td>\n",
       "      <td>0.002</td>\n",
       "    </tr>\n",
       "    <tr>\n",
       "      <td>Brand_ford</td>\n",
       "      <td>0.000</td>\n",
       "      <td>0.011</td>\n",
       "      <td>0.001</td>\n",
       "    </tr>\n",
       "    <tr>\n",
       "      <td>Brand_chevrolet</td>\n",
       "      <td>0.000</td>\n",
       "      <td>0.006</td>\n",
       "      <td>0.003</td>\n",
       "    </tr>\n",
       "    <tr>\n",
       "      <td>Brand_kia</td>\n",
       "      <td>0.000</td>\n",
       "      <td>0.006</td>\n",
       "      <td>0.002</td>\n",
       "    </tr>\n",
       "    <tr>\n",
       "      <td>Brand_fiat</td>\n",
       "      <td>0.000</td>\n",
       "      <td>0.003</td>\n",
       "      <td>0.001</td>\n",
       "    </tr>\n",
       "    <tr>\n",
       "      <td>Brand_suzuki</td>\n",
       "      <td>0.000</td>\n",
       "      <td>0.003</td>\n",
       "      <td>0.000</td>\n",
       "    </tr>\n",
       "    <tr>\n",
       "      <td>Brand_dacia</td>\n",
       "      <td>0.000</td>\n",
       "      <td>0.000</td>\n",
       "      <td>0.002</td>\n",
       "    </tr>\n",
       "    <tr>\n",
       "      <td>Brand_mazda</td>\n",
       "      <td>0.000</td>\n",
       "      <td>0.000</td>\n",
       "      <td>0.002</td>\n",
       "    </tr>\n",
       "    <tr>\n",
       "      <td>Brand_toyota</td>\n",
       "      <td>0.000</td>\n",
       "      <td>0.000</td>\n",
       "      <td>0.002</td>\n",
       "    </tr>\n",
       "    <tr>\n",
       "      <td>Brand_chrysler</td>\n",
       "      <td>0.000</td>\n",
       "      <td>0.000</td>\n",
       "      <td>0.001</td>\n",
       "    </tr>\n",
       "    <tr>\n",
       "      <td>Brand_citroen</td>\n",
       "      <td>0.000</td>\n",
       "      <td>0.000</td>\n",
       "      <td>0.001</td>\n",
       "    </tr>\n",
       "    <tr>\n",
       "      <td>Brand_jeep</td>\n",
       "      <td>0.000</td>\n",
       "      <td>0.000</td>\n",
       "      <td>0.001</td>\n",
       "    </tr>\n",
       "    <tr>\n",
       "      <td>Brand_mitsubishi</td>\n",
       "      <td>0.000</td>\n",
       "      <td>0.000</td>\n",
       "      <td>0.001</td>\n",
       "    </tr>\n",
       "    <tr>\n",
       "      <td>Brand_skoda</td>\n",
       "      <td>0.000</td>\n",
       "      <td>0.000</td>\n",
       "      <td>0.001</td>\n",
       "    </tr>\n",
       "    <tr>\n",
       "      <td>Brand_volvo</td>\n",
       "      <td>0.000</td>\n",
       "      <td>0.000</td>\n",
       "      <td>0.001</td>\n",
       "    </tr>\n",
       "    <tr>\n",
       "      <td>VehicleType_other</td>\n",
       "      <td>0.000</td>\n",
       "      <td>0.000</td>\n",
       "      <td>0.000</td>\n",
       "    </tr>\n",
       "    <tr>\n",
       "      <td>FuelType_electric</td>\n",
       "      <td>0.000</td>\n",
       "      <td>0.000</td>\n",
       "      <td>0.000</td>\n",
       "    </tr>\n",
       "    <tr>\n",
       "      <td>FuelType_hybrid</td>\n",
       "      <td>0.000</td>\n",
       "      <td>0.000</td>\n",
       "      <td>0.000</td>\n",
       "    </tr>\n",
       "    <tr>\n",
       "      <td>FuelType_lpg</td>\n",
       "      <td>0.000</td>\n",
       "      <td>0.000</td>\n",
       "      <td>0.000</td>\n",
       "    </tr>\n",
       "    <tr>\n",
       "      <td>FuelType_other</td>\n",
       "      <td>0.000</td>\n",
       "      <td>0.000</td>\n",
       "      <td>0.000</td>\n",
       "    </tr>\n",
       "    <tr>\n",
       "      <td>Brand_daewoo</td>\n",
       "      <td>0.000</td>\n",
       "      <td>0.000</td>\n",
       "      <td>0.000</td>\n",
       "    </tr>\n",
       "    <tr>\n",
       "      <td>Brand_daihatsu</td>\n",
       "      <td>0.000</td>\n",
       "      <td>0.000</td>\n",
       "      <td>0.000</td>\n",
       "    </tr>\n",
       "    <tr>\n",
       "      <td>Brand_honda</td>\n",
       "      <td>0.000</td>\n",
       "      <td>0.000</td>\n",
       "      <td>0.000</td>\n",
       "    </tr>\n",
       "    <tr>\n",
       "      <td>Brand_jaguar</td>\n",
       "      <td>0.000</td>\n",
       "      <td>0.000</td>\n",
       "      <td>0.000</td>\n",
       "    </tr>\n",
       "    <tr>\n",
       "      <td>Brand_lada</td>\n",
       "      <td>0.000</td>\n",
       "      <td>0.000</td>\n",
       "      <td>0.000</td>\n",
       "    </tr>\n",
       "    <tr>\n",
       "      <td>Brand_lancia</td>\n",
       "      <td>0.000</td>\n",
       "      <td>0.000</td>\n",
       "      <td>0.000</td>\n",
       "    </tr>\n",
       "    <tr>\n",
       "      <td>Brand_nissan</td>\n",
       "      <td>0.000</td>\n",
       "      <td>0.000</td>\n",
       "      <td>0.000</td>\n",
       "    </tr>\n",
       "    <tr>\n",
       "      <td>Brand_rover</td>\n",
       "      <td>0.000</td>\n",
       "      <td>0.000</td>\n",
       "      <td>0.000</td>\n",
       "    </tr>\n",
       "    <tr>\n",
       "      <td>Brand_saab</td>\n",
       "      <td>0.000</td>\n",
       "      <td>0.000</td>\n",
       "      <td>0.000</td>\n",
       "    </tr>\n",
       "    <tr>\n",
       "      <td>Brand_seat</td>\n",
       "      <td>0.000</td>\n",
       "      <td>0.000</td>\n",
       "      <td>0.000</td>\n",
       "    </tr>\n",
       "    <tr>\n",
       "      <td>Brand_smart</td>\n",
       "      <td>0.000</td>\n",
       "      <td>0.000</td>\n",
       "      <td>0.000</td>\n",
       "    </tr>\n",
       "    <tr>\n",
       "      <td>Brand_subaru</td>\n",
       "      <td>0.000</td>\n",
       "      <td>0.000</td>\n",
       "      <td>0.000</td>\n",
       "    </tr>\n",
       "  </tbody>\n",
       "</table>\n",
       "</div>"
      ],
      "text/plain": [
       "                         RandomForestRegressor  LGBMRegressor  \\\n",
       "RegMonthsFrom1950                        1.000          1.000   \n",
       "Power                                    0.465          0.761   \n",
       "Kilometer                                0.088          0.388   \n",
       "VehicleType_convertible                  0.016          0.144   \n",
       "VehicleType_wagon                        0.001          0.069   \n",
       "NotRepaired_yes                          0.000          0.170   \n",
       "DaysOnSale                               0.000          0.147   \n",
       "Brand_volkswagen                         0.000          0.126   \n",
       "FuelType_gasoline                        0.000          0.124   \n",
       "Brand_audi                               0.000          0.109   \n",
       "Brand_mercedes_benz                      0.000          0.098   \n",
       "Brand_bmw                                0.000          0.075   \n",
       "VehicleType_suv                          0.000          0.057   \n",
       "Brand_mini                               0.000          0.052   \n",
       "NotRepaired_unknown                      0.000          0.046   \n",
       "VehicleType_sedan                        0.000          0.043   \n",
       "VehicleType_coupe                        0.000          0.037   \n",
       "Gearbox_manual                           0.000          0.032   \n",
       "Brand_opel                               0.000          0.029   \n",
       "FuelType_petrol                          0.000          0.026   \n",
       "VehicleType_small                        0.000          0.023   \n",
       "Brand_peugeot                            0.000          0.023   \n",
       "Brand_porsche                            0.000          0.020   \n",
       "Brand_renault                            0.000          0.020   \n",
       "Brand_land_rover                         0.000          0.017   \n",
       "Brand_trabant                            0.000          0.014   \n",
       "Brand_hyundai                            0.000          0.011   \n",
       "Brand_ford                               0.000          0.011   \n",
       "Brand_chevrolet                          0.000          0.006   \n",
       "Brand_kia                                0.000          0.006   \n",
       "Brand_fiat                               0.000          0.003   \n",
       "Brand_suzuki                             0.000          0.003   \n",
       "Brand_dacia                              0.000          0.000   \n",
       "Brand_mazda                              0.000          0.000   \n",
       "Brand_toyota                             0.000          0.000   \n",
       "Brand_chrysler                           0.000          0.000   \n",
       "Brand_citroen                            0.000          0.000   \n",
       "Brand_jeep                               0.000          0.000   \n",
       "Brand_mitsubishi                         0.000          0.000   \n",
       "Brand_skoda                              0.000          0.000   \n",
       "Brand_volvo                              0.000          0.000   \n",
       "VehicleType_other                        0.000          0.000   \n",
       "FuelType_electric                        0.000          0.000   \n",
       "FuelType_hybrid                          0.000          0.000   \n",
       "FuelType_lpg                             0.000          0.000   \n",
       "FuelType_other                           0.000          0.000   \n",
       "Brand_daewoo                             0.000          0.000   \n",
       "Brand_daihatsu                           0.000          0.000   \n",
       "Brand_honda                              0.000          0.000   \n",
       "Brand_jaguar                             0.000          0.000   \n",
       "Brand_lada                               0.000          0.000   \n",
       "Brand_lancia                             0.000          0.000   \n",
       "Brand_nissan                             0.000          0.000   \n",
       "Brand_rover                              0.000          0.000   \n",
       "Brand_saab                               0.000          0.000   \n",
       "Brand_seat                               0.000          0.000   \n",
       "Brand_smart                              0.000          0.000   \n",
       "Brand_subaru                             0.000          0.000   \n",
       "\n",
       "                         CatBoostRegressor  \n",
       "RegMonthsFrom1950                    1.000  \n",
       "Power                                0.816  \n",
       "Kilometer                            0.325  \n",
       "VehicleType_convertible              0.053  \n",
       "VehicleType_wagon                    0.025  \n",
       "NotRepaired_yes                      0.050  \n",
       "DaysOnSale                           0.027  \n",
       "Brand_volkswagen                     0.043  \n",
       "FuelType_gasoline                    0.050  \n",
       "Brand_audi                           0.033  \n",
       "Brand_mercedes_benz                  0.036  \n",
       "Brand_bmw                            0.035  \n",
       "VehicleType_suv                      0.018  \n",
       "Brand_mini                           0.009  \n",
       "NotRepaired_unknown                  0.015  \n",
       "VehicleType_sedan                    0.013  \n",
       "VehicleType_coupe                    0.008  \n",
       "Gearbox_manual                       0.008  \n",
       "Brand_opel                           0.002  \n",
       "FuelType_petrol                      0.002  \n",
       "VehicleType_small                    0.010  \n",
       "Brand_peugeot                        0.002  \n",
       "Brand_porsche                        0.006  \n",
       "Brand_renault                        0.004  \n",
       "Brand_land_rover                     0.002  \n",
       "Brand_trabant                        0.001  \n",
       "Brand_hyundai                        0.002  \n",
       "Brand_ford                           0.001  \n",
       "Brand_chevrolet                      0.003  \n",
       "Brand_kia                            0.002  \n",
       "Brand_fiat                           0.001  \n",
       "Brand_suzuki                         0.000  \n",
       "Brand_dacia                          0.002  \n",
       "Brand_mazda                          0.002  \n",
       "Brand_toyota                         0.002  \n",
       "Brand_chrysler                       0.001  \n",
       "Brand_citroen                        0.001  \n",
       "Brand_jeep                           0.001  \n",
       "Brand_mitsubishi                     0.001  \n",
       "Brand_skoda                          0.001  \n",
       "Brand_volvo                          0.001  \n",
       "VehicleType_other                    0.000  \n",
       "FuelType_electric                    0.000  \n",
       "FuelType_hybrid                      0.000  \n",
       "FuelType_lpg                         0.000  \n",
       "FuelType_other                       0.000  \n",
       "Brand_daewoo                         0.000  \n",
       "Brand_daihatsu                       0.000  \n",
       "Brand_honda                          0.000  \n",
       "Brand_jaguar                         0.000  \n",
       "Brand_lada                           0.000  \n",
       "Brand_lancia                         0.000  \n",
       "Brand_nissan                         0.000  \n",
       "Brand_rover                          0.000  \n",
       "Brand_saab                           0.000  \n",
       "Brand_seat                           0.000  \n",
       "Brand_smart                          0.000  \n",
       "Brand_subaru                         0.000  "
      ]
     },
     "execution_count": 65,
     "metadata": {},
     "output_type": "execute_result"
    }
   ],
   "source": [
    "scaled_feature_imporances"
   ]
  },
  {
   "cell_type": "markdown",
   "metadata": {},
   "source": [
    "## Чек-лист проверки"
   ]
  },
  {
   "cell_type": "markdown",
   "metadata": {},
   "source": [
    "Поставьте 'x' в выполненных пунктах. Далее нажмите Shift+Enter."
   ]
  },
  {
   "cell_type": "markdown",
   "metadata": {},
   "source": [
    "- [x]  Jupyter Notebook открыт\n",
    "- [x]  Весь код выполняется без ошибок\n",
    "- [x]  Ячейки с кодом расположены в порядке исполнения\n",
    "- [x]  Выполнена загрузка и подготовка данных\n",
    "- [x]  Выполнено обучение моделей\n",
    "- [x]  Есть анализ скорости работы и качества моделей"
   ]
  }
 ],
 "metadata": {
  "kernelspec": {
   "display_name": "Python 3 (ipykernel)",
   "language": "python",
   "name": "python3"
  },
  "language_info": {
   "codemirror_mode": {
    "name": "ipython",
    "version": 3
   },
   "file_extension": ".py",
   "mimetype": "text/x-python",
   "name": "python",
   "nbconvert_exporter": "python",
   "pygments_lexer": "ipython3",
   "version": "3.9.5"
  },
  "toc": {
   "base_numbering": 1,
   "nav_menu": {},
   "number_sections": true,
   "sideBar": true,
   "skip_h1_title": true,
   "title_cell": "Table of Contents",
   "title_sidebar": "Contents",
   "toc_cell": false,
   "toc_position": {},
   "toc_section_display": true,
   "toc_window_display": false
  }
 },
 "nbformat": 4,
 "nbformat_minor": 2
}
