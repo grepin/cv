{
 "cells": [
  {
   "cell_type": "markdown",
   "metadata": {},
   "source": [
    "<div style=\"border:solid green 2px; padding: 20px\">\n",
    "\n",
    "<b>Привет, Георгий!</b>\n",
    "\n",
    "Меня зовут Ярослав П. и я буду проверять твой проект. Попробую помочь сделать тебе его еще лучше!\n",
    "\n",
    "Предлагаю общаться на «**ты**». Если это неприемлемо, обязательно напиши мне в комментариях — мы перейдем на «**вы**».\n",
    "\n",
    "Ниже ты найдешь мои комментарии - пожалуйста, не перемещай, не изменяй и не удаляй их. Я буду использовать цветовую разметку:\n",
    "\n",
    "<div class=\"alert alert-danger\">\n",
    "<b>Комментарий ревьюера:</b> Так выделены самые важные замечания. Без их отработки проект не будет принят. </div>\n",
    "\n",
    "<div class=\"alert alert-warning\">\n",
    "<b>Комментарий ревьюера:</b> Так выделены небольшие замечания или советы.\n",
    "\n",
    "</div>\n",
    "\n",
    "<div class=\"alert alert-success\">\n",
    "<b>Комментарий ревьюера:</b> Так я выделяю все остальные комментарии.</div>\n",
    "\n",
    "Давай работать над проектом в диалоге: если ты что-то меняешь в проекте или отвечаешь на мои комменатри — пиши об этом. Мне будет легче отследить изменения, если ты выделишь свои комментарии:\n",
    "<div class=\"alert alert-info\"> <b>Комментарий студента:</b> Например, вот так.</div>\n",
    "\n",
    "Всё это поможет выполнить повторную проверку твоего проекта оперативнее. \n",
    "    \n",
    "    \n",
    "### <span style=\"color:orange\">Обратная связь</span><a class=\"tocSkip\">\n",
    "\n",
    "- Отлично выполненный проект!\n",
    "- Молодец, что используешь функции для однотипных действий.\n",
    "- Также верно применен Bootstrap и выполнены расчеты.\n",
    "- Только не совсем понял логику расчета риска. Оставил комментарий.\n",
    "    \n",
    "### <span style=\"color:orange\">Обратная связь (v2)</span><a class=\"tocSkip\">\n",
    "\n",
    "- Спасибо, что пояснил логику, прошу прощения, был неправ с возратом из-за этого. Проект отличный :)\n",
    "    \n",
    "Проект принят, успехов в дальнейшем обучении!"
   ]
  },
  {
   "cell_type": "markdown",
   "metadata": {},
   "source": [
    "<div class=\"alert alert-info\"> \n",
    "<b>Комментарий студента:</b> \n",
    "    \n",
    "Ярослав, Привет! \n",
    "Добавил немного pretty print и пояснил по расчету риска (комментарии ниже по коду)\n",
    "\n",
    "</div>\n"
   ]
  },
  {
   "cell_type": "markdown",
   "metadata": {},
   "source": [
    "# Выбор локации для скважины"
   ]
  },
  {
   "cell_type": "markdown",
   "metadata": {},
   "source": [
    "Допустим, вы работаете в добывающей компании «ГлавРосГосНефть». Нужно решить, где бурить новую скважину.\n",
    "\n",
    "Вам предоставлены пробы нефти в трёх регионах: в каждом 10 000 месторождений, где измерили качество нефти и объём её запасов. Постройте модель машинного обучения, которая поможет определить регион, где добыча принесёт наибольшую прибыль. Проанализируйте возможную прибыль и риски техникой *Bootstrap.*\n",
    "\n",
    "Шаги для выбора локации:\n",
    "\n",
    "- В избранном регионе ищут месторождения, для каждого определяют значения признаков;\n",
    "- Строят модель и оценивают объём запасов;\n",
    "- Выбирают месторождения с самым высокими оценками значений. Количество месторождений зависит от бюджета компании и стоимости разработки одной скважины;\n",
    "- Прибыль равна суммарной прибыли отобранных месторождений."
   ]
  },
  {
   "cell_type": "markdown",
   "metadata": {},
   "source": [
    "<div class=\"alert alert-block alert-success\">\n",
    "<b>Комментарий ревьюера</b>\n",
    "\n",
    "Введение хорошее.\n",
    "\n",
    "</div>\n",
    "\n",
    "<div class=\"alert alert-block alert-warning\">\n",
    "<b>Комментарий ревьюера</b>\n",
    "\n",
    "Также можно добавить описание данных, с которыми предстоит работа, и оглавление.\n",
    "\n",
    "</div>\n"
   ]
  },
  {
   "cell_type": "markdown",
   "metadata": {},
   "source": [
    "## Предварительная подготовка"
   ]
  },
  {
   "cell_type": "code",
   "execution_count": 1,
   "metadata": {},
   "outputs": [],
   "source": [
    "import pandas as pd\n",
    "from IPython.display import display_html\n",
    "from itertools import chain,cycle\n",
    "import seaborn as sns\n",
    "import matplotlib.pyplot as plt\n",
    "from sklearn.model_selection import train_test_split \n",
    "from sklearn.preprocessing import StandardScaler \n",
    "from sklearn.linear_model import LinearRegression\n",
    "from sklearn.model_selection import GridSearchCV\n",
    "from sklearn.metrics import mean_squared_error\n",
    "import numpy as np\n",
    "from scipy import stats"
   ]
  },
  {
   "cell_type": "code",
   "execution_count": 2,
   "metadata": {},
   "outputs": [],
   "source": [
    "GLOBAL_RANDOM_STATE = 12345"
   ]
  },
  {
   "cell_type": "code",
   "execution_count": 3,
   "metadata": {},
   "outputs": [],
   "source": [
    "# функция возвращает все данные как list из pd.DataFrame\n",
    "def get_data():\n",
    "    data = []\n",
    "    for i in [0,1,2]:\n",
    "        fpath = \"/datasets/geo_data_{}.csv\".format(i)\n",
    "        data.append(pd.read_csv(fpath))\n",
    "    return data"
   ]
  },
  {
   "cell_type": "code",
   "execution_count": 4,
   "metadata": {},
   "outputs": [],
   "source": [
    "# SO-copied: отображение нескольких df рядом\n",
    "def display_side_by_side(*args,titles=cycle([''])):\n",
    "    html_str=''\n",
    "    for df,title in zip(args, chain(titles,cycle(['</br>'])) ):\n",
    "        html_str+='<th style=\"text-align:left\"><td style=\"vertical-align:top\">'\n",
    "        html_str+=f'<h3>{title}</h3>'\n",
    "        html_str+=df.to_html().replace('table','table style=\"display: inline; \"')\n",
    "        html_str+='</td></th>'\n",
    "    display_html(html_str,raw=True)"
   ]
  },
  {
   "cell_type": "code",
   "execution_count": 5,
   "metadata": {},
   "outputs": [],
   "source": [
    "# вывести графическое представление матрицы корреляций\n",
    "def correlation(dfs: list, headers: list = [], figsize=(10,5), method='pearson') -> None:\n",
    "    fig, axs = plt.subplots(ncols=len(dfs))\n",
    "    for i in range(0, len(dfs)):\n",
    "        sns.heatmap(\n",
    "            ax=axs[i],\n",
    "            data=dfs[i].corr(method=method), \n",
    "            annot = True, \n",
    "            vmin=-1, \n",
    "            vmax=1, \n",
    "            center= 0, \n",
    "            cmap= 'coolwarm'\n",
    "        )  \n",
    "        axs[i].set_xlabel(headers[i], fontsize=20)\n",
    "    fig.set_size_inches(figsize)\n",
    "    fig.tight_layout()"
   ]
  },
  {
   "cell_type": "code",
   "execution_count": 6,
   "metadata": {},
   "outputs": [],
   "source": [
    "# разбиение на выборки \n",
    "def split(\n",
    "        features: pd.DataFrame,\n",
    "        target: pd.Series,\n",
    "        shuffle=True,\n",
    "        test_size: float = 0.25,\n",
    "        random_state: int = GLOBAL_RANDOM_STATE) -> list:\n",
    "    return train_test_split(\n",
    "            features,\n",
    "            target,\n",
    "            test_size = test_size,\n",
    "            random_state = random_state,\n",
    "            shuffle=shuffle)"
   ]
  },
  {
   "cell_type": "code",
   "execution_count": 7,
   "metadata": {},
   "outputs": [],
   "source": [
    "# масштабирование признаков\n",
    "def _prescale_correction(d):\n",
    "    return d.copy().reset_index(drop=True)\n",
    "def scale(ufeat_train: pd.DataFrame, ufeat_valid: pd.DataFrame) -> list:\n",
    "    feat_train = _prescale_correction(ufeat_train)\n",
    "    feat_valid = _prescale_correction(ufeat_valid)\n",
    "    scaler = StandardScaler()\n",
    "    scaler.fit(feat_train[feat_train.columns])\n",
    "    feat_train[feat_train.columns] = scaler.transform(feat_train[feat_train.columns])\n",
    "    feat_valid[feat_train.columns] = scaler.transform(feat_valid[feat_train.columns])\n",
    "    return [feat_train, feat_valid]\n",
    "        "
   ]
  },
  {
   "cell_type": "code",
   "execution_count": 8,
   "metadata": {},
   "outputs": [],
   "source": [
    "def split_and_scale(\n",
    "        features: pd.DataFrame,\n",
    "        target: pd.Series,\n",
    "        shuffle=True,        \n",
    "        test_size: float = 0.25) -> list:    \n",
    "    ufeat_train, ufeat_valid, targ_train, targ_valid = split(features, target, shuffle, test_size)\n",
    "    feat_train, feat_valid = scale(ufeat_train, ufeat_valid)\n",
    "    return [feat_train, feat_valid, _prescale_correction(targ_train), _prescale_correction(targ_valid)]"
   ]
  },
  {
   "cell_type": "code",
   "execution_count": 9,
   "metadata": {},
   "outputs": [],
   "source": [
    "# построение гистограм для одного и более фреймов\n",
    "def hist(onecolumn_frames_list=[], xlab='', ylab='', title='', bins=10, xrange=None, figsize=(10,5), fontsize=12):\n",
    "    fig, ax = plt.subplots()\n",
    "    rmin, rmax = 999999999999999, 0\n",
    "    series_list, legend_list = [], []\n",
    "    alpha, alpha_step = 1, int((40 / len(onecolumn_frames_list))) / 100 # полная прозрачность нам не нужна \n",
    "    for i in onecolumn_frames_list:\n",
    "        column_name = i.columns[0]\n",
    "        legend_list.append(column_name)\n",
    "        series_list.append(i[column_name])\n",
    "    for i in series_list:\n",
    "        rmin = i.min() if i.min() < rmin else rmin\n",
    "        rmax = i.max() if i.max() > rmax else rmax\n",
    "        ax.hist(i,bins=bins, alpha=alpha)\n",
    "        alpha -= alpha_step\n",
    "    rrange = xrange if xrange != None else (rmin,rmax)\n",
    "    ax.set_title(title)\n",
    "    ax.set_xlabel(xlab)\n",
    "    ax.set_ylabel(ylab)\n",
    "    ax.set_xlim(rrange)\n",
    "    ax.legend(legend_list)\n",
    "    fig.set_size_inches(figsize)\n",
    "    plt.rcParams.update({'font.size': fontsize})\n",
    "    plt.grid()\n",
    "    fig.tight_layout()"
   ]
  },
  {
   "cell_type": "code",
   "execution_count": 10,
   "metadata": {},
   "outputs": [],
   "source": [
    "# pretty-formatted миллиарды\n",
    "def pretty_billions_f(number: float) -> float:\n",
    "    return number / 1e9\n",
    "def pretty_billions(number: float) -> str:\n",
    "     return \"{:.3} млрд.руб.\".format(pretty_billions_f(number))"
   ]
  },
  {
   "cell_type": "markdown",
   "metadata": {},
   "source": [
    "<div class=\"alert alert-block alert-success\">\n",
    "<b>Комментарий ревьюера</b>\n",
    "\n",
    "Все функции в одном месте - удобно.\n",
    "\n",
    "</div>\n"
   ]
  },
  {
   "cell_type": "markdown",
   "metadata": {},
   "source": [
    "## Загрузка и подготовка данных"
   ]
  },
  {
   "cell_type": "markdown",
   "metadata": {},
   "source": [
    "Посмотрим на данные:"
   ]
  },
  {
   "cell_type": "code",
   "execution_count": 11,
   "metadata": {},
   "outputs": [],
   "source": [
    "data = get_data()"
   ]
  },
  {
   "cell_type": "code",
   "execution_count": 12,
   "metadata": {
    "scrolled": false
   },
   "outputs": [
    {
     "data": {
      "text/html": [
       "<th style=\"text-align:left\"><td style=\"vertical-align:top\"><h3>Регион №0: случайные 8 элементов</h3><table style=\"display: inline; \" border=\"1\" class=\"dataframe\">\n",
       "  <thead>\n",
       "    <tr style=\"text-align: right;\">\n",
       "      <th></th>\n",
       "      <th>id</th>\n",
       "      <th>f0</th>\n",
       "      <th>f1</th>\n",
       "      <th>f2</th>\n",
       "      <th>product</th>\n",
       "    </tr>\n",
       "  </thead>\n",
       "  <tbody>\n",
       "    <tr>\n",
       "      <th>71751</th>\n",
       "      <td>7Z2gx</td>\n",
       "      <td>0.948970</td>\n",
       "      <td>-0.057547</td>\n",
       "      <td>2.095727</td>\n",
       "      <td>10.038645</td>\n",
       "    </tr>\n",
       "    <tr>\n",
       "      <th>80493</th>\n",
       "      <td>b2HU8</td>\n",
       "      <td>0.992974</td>\n",
       "      <td>0.206671</td>\n",
       "      <td>-0.142278</td>\n",
       "      <td>114.551489</td>\n",
       "    </tr>\n",
       "    <tr>\n",
       "      <th>2655</th>\n",
       "      <td>Y0dXD</td>\n",
       "      <td>1.199854</td>\n",
       "      <td>-0.563356</td>\n",
       "      <td>-1.852991</td>\n",
       "      <td>132.603635</td>\n",
       "    </tr>\n",
       "    <tr>\n",
       "      <th>53233</th>\n",
       "      <td>Mje59</td>\n",
       "      <td>0.691422</td>\n",
       "      <td>-0.433347</td>\n",
       "      <td>0.564974</td>\n",
       "      <td>169.072125</td>\n",
       "    </tr>\n",
       "    <tr>\n",
       "      <th>91141</th>\n",
       "      <td>yqXxU</td>\n",
       "      <td>0.420772</td>\n",
       "      <td>0.972638</td>\n",
       "      <td>0.736190</td>\n",
       "      <td>122.325180</td>\n",
       "    </tr>\n",
       "    <tr>\n",
       "      <th>9539</th>\n",
       "      <td>AUUYz</td>\n",
       "      <td>-0.502687</td>\n",
       "      <td>0.729647</td>\n",
       "      <td>0.510063</td>\n",
       "      <td>37.735331</td>\n",
       "    </tr>\n",
       "    <tr>\n",
       "      <th>8482</th>\n",
       "      <td>cVWy3</td>\n",
       "      <td>1.358998</td>\n",
       "      <td>-0.569837</td>\n",
       "      <td>5.207498</td>\n",
       "      <td>139.227191</td>\n",
       "    </tr>\n",
       "    <tr>\n",
       "      <th>30284</th>\n",
       "      <td>RUKIy</td>\n",
       "      <td>0.949783</td>\n",
       "      <td>0.187695</td>\n",
       "      <td>1.368214</td>\n",
       "      <td>72.491987</td>\n",
       "    </tr>\n",
       "  </tbody>\n",
       "</table style=\"display: inline; \"></td></th><th style=\"text-align:left\"><td style=\"vertical-align:top\"><h3>Регион №0: базовая статистика</h3><table style=\"display: inline; \" border=\"1\" class=\"dataframe\">\n",
       "  <thead>\n",
       "    <tr style=\"text-align: right;\">\n",
       "      <th></th>\n",
       "      <th>f0</th>\n",
       "      <th>f1</th>\n",
       "      <th>f2</th>\n",
       "      <th>product</th>\n",
       "    </tr>\n",
       "  </thead>\n",
       "  <tbody>\n",
       "    <tr>\n",
       "      <th>count</th>\n",
       "      <td>100000.000000</td>\n",
       "      <td>100000.000000</td>\n",
       "      <td>100000.000000</td>\n",
       "      <td>100000.000000</td>\n",
       "    </tr>\n",
       "    <tr>\n",
       "      <th>mean</th>\n",
       "      <td>0.500419</td>\n",
       "      <td>0.250143</td>\n",
       "      <td>2.502647</td>\n",
       "      <td>92.500000</td>\n",
       "    </tr>\n",
       "    <tr>\n",
       "      <th>std</th>\n",
       "      <td>0.871832</td>\n",
       "      <td>0.504433</td>\n",
       "      <td>3.248248</td>\n",
       "      <td>44.288691</td>\n",
       "    </tr>\n",
       "    <tr>\n",
       "      <th>min</th>\n",
       "      <td>-1.408605</td>\n",
       "      <td>-0.848218</td>\n",
       "      <td>-12.088328</td>\n",
       "      <td>0.000000</td>\n",
       "    </tr>\n",
       "    <tr>\n",
       "      <th>25%</th>\n",
       "      <td>-0.072580</td>\n",
       "      <td>-0.200881</td>\n",
       "      <td>0.287748</td>\n",
       "      <td>56.497507</td>\n",
       "    </tr>\n",
       "    <tr>\n",
       "      <th>50%</th>\n",
       "      <td>0.502360</td>\n",
       "      <td>0.250252</td>\n",
       "      <td>2.515969</td>\n",
       "      <td>91.849972</td>\n",
       "    </tr>\n",
       "    <tr>\n",
       "      <th>75%</th>\n",
       "      <td>1.073581</td>\n",
       "      <td>0.700646</td>\n",
       "      <td>4.715088</td>\n",
       "      <td>128.564089</td>\n",
       "    </tr>\n",
       "    <tr>\n",
       "      <th>max</th>\n",
       "      <td>2.362331</td>\n",
       "      <td>1.343769</td>\n",
       "      <td>16.003790</td>\n",
       "      <td>185.364347</td>\n",
       "    </tr>\n",
       "  </tbody>\n",
       "</table style=\"display: inline; \"></td></th>"
      ]
     },
     "metadata": {},
     "output_type": "display_data"
    },
    {
     "data": {
      "text/html": [
       "<th style=\"text-align:left\"><td style=\"vertical-align:top\"><h3>Регион №1: случайные 8 элементов</h3><table style=\"display: inline; \" border=\"1\" class=\"dataframe\">\n",
       "  <thead>\n",
       "    <tr style=\"text-align: right;\">\n",
       "      <th></th>\n",
       "      <th>id</th>\n",
       "      <th>f0</th>\n",
       "      <th>f1</th>\n",
       "      <th>f2</th>\n",
       "      <th>product</th>\n",
       "    </tr>\n",
       "  </thead>\n",
       "  <tbody>\n",
       "    <tr>\n",
       "      <th>71751</th>\n",
       "      <td>aTbUt</td>\n",
       "      <td>-0.371866</td>\n",
       "      <td>-1.862494</td>\n",
       "      <td>3.002210</td>\n",
       "      <td>80.859783</td>\n",
       "    </tr>\n",
       "    <tr>\n",
       "      <th>80493</th>\n",
       "      <td>CK34V</td>\n",
       "      <td>9.015122</td>\n",
       "      <td>-13.881455</td>\n",
       "      <td>1.995363</td>\n",
       "      <td>53.906522</td>\n",
       "    </tr>\n",
       "    <tr>\n",
       "      <th>2655</th>\n",
       "      <td>ioXCO</td>\n",
       "      <td>-6.507568</td>\n",
       "      <td>-4.817448</td>\n",
       "      <td>1.003449</td>\n",
       "      <td>30.132364</td>\n",
       "    </tr>\n",
       "    <tr>\n",
       "      <th>53233</th>\n",
       "      <td>xk6tF</td>\n",
       "      <td>14.560845</td>\n",
       "      <td>-10.667755</td>\n",
       "      <td>1.995175</td>\n",
       "      <td>53.906522</td>\n",
       "    </tr>\n",
       "    <tr>\n",
       "      <th>91141</th>\n",
       "      <td>F9AmG</td>\n",
       "      <td>6.090476</td>\n",
       "      <td>-4.494723</td>\n",
       "      <td>0.013815</td>\n",
       "      <td>0.000000</td>\n",
       "    </tr>\n",
       "    <tr>\n",
       "      <th>9539</th>\n",
       "      <td>kCOUH</td>\n",
       "      <td>-11.952141</td>\n",
       "      <td>-1.297294</td>\n",
       "      <td>4.008072</td>\n",
       "      <td>110.992147</td>\n",
       "    </tr>\n",
       "    <tr>\n",
       "      <th>8482</th>\n",
       "      <td>ptl36</td>\n",
       "      <td>-3.078719</td>\n",
       "      <td>-2.971227</td>\n",
       "      <td>5.007848</td>\n",
       "      <td>137.945408</td>\n",
       "    </tr>\n",
       "    <tr>\n",
       "      <th>30284</th>\n",
       "      <td>dq0ke</td>\n",
       "      <td>-2.902590</td>\n",
       "      <td>0.654381</td>\n",
       "      <td>2.999027</td>\n",
       "      <td>84.038886</td>\n",
       "    </tr>\n",
       "  </tbody>\n",
       "</table style=\"display: inline; \"></td></th><th style=\"text-align:left\"><td style=\"vertical-align:top\"><h3>Регион №1: базовая статистика</h3><table style=\"display: inline; \" border=\"1\" class=\"dataframe\">\n",
       "  <thead>\n",
       "    <tr style=\"text-align: right;\">\n",
       "      <th></th>\n",
       "      <th>f0</th>\n",
       "      <th>f1</th>\n",
       "      <th>f2</th>\n",
       "      <th>product</th>\n",
       "    </tr>\n",
       "  </thead>\n",
       "  <tbody>\n",
       "    <tr>\n",
       "      <th>count</th>\n",
       "      <td>100000.000000</td>\n",
       "      <td>100000.000000</td>\n",
       "      <td>100000.000000</td>\n",
       "      <td>100000.000000</td>\n",
       "    </tr>\n",
       "    <tr>\n",
       "      <th>mean</th>\n",
       "      <td>1.141296</td>\n",
       "      <td>-4.796579</td>\n",
       "      <td>2.494541</td>\n",
       "      <td>68.825000</td>\n",
       "    </tr>\n",
       "    <tr>\n",
       "      <th>std</th>\n",
       "      <td>8.965932</td>\n",
       "      <td>5.119872</td>\n",
       "      <td>1.703572</td>\n",
       "      <td>45.944423</td>\n",
       "    </tr>\n",
       "    <tr>\n",
       "      <th>min</th>\n",
       "      <td>-31.609576</td>\n",
       "      <td>-26.358598</td>\n",
       "      <td>-0.018144</td>\n",
       "      <td>0.000000</td>\n",
       "    </tr>\n",
       "    <tr>\n",
       "      <th>25%</th>\n",
       "      <td>-6.298551</td>\n",
       "      <td>-8.267985</td>\n",
       "      <td>1.000021</td>\n",
       "      <td>26.953261</td>\n",
       "    </tr>\n",
       "    <tr>\n",
       "      <th>50%</th>\n",
       "      <td>1.153055</td>\n",
       "      <td>-4.813172</td>\n",
       "      <td>2.011479</td>\n",
       "      <td>57.085625</td>\n",
       "    </tr>\n",
       "    <tr>\n",
       "      <th>75%</th>\n",
       "      <td>8.621015</td>\n",
       "      <td>-1.332816</td>\n",
       "      <td>3.999904</td>\n",
       "      <td>107.813044</td>\n",
       "    </tr>\n",
       "    <tr>\n",
       "      <th>max</th>\n",
       "      <td>29.421755</td>\n",
       "      <td>18.734063</td>\n",
       "      <td>5.019721</td>\n",
       "      <td>137.945408</td>\n",
       "    </tr>\n",
       "  </tbody>\n",
       "</table style=\"display: inline; \"></td></th>"
      ]
     },
     "metadata": {},
     "output_type": "display_data"
    },
    {
     "data": {
      "text/html": [
       "<th style=\"text-align:left\"><td style=\"vertical-align:top\"><h3>Регион №2: случайные 8 элементов</h3><table style=\"display: inline; \" border=\"1\" class=\"dataframe\">\n",
       "  <thead>\n",
       "    <tr style=\"text-align: right;\">\n",
       "      <th></th>\n",
       "      <th>id</th>\n",
       "      <th>f0</th>\n",
       "      <th>f1</th>\n",
       "      <th>f2</th>\n",
       "      <th>product</th>\n",
       "    </tr>\n",
       "  </thead>\n",
       "  <tbody>\n",
       "    <tr>\n",
       "      <th>71751</th>\n",
       "      <td>DMlgl</td>\n",
       "      <td>-1.444717</td>\n",
       "      <td>-3.861599</td>\n",
       "      <td>2.225805</td>\n",
       "      <td>61.212375</td>\n",
       "    </tr>\n",
       "    <tr>\n",
       "      <th>80493</th>\n",
       "      <td>tbrRC</td>\n",
       "      <td>-1.418617</td>\n",
       "      <td>1.276544</td>\n",
       "      <td>-0.976433</td>\n",
       "      <td>41.850118</td>\n",
       "    </tr>\n",
       "    <tr>\n",
       "      <th>2655</th>\n",
       "      <td>JRs1w</td>\n",
       "      <td>-4.587649</td>\n",
       "      <td>-0.413199</td>\n",
       "      <td>1.649268</td>\n",
       "      <td>57.776581</td>\n",
       "    </tr>\n",
       "    <tr>\n",
       "      <th>53233</th>\n",
       "      <td>bidOx</td>\n",
       "      <td>1.871584</td>\n",
       "      <td>1.619101</td>\n",
       "      <td>4.273555</td>\n",
       "      <td>100.053761</td>\n",
       "    </tr>\n",
       "    <tr>\n",
       "      <th>91141</th>\n",
       "      <td>AcBBB</td>\n",
       "      <td>-2.028785</td>\n",
       "      <td>4.128167</td>\n",
       "      <td>6.089547</td>\n",
       "      <td>109.897122</td>\n",
       "    </tr>\n",
       "    <tr>\n",
       "      <th>9539</th>\n",
       "      <td>vtjRe</td>\n",
       "      <td>-0.028229</td>\n",
       "      <td>1.989053</td>\n",
       "      <td>7.225462</td>\n",
       "      <td>105.904629</td>\n",
       "    </tr>\n",
       "    <tr>\n",
       "      <th>8482</th>\n",
       "      <td>VLsun</td>\n",
       "      <td>-0.966167</td>\n",
       "      <td>-0.367683</td>\n",
       "      <td>6.707670</td>\n",
       "      <td>51.646180</td>\n",
       "    </tr>\n",
       "    <tr>\n",
       "      <th>30284</th>\n",
       "      <td>p6Bdk</td>\n",
       "      <td>-3.040141</td>\n",
       "      <td>-3.336128</td>\n",
       "      <td>-0.950435</td>\n",
       "      <td>173.162121</td>\n",
       "    </tr>\n",
       "  </tbody>\n",
       "</table style=\"display: inline; \"></td></th><th style=\"text-align:left\"><td style=\"vertical-align:top\"><h3>Регион №2: базовая статистика</h3><table style=\"display: inline; \" border=\"1\" class=\"dataframe\">\n",
       "  <thead>\n",
       "    <tr style=\"text-align: right;\">\n",
       "      <th></th>\n",
       "      <th>f0</th>\n",
       "      <th>f1</th>\n",
       "      <th>f2</th>\n",
       "      <th>product</th>\n",
       "    </tr>\n",
       "  </thead>\n",
       "  <tbody>\n",
       "    <tr>\n",
       "      <th>count</th>\n",
       "      <td>100000.000000</td>\n",
       "      <td>100000.000000</td>\n",
       "      <td>100000.000000</td>\n",
       "      <td>100000.000000</td>\n",
       "    </tr>\n",
       "    <tr>\n",
       "      <th>mean</th>\n",
       "      <td>0.002023</td>\n",
       "      <td>-0.002081</td>\n",
       "      <td>2.495128</td>\n",
       "      <td>95.000000</td>\n",
       "    </tr>\n",
       "    <tr>\n",
       "      <th>std</th>\n",
       "      <td>1.732045</td>\n",
       "      <td>1.730417</td>\n",
       "      <td>3.473445</td>\n",
       "      <td>44.749921</td>\n",
       "    </tr>\n",
       "    <tr>\n",
       "      <th>min</th>\n",
       "      <td>-8.760004</td>\n",
       "      <td>-7.084020</td>\n",
       "      <td>-11.970335</td>\n",
       "      <td>0.000000</td>\n",
       "    </tr>\n",
       "    <tr>\n",
       "      <th>25%</th>\n",
       "      <td>-1.162288</td>\n",
       "      <td>-1.174820</td>\n",
       "      <td>0.130359</td>\n",
       "      <td>59.450441</td>\n",
       "    </tr>\n",
       "    <tr>\n",
       "      <th>50%</th>\n",
       "      <td>0.009424</td>\n",
       "      <td>-0.009482</td>\n",
       "      <td>2.484236</td>\n",
       "      <td>94.925613</td>\n",
       "    </tr>\n",
       "    <tr>\n",
       "      <th>75%</th>\n",
       "      <td>1.158535</td>\n",
       "      <td>1.163678</td>\n",
       "      <td>4.858794</td>\n",
       "      <td>130.595027</td>\n",
       "    </tr>\n",
       "    <tr>\n",
       "      <th>max</th>\n",
       "      <td>7.238262</td>\n",
       "      <td>7.844801</td>\n",
       "      <td>16.739402</td>\n",
       "      <td>190.029838</td>\n",
       "    </tr>\n",
       "  </tbody>\n",
       "</table style=\"display: inline; \"></td></th>"
      ]
     },
     "metadata": {},
     "output_type": "display_data"
    }
   ],
   "source": [
    "for i in range(0, len(data)):\n",
    "    display_side_by_side(\n",
    "        data[i].sample(8, random_state=GLOBAL_RANDOM_STATE),\n",
    "        data[i].describe(),\n",
    "        titles = [f'Регион №{i}: случайные 8 элементов',f'Регион №{i}: базовая статистика']\n",
    "    )"
   ]
  },
  {
   "cell_type": "markdown",
   "metadata": {},
   "source": [
    "<div class=\"alert alert-block alert-success\">\n",
    "<b>Комментарий ревьюера</b>\n",
    "\n",
    "Классное оформление.\n",
    "\n",
    "</div>\n"
   ]
  },
  {
   "cell_type": "markdown",
   "metadata": {},
   "source": [
    "Вряд ли нам нужны скважины, которые уже на этапе разведки дали нулевой выход. Сколько таких?"
   ]
  },
  {
   "cell_type": "code",
   "execution_count": 13,
   "metadata": {},
   "outputs": [
    {
     "name": "stdout",
     "output_type": "stream",
     "text": [
      "Скважин с нулевым выходом в регионе №0: 1\n",
      "Скважин с нулевым выходом в регионе №1: 8235\n",
      "Скважин с нулевым выходом в регионе №2: 1\n"
     ]
    }
   ],
   "source": [
    "for i in range(0, len(data)):\n",
    "    print(f'Скважин с нулевым выходом в регионе №{i}:', data[i].query('product == 0')['product'].count())\n",
    "    "
   ]
  },
  {
   "cell_type": "markdown",
   "metadata": {},
   "source": [
    "Разумно вообще не бурить в этих местах (вряд ли найдется тот, кто вложится в бурение скважины, которая на пробах показала нулевой выход), поэтому просто удалим их:"
   ]
  },
  {
   "cell_type": "code",
   "execution_count": 14,
   "metadata": {},
   "outputs": [],
   "source": [
    "for i in range(0, len(data)):\n",
    "    data[i] = data[i].query('product > 0')"
   ]
  },
  {
   "cell_type": "code",
   "execution_count": 15,
   "metadata": {},
   "outputs": [
    {
     "name": "stdout",
     "output_type": "stream",
     "text": [
      "Регион №0\n",
      "<class 'pandas.core.frame.DataFrame'>\n",
      "Int64Index: 99999 entries, 0 to 99999\n",
      "Data columns (total 5 columns):\n",
      "id         99999 non-null object\n",
      "f0         99999 non-null float64\n",
      "f1         99999 non-null float64\n",
      "f2         99999 non-null float64\n",
      "product    99999 non-null float64\n",
      "dtypes: float64(4), object(1)\n",
      "memory usage: 4.6+ MB\n",
      "\n",
      "Регион №1\n",
      "<class 'pandas.core.frame.DataFrame'>\n",
      "Int64Index: 91765 entries, 0 to 99999\n",
      "Data columns (total 5 columns):\n",
      "id         91765 non-null object\n",
      "f0         91765 non-null float64\n",
      "f1         91765 non-null float64\n",
      "f2         91765 non-null float64\n",
      "product    91765 non-null float64\n",
      "dtypes: float64(4), object(1)\n",
      "memory usage: 4.2+ MB\n",
      "\n",
      "Регион №2\n",
      "<class 'pandas.core.frame.DataFrame'>\n",
      "Int64Index: 99999 entries, 0 to 99999\n",
      "Data columns (total 5 columns):\n",
      "id         99999 non-null object\n",
      "f0         99999 non-null float64\n",
      "f1         99999 non-null float64\n",
      "f2         99999 non-null float64\n",
      "product    99999 non-null float64\n",
      "dtypes: float64(4), object(1)\n",
      "memory usage: 4.6+ MB\n",
      "\n"
     ]
    }
   ],
   "source": [
    "for i in range(0, len(data)):\n",
    "    print(f'Регион №{i}')\n",
    "    data[i].info()\n",
    "    print()"
   ]
  },
  {
   "cell_type": "markdown",
   "metadata": {},
   "source": [
    "<div class=\"alert alert-block alert-success\">\n",
    "<b>Комментарий ревьюера</b>\n",
    "\n",
    "Хорошее решение, здорово.\n",
    "\n",
    "</div>\n"
   ]
  },
  {
   "cell_type": "markdown",
   "metadata": {},
   "source": [
    "Полные дубликаты по нецелевым признакам? Нет:"
   ]
  },
  {
   "cell_type": "code",
   "execution_count": 16,
   "metadata": {},
   "outputs": [
    {
     "name": "stdout",
     "output_type": "stream",
     "text": [
      "Регион №0: 0\n",
      "Регион №1: 0\n",
      "Регион №2: 0\n"
     ]
    }
   ],
   "source": [
    "for i in range(0, len(data)):\n",
    "    print(f'Регион №{i}:', data[i][data[i].duplicated(subset=['f0','f1','f2'])].shape[0])"
   ]
  },
  {
   "cell_type": "markdown",
   "metadata": {},
   "source": [
    "Корреляции? Да, полная корреляция между F2 и целевым product для Региона №1. \n",
    "\n",
    "Мы вправе ожидать некоторой бессмысленности прогнозировать что-то на таких данных (имеет место **утечка целевого признака** ведь фактически, корреляция = 1 означает линейную зависимость величин)"
   ]
  },
  {
   "cell_type": "code",
   "execution_count": 17,
   "metadata": {
    "scrolled": true
   },
   "outputs": [
    {
     "data": {
      "image/png": "[encoded data removed]",
      "text/plain": [
       "<Figure size 1080x360 with 6 Axes>"
      ]
     },
     "metadata": {
      "needs_background": "light"
     },
     "output_type": "display_data"
    }
   ],
   "source": [
    "correlation(data, headers=['Регион №0','Регион №1','Регион №2'], figsize=(15,5))"
   ]
  },
  {
   "cell_type": "markdown",
   "metadata": {},
   "source": [
    "<div class=\"alert alert-block alert-success\">\n",
    "<b>Комментарий ревьюера</b>\n",
    "\n",
    "Молодец, что заметил эту корреляцию. Она и в правду странная.\n",
    "\n",
    "</div>\n"
   ]
  },
  {
   "cell_type": "markdown",
   "metadata": {},
   "source": [
    "Избавимся от id, как от признака без ML-нагрузки и выделим features и target:"
   ]
  },
  {
   "cell_type": "code",
   "execution_count": 18,
   "metadata": {},
   "outputs": [],
   "source": [
    "feat = []\n",
    "targ = []\n",
    "for i in range(0, len(data)):\n",
    "    feat.append(data[i][['f0','f1','f2']])\n",
    "    targ.append(data[i]['product'])"
   ]
  },
  {
   "cell_type": "markdown",
   "metadata": {},
   "source": [
    "Разделим и отмасштабируем выборки (с shuffle в train_test_split и без него): "
   ]
  },
  {
   "cell_type": "code",
   "execution_count": 19,
   "metadata": {},
   "outputs": [],
   "source": [
    "feat_targ_s = []\n",
    "feat_targ_u = []\n",
    "for i in range(0, len(feat)):\n",
    "    feat_targ_s.append(split_and_scale(feat[i], targ[i], shuffle=True)) \n",
    "    feat_targ_u.append(split_and_scale(feat[i], targ[i], shuffle=False))\n",
    "    "
   ]
  },
  {
   "cell_type": "code",
   "execution_count": 20,
   "metadata": {},
   "outputs": [
    {
     "data": {
      "text/html": [
       "<th style=\"text-align:left\"><td style=\"vertical-align:top\"><h3>Регион №0: train feat/sc/sh</h3><table style=\"display: inline; \" border=\"1\" class=\"dataframe\">\n",
       "  <thead>\n",
       "    <tr style=\"text-align: right;\">\n",
       "      <th></th>\n",
       "      <th>f0</th>\n",
       "      <th>f1</th>\n",
       "      <th>f2</th>\n",
       "    </tr>\n",
       "  </thead>\n",
       "  <tbody>\n",
       "    <tr>\n",
       "      <th>0</th>\n",
       "      <td>-0.544093</td>\n",
       "      <td>1.389958</td>\n",
       "      <td>-0.096387</td>\n",
       "    </tr>\n",
       "    <tr>\n",
       "      <th>1</th>\n",
       "      <td>1.456281</td>\n",
       "      <td>-0.481508</td>\n",
       "      <td>1.207188</td>\n",
       "    </tr>\n",
       "    <tr>\n",
       "      <th>2</th>\n",
       "      <td>0.261047</td>\n",
       "      <td>0.824527</td>\n",
       "      <td>-0.206212</td>\n",
       "    </tr>\n",
       "    <tr>\n",
       "      <th>3</th>\n",
       "      <td>-1.836133</td>\n",
       "      <td>0.009439</td>\n",
       "      <td>-0.149023</td>\n",
       "    </tr>\n",
       "    <tr>\n",
       "      <th>4</th>\n",
       "      <td>-1.298370</td>\n",
       "      <td>0.987084</td>\n",
       "      <td>1.270756</td>\n",
       "    </tr>\n",
       "    <tr>\n",
       "      <th>5</th>\n",
       "      <td>-0.657833</td>\n",
       "      <td>1.807424</td>\n",
       "      <td>1.705968</td>\n",
       "    </tr>\n",
       "    <tr>\n",
       "      <th>6</th>\n",
       "      <td>-1.461661</td>\n",
       "      <td>1.019813</td>\n",
       "      <td>0.512298</td>\n",
       "    </tr>\n",
       "    <tr>\n",
       "      <th>7</th>\n",
       "      <td>0.704160</td>\n",
       "      <td>0.741198</td>\n",
       "      <td>-0.216492</td>\n",
       "    </tr>\n",
       "  </tbody>\n",
       "</table style=\"display: inline; \"></td></th><th style=\"text-align:left\"><td style=\"vertical-align:top\"><h3>Регион №1: train feat/sc/sh</h3><table style=\"display: inline; \" border=\"1\" class=\"dataframe\">\n",
       "  <thead>\n",
       "    <tr style=\"text-align: right;\">\n",
       "      <th></th>\n",
       "      <th>f0</th>\n",
       "      <th>f1</th>\n",
       "      <th>f2</th>\n",
       "    </tr>\n",
       "  </thead>\n",
       "  <tbody>\n",
       "    <tr>\n",
       "      <th>0</th>\n",
       "      <td>1.292355</td>\n",
       "      <td>0.600674</td>\n",
       "      <td>-1.078646</td>\n",
       "    </tr>\n",
       "    <tr>\n",
       "      <th>1</th>\n",
       "      <td>1.461525</td>\n",
       "      <td>0.741888</td>\n",
       "      <td>-0.448522</td>\n",
       "    </tr>\n",
       "    <tr>\n",
       "      <th>2</th>\n",
       "      <td>-0.636076</td>\n",
       "      <td>-1.132077</td>\n",
       "      <td>-0.448184</td>\n",
       "    </tr>\n",
       "    <tr>\n",
       "      <th>3</th>\n",
       "      <td>0.590996</td>\n",
       "      <td>0.587728</td>\n",
       "      <td>-0.448668</td>\n",
       "    </tr>\n",
       "    <tr>\n",
       "      <th>4</th>\n",
       "      <td>-1.226516</td>\n",
       "      <td>0.027356</td>\n",
       "      <td>1.429782</td>\n",
       "    </tr>\n",
       "    <tr>\n",
       "      <th>5</th>\n",
       "      <td>-1.061958</td>\n",
       "      <td>-0.347541</td>\n",
       "      <td>-1.700051</td>\n",
       "    </tr>\n",
       "    <tr>\n",
       "      <th>6</th>\n",
       "      <td>-0.925403</td>\n",
       "      <td>0.412560</td>\n",
       "      <td>-0.450083</td>\n",
       "    </tr>\n",
       "    <tr>\n",
       "      <th>7</th>\n",
       "      <td>-0.884073</td>\n",
       "      <td>0.841896</td>\n",
       "      <td>1.426406</td>\n",
       "    </tr>\n",
       "  </tbody>\n",
       "</table style=\"display: inline; \"></td></th><th style=\"text-align:left\"><td style=\"vertical-align:top\"><h3>Регион №2: train feat/sc/sh</h3><table style=\"display: inline; \" border=\"1\" class=\"dataframe\">\n",
       "  <thead>\n",
       "    <tr style=\"text-align: right;\">\n",
       "      <th></th>\n",
       "      <th>f0</th>\n",
       "      <th>f1</th>\n",
       "      <th>f2</th>\n",
       "    </tr>\n",
       "  </thead>\n",
       "  <tbody>\n",
       "    <tr>\n",
       "      <th>0</th>\n",
       "      <td>-0.526788</td>\n",
       "      <td>0.774453</td>\n",
       "      <td>-0.401320</td>\n",
       "    </tr>\n",
       "    <tr>\n",
       "      <th>1</th>\n",
       "      <td>-0.890213</td>\n",
       "      <td>-0.404716</td>\n",
       "      <td>-1.223465</td>\n",
       "    </tr>\n",
       "    <tr>\n",
       "      <th>2</th>\n",
       "      <td>-0.882092</td>\n",
       "      <td>-0.275981</td>\n",
       "      <td>-0.014349</td>\n",
       "    </tr>\n",
       "    <tr>\n",
       "      <th>3</th>\n",
       "      <td>1.226222</td>\n",
       "      <td>1.567464</td>\n",
       "      <td>-0.765085</td>\n",
       "    </tr>\n",
       "    <tr>\n",
       "      <th>4</th>\n",
       "      <td>-0.194954</td>\n",
       "      <td>0.876330</td>\n",
       "      <td>0.840298</td>\n",
       "    </tr>\n",
       "    <tr>\n",
       "      <th>5</th>\n",
       "      <td>0.640522</td>\n",
       "      <td>0.849472</td>\n",
       "      <td>1.533037</td>\n",
       "    </tr>\n",
       "    <tr>\n",
       "      <th>6</th>\n",
       "      <td>-0.542436</td>\n",
       "      <td>1.872787</td>\n",
       "      <td>0.641395</td>\n",
       "    </tr>\n",
       "    <tr>\n",
       "      <th>7</th>\n",
       "      <td>-1.163220</td>\n",
       "      <td>-0.599014</td>\n",
       "      <td>1.395679</td>\n",
       "    </tr>\n",
       "  </tbody>\n",
       "</table style=\"display: inline; \"></td></th>"
      ]
     },
     "metadata": {},
     "output_type": "display_data"
    }
   ],
   "source": [
    "display_side_by_side(\n",
    "        feat_targ_s[0][0].head(8),\n",
    "        feat_targ_s[1][0].head(8),\n",
    "        feat_targ_s[2][0].head(8),\n",
    "        titles = [f'Регион №{0}: train feat/sc/sh',f'Регион №{1}: train feat/sc/sh',f'Регион №{2}: train feat/sc/sh']\n",
    "    )"
   ]
  },
  {
   "cell_type": "markdown",
   "metadata": {},
   "source": [
    "Для контроля, посмотрим еще раз:"
   ]
  },
  {
   "cell_type": "code",
   "execution_count": 21,
   "metadata": {},
   "outputs": [
    {
     "data": {
      "image/png": "[encoded data removed]",
      "text/plain": [
       "<Figure size 1080x360 with 6 Axes>"
      ]
     },
     "metadata": {
      "needs_background": "light"
     },
     "output_type": "display_data"
    }
   ],
   "source": [
    "correlation([\n",
    "                feat_targ_s[0][0].join(feat_targ_s[0][2]),\n",
    "                feat_targ_s[1][0].join(feat_targ_s[1][2]),\n",
    "                feat_targ_s[2][0].join(feat_targ_s[2][2])\n",
    "            ],\n",
    "        headers=['Регион №0: split+shuffle,scaled','Регион №1: split+shuffle,scaled','Регион №2: split+shuffle,scaled'], \n",
    "        figsize=(15,5))"
   ]
  },
  {
   "cell_type": "code",
   "execution_count": 22,
   "metadata": {},
   "outputs": [
    {
     "data": {
      "image/png": "[encoded data removed]",
      "text/plain": [
       "<Figure size 1080x360 with 6 Axes>"
      ]
     },
     "metadata": {
      "needs_background": "light"
     },
     "output_type": "display_data"
    }
   ],
   "source": [
    "correlation([\n",
    "                feat_targ_u[0][0].join(feat_targ_u[0][2]),\n",
    "                feat_targ_u[1][0].join(feat_targ_u[1][2]),\n",
    "                feat_targ_u[2][0].join(feat_targ_u[2][2])\n",
    "            ],\n",
    "        headers=['Регион №0: split,scaled','Регион №1: split,scaled','Регион №2: split,scaled'], \n",
    "        figsize=(15,5))"
   ]
  },
  {
   "cell_type": "markdown",
   "metadata": {},
   "source": [
    "От перестановки слагаемых сумма практически не меняется, но shuffled мне чуть более симпатична, ее и будем использовать"
   ]
  },
  {
   "cell_type": "code",
   "execution_count": 23,
   "metadata": {},
   "outputs": [],
   "source": [
    "feat_targ = feat_targ_s.copy()"
   ]
  },
  {
   "cell_type": "markdown",
   "metadata": {},
   "source": [
    "<div class=\"alert alert-block alert-success\">\n",
    "<b>Комментарий ревьюера</b>\n",
    "\n",
    "Шаг выполнен отлично.\n",
    "\n",
    "</div>\n"
   ]
  },
  {
   "cell_type": "markdown",
   "metadata": {},
   "source": [
    "## Обучение и проверка модели"
   ]
  },
  {
   "cell_type": "markdown",
   "metadata": {},
   "source": [
    "Найдем лучшие параметры и обучим соответствующие модели для регионов:"
   ]
  },
  {
   "cell_type": "code",
   "execution_count": 24,
   "metadata": {},
   "outputs": [],
   "source": [
    "estimators = []\n",
    "for i in range(0, len(feat_targ)):\n",
    "    gscv = GridSearchCV(\n",
    "        LinearRegression(),\n",
    "        {\n",
    "            'fit_intercept': [True, False],\n",
    "            'normalize': [True, False],\n",
    "            'copy_X': [True]\n",
    "        }, \n",
    "        scoring='neg_mean_squared_error',\n",
    "        cv=5,\n",
    "        verbose=0,\n",
    "        return_train_score=True,\n",
    "        refit=True)\n",
    "    gscv.fit(feat_targ[i][0],feat_targ[i][2])\n",
    "    estimators.append([gscv.best_estimator_, (gscv.best_score_  * (-1)) ** 0.5])"
   ]
  },
  {
   "cell_type": "markdown",
   "metadata": {},
   "source": [
    "Получим предсказания и ошибки для каждого региона:"
   ]
  },
  {
   "cell_type": "code",
   "execution_count": 25,
   "metadata": {},
   "outputs": [],
   "source": [
    "pred = []\n",
    "for i in range(0, len(estimators)):\n",
    "    pred_valid = estimators[i][0].predict(feat_targ[i][1])\n",
    "    pred_rmse = mean_squared_error(feat_targ[i][3], pred_valid)\n",
    "    pred.append([pd.Series(pred_valid), pred_rmse ** 0.5])"
   ]
  },
  {
   "cell_type": "markdown",
   "metadata": {},
   "source": [
    "Визуализируем итог:"
   ]
  },
  {
   "cell_type": "code",
   "execution_count": 26,
   "metadata": {},
   "outputs": [
    {
     "data": {
      "text/html": [
       "<div>\n",
       "<style scoped>\n",
       "    .dataframe tbody tr th:only-of-type {\n",
       "        vertical-align: middle;\n",
       "    }\n",
       "\n",
       "    .dataframe tbody tr th {\n",
       "        vertical-align: top;\n",
       "    }\n",
       "\n",
       "    .dataframe thead th {\n",
       "        text-align: right;\n",
       "    }\n",
       "</style>\n",
       "<table border=\"1\" class=\"dataframe\">\n",
       "  <thead>\n",
       "    <tr style=\"text-align: right;\">\n",
       "      <th></th>\n",
       "      <th>Предсказанный средний запас</th>\n",
       "      <th>RMSE</th>\n",
       "      <th>CV-RMSE</th>\n",
       "    </tr>\n",
       "  </thead>\n",
       "  <tbody>\n",
       "    <tr>\n",
       "      <td>Регион №0</td>\n",
       "      <td>92.527983</td>\n",
       "      <td>37.485863</td>\n",
       "      <td>37.763232</td>\n",
       "    </tr>\n",
       "    <tr>\n",
       "      <td>Регион №1</td>\n",
       "      <td>74.922209</td>\n",
       "      <td>0.885602</td>\n",
       "      <td>0.887422</td>\n",
       "    </tr>\n",
       "    <tr>\n",
       "      <td>Регион №2</td>\n",
       "      <td>94.871776</td>\n",
       "      <td>40.155926</td>\n",
       "      <td>40.023305</td>\n",
       "    </tr>\n",
       "  </tbody>\n",
       "</table>\n",
       "</div>"
      ],
      "text/plain": [
       "           Предсказанный средний запас       RMSE    CV-RMSE\n",
       "Регион №0                    92.527983  37.485863  37.763232\n",
       "Регион №1                    74.922209   0.885602   0.887422\n",
       "Регион №2                    94.871776  40.155926  40.023305"
      ]
     },
     "execution_count": 26,
     "metadata": {},
     "output_type": "execute_result"
    }
   ],
   "source": [
    "columns=['Предсказанный средний запас', 'RMSE', 'CV-RMSE']\n",
    "visual = pd.DataFrame(columns=columns)\n",
    "for i in range(0, len(pred)):\n",
    "    row = pd.Series(\n",
    "        {\n",
    "            f'{columns[0]}': pred[i][0].mean(), \n",
    "            f'{columns[1]}': pred[i][1], \n",
    "            f'{columns[2]}': estimators[i][1]\n",
    "        }, name=f'Регион №{i}')\n",
    "    visual = visual.append(row)\n",
    "visual\n",
    "        "
   ]
  },
  {
   "cell_type": "markdown",
   "metadata": {},
   "source": [
    "Как и ожидалось, мы практически безошибочно предсказываем в регионе №1, где межу target и F2 есть зависимость; ошибиться в этом случае почти невозможно.\n",
    "\n",
    "Но сказать что-то определенное по этим данным в части бизнеса сейчас нельзя."
   ]
  },
  {
   "cell_type": "markdown",
   "metadata": {},
   "source": [
    "<div class=\"alert alert-block alert-success\">\n",
    "<b>Комментарий ревьюера</b>\n",
    "\n",
    "Здесь тоже все корректно.\n",
    "\n",
    "</div>\n"
   ]
  },
  {
   "cell_type": "markdown",
   "metadata": {},
   "source": [
    "## Подготовка к расчёту прибыли"
   ]
  },
  {
   "cell_type": "markdown",
   "metadata": {},
   "source": [
    "Немного статики (это ужасно, но \"так тоже было можно\"):"
   ]
  },
  {
   "cell_type": "code",
   "execution_count": 27,
   "metadata": {},
   "outputs": [],
   "source": [
    "DRILLING_BUDGET = 10e9 # общий бюджет на все скважины\n",
    "MAX_WELLS = 200 # число скважин\n",
    "COST_PER_WELL = DRILLING_BUDGET / MAX_WELLS # средняя себестоимость скважины, нефтяники плачут\n",
    "RUB_YEILD_PER_KILOBARREL = 45e4 # доход с 1 тыс. баррелей\n",
    "WELL_BREAKEVEN_POINT_KILOBARRELS = COST_PER_WELL / RUB_YEILD_PER_KILOBARREL # точка безубыточности для отдельной скважины\n",
    "SUBSAMPLE_SIZE = 500\n",
    "BOOTSTRAP_COUNT = 1000\n",
    "CONFIDENCE_INTERVAL = 0.95"
   ]
  },
  {
   "cell_type": "markdown",
   "metadata": {},
   "source": [
    "<div class=\"alert alert-block alert-success\">\n",
    "<b>Комментарий ревьюера</b>\n",
    "\n",
    "Молодец, что записываешь имена констрант заглавными буквами. Также можно использовать `_` как разделитель для длинных чисел:\n",
    "    \n",
    ">`PRICE = 1_000_000_000`\n",
    "\n",
    "</div>\n"
   ]
  },
  {
   "cell_type": "code",
   "execution_count": 28,
   "metadata": {
    "scrolled": true
   },
   "outputs": [
    {
     "name": "stdout",
     "output_type": "stream",
     "text": [
      "Усредненная точка безубыточности (необходимый выход в расчете на 1 скважину):  111.11111111111111 тыс. бареллей\n"
     ]
    }
   ],
   "source": [
    "print('Усредненная точка безубыточности (необходимый выход в расчете на 1 скважину): ',WELL_BREAKEVEN_POINT_KILOBARRELS, 'тыс. бареллей')"
   ]
  },
  {
   "cell_type": "markdown",
   "metadata": {},
   "source": [
    "<div class=\"alert alert-block alert-success\">\n",
    "<b>Комментарий ревьюера</b>\n",
    "\n",
    "Порог, при котором разработка будет безубыточной, определен верно.\n",
    "\n",
    "</div>\n"
   ]
  },
  {
   "cell_type": "markdown",
   "metadata": {},
   "source": [
    "А что по средним на фактических данных? Кто знает, может и регион №1 суммет выйти на \"среднюю безубыточность\""
   ]
  },
  {
   "cell_type": "code",
   "execution_count": 29,
   "metadata": {},
   "outputs": [
    {
     "data": {
      "text/html": [
       "<th style=\"text-align:left\"><td style=\"vertical-align:top\"><h3>Регион №0</h3><table style=\"display: inline; \" border=\"1\" class=\"dataframe\">\n",
       "  <thead>\n",
       "    <tr style=\"text-align: right;\">\n",
       "      <th></th>\n",
       "      <th>product</th>\n",
       "    </tr>\n",
       "  </thead>\n",
       "  <tbody>\n",
       "    <tr>\n",
       "      <th>mean</th>\n",
       "      <td>92.500925</td>\n",
       "    </tr>\n",
       "    <tr>\n",
       "      <th>std</th>\n",
       "      <td>44.287947</td>\n",
       "    </tr>\n",
       "  </tbody>\n",
       "</table style=\"display: inline; \"></td></th><th style=\"text-align:left\"><td style=\"vertical-align:top\"><h3>Регион №1</h3><table style=\"display: inline; \" border=\"1\" class=\"dataframe\">\n",
       "  <thead>\n",
       "    <tr style=\"text-align: right;\">\n",
       "      <th></th>\n",
       "      <th>product</th>\n",
       "    </tr>\n",
       "  </thead>\n",
       "  <tbody>\n",
       "    <tr>\n",
       "      <th>mean</th>\n",
       "      <td>75.001362</td>\n",
       "    </tr>\n",
       "    <tr>\n",
       "      <th>std</th>\n",
       "      <td>42.861205</td>\n",
       "    </tr>\n",
       "  </tbody>\n",
       "</table style=\"display: inline; \"></td></th><th style=\"text-align:left\"><td style=\"vertical-align:top\"><h3>Регион №2</h3><table style=\"display: inline; \" border=\"1\" class=\"dataframe\">\n",
       "  <thead>\n",
       "    <tr style=\"text-align: right;\">\n",
       "      <th></th>\n",
       "      <th>product</th>\n",
       "    </tr>\n",
       "  </thead>\n",
       "  <tbody>\n",
       "    <tr>\n",
       "      <th>mean</th>\n",
       "      <td>95.000950</td>\n",
       "    </tr>\n",
       "    <tr>\n",
       "      <th>std</th>\n",
       "      <td>44.749136</td>\n",
       "    </tr>\n",
       "  </tbody>\n",
       "</table style=\"display: inline; \"></td></th>"
      ]
     },
     "metadata": {},
     "output_type": "display_data"
    }
   ],
   "source": [
    "display_side_by_side(\n",
    "    data[0][['product']].describe().loc[['mean','std']],\n",
    "    data[1][['product']].describe().loc[['mean','std']],\n",
    "    data[2][['product']].describe().loc[['mean','std']],\n",
    "    titles = [f'Регион №0', f'Регион №1', f'Регион №2']\n",
    ")"
   ]
  },
  {
   "cell_type": "markdown",
   "metadata": {},
   "source": [
    "<div class=\"alert alert-block alert-success\">\n",
    "<b>Комментарий ревьюера</b>\n",
    "\n",
    "Не выйдет :) Без модели не справимся.\n",
    "\n",
    "</div>\n"
   ]
  },
  {
   "cell_type": "markdown",
   "metadata": {},
   "source": [
    "## Расчёт прибыли и рисков "
   ]
  },
  {
   "cell_type": "markdown",
   "metadata": {},
   "source": [
    "Предположим, мы будем расходовать весь бюджет на регион (что конечно безумно, но ...), т.е. в любом случае - пробурим 200 скважин. Тогда:"
   ]
  },
  {
   "cell_type": "markdown",
   "metadata": {},
   "source": [
    "<div class=\"alert alert-block alert-success\">\n",
    "<b>Комментарий ревьюера</b>\n",
    "\n",
    "Вдруг мы в идеальном мире :) Или в стоимость бурения уже заложены, так сказать, издержки 😂\n",
    "\n",
    "</div>\n"
   ]
  },
  {
   "cell_type": "code",
   "execution_count": 30,
   "metadata": {},
   "outputs": [],
   "source": [
    "def calculate_profit(data: pd.Series, wells: int) -> float:\n",
    "    return data\\\n",
    "        .sort_values(ascending=False)\\\n",
    "        .head(wells)\\\n",
    "        .sum() * RUB_YEILD_PER_KILOBARREL - wells * COST_PER_WELL"
   ]
  },
  {
   "cell_type": "code",
   "execution_count": 31,
   "metadata": {},
   "outputs": [
    {
     "name": "stdout",
     "output_type": "stream",
     "text": [
      "Общая прогнозируемся прибыль в регионе №0: 3.92 млрд.руб.\n",
      "Общая прогнозируемся прибыль в регионе №1: 2.48 млрд.руб.\n",
      "Общая прогнозируемся прибыль в регионе №2: 3.33 млрд.руб.\n"
     ]
    }
   ],
   "source": [
    "for i in range(0, len(pred)):\n",
    "    print(f'Общая прогнозируемся прибыль в регионе №{i}:', pretty_billions(calculate_profit(pred[i][0], MAX_WELLS)))\n",
    "    "
   ]
  },
  {
   "cell_type": "markdown",
   "metadata": {},
   "source": [
    "<div class=\"alert alert-block alert-warning\">\n",
    "<b>Комментарий ревьюера</b>\n",
    "\n",
    "На мой взгляд, было бы нагляднее привести данные в млрд.\n",
    "\n",
    "</div>\n"
   ]
  },
  {
   "cell_type": "markdown",
   "metadata": {},
   "source": [
    "<div class=\"alert alert-info\">\n",
    "<b>Комментарий студента:</b>\n",
    "\n",
    "pretty_billions - действительно, и нагляднее, и приятнее :)</div>"
   ]
  },
  {
   "cell_type": "markdown",
   "metadata": {},
   "source": [
    "<div class=\"alert alert-block alert-success\">\n",
    "<b>Комментарий ревьюера (v2)</b>\n",
    "\n",
    "Классное название функции 😂\n",
    "\n",
    "</div>\n"
   ]
  },
  {
   "cell_type": "markdown",
   "metadata": {},
   "source": [
    "Покомбинируем субвыборки (по 500, согласно условиям) из pred через bootstrap и посмотрим волатильность оценок прибыли в регионах:"
   ]
  },
  {
   "cell_type": "code",
   "execution_count": 32,
   "metadata": {},
   "outputs": [],
   "source": [
    "state = np.random.RandomState(GLOBAL_RANDOM_STATE)\n",
    "def bootstrap(data: pd.Series, subsample_size: int) -> pd.Series:\n",
    "    values = []\n",
    "    for i in range(0, BOOTSTRAP_COUNT):\n",
    "        subsamples = data.sample(n=subsample_size, replace=True, random_state=state)   \n",
    "        values.append(calculate_profit(subsamples, MAX_WELLS))\n",
    "    res = pd.Series(values)\n",
    "    return res"
   ]
  },
  {
   "cell_type": "code",
   "execution_count": 33,
   "metadata": {},
   "outputs": [],
   "source": [
    "profits = []\n",
    "for i in range(0, len(pred)):\n",
    "    profits.append(bootstrap(pred[i][0], SUBSAMPLE_SIZE))"
   ]
  },
  {
   "cell_type": "code",
   "execution_count": 34,
   "metadata": {},
   "outputs": [
    {
     "data": {
      "image/png": "[encoded data removed]",
      "text/plain": [
       "<Figure size 1224x432 with 1 Axes>"
      ]
     },
     "metadata": {
      "needs_background": "light"
     },
     "output_type": "display_data"
    }
   ],
   "source": [
    "hist(\n",
    "    onecolumn_frames_list = [\n",
    "        pd.DataFrame({'Регион №0': profits[0].apply(lambda x: pretty_billions_f(x))}),\n",
    "        pd.DataFrame({'Регион №1': profits[1].apply(lambda x: pretty_billions_f(x))}),\n",
    "        pd.DataFrame({'Регион №2': profits[2].apply(lambda x: pretty_billions_f(x))}),\n",
    "    ],\n",
    "    xlab='Прибыль (млрд. руб)',\n",
    "    ylab='Частота в выборке',\n",
    "    title='Bootstrap: распределение прибыли',\n",
    "    fontsize=18,\n",
    "    figsize=(17,6)\n",
    ")"
   ]
  },
  {
   "cell_type": "markdown",
   "metadata": {},
   "source": [
    "Весьма неожиданно, надо признать, но Регион №1 выбивается в явные лидеры. Да и ожидаемая прибыль сильно упала, по сравнению со единственным сценарием работы на лучших (по результатам разведки) скважинах."
   ]
  },
  {
   "cell_type": "code",
   "execution_count": 35,
   "metadata": {},
   "outputs": [
    {
     "data": {
      "text/html": [
       "<div>\n",
       "<style scoped>\n",
       "    .dataframe tbody tr th:only-of-type {\n",
       "        vertical-align: middle;\n",
       "    }\n",
       "\n",
       "    .dataframe tbody tr th {\n",
       "        vertical-align: top;\n",
       "    }\n",
       "\n",
       "    .dataframe thead th {\n",
       "        text-align: right;\n",
       "    }\n",
       "</style>\n",
       "<table border=\"1\" class=\"dataframe\">\n",
       "  <thead>\n",
       "    <tr style=\"text-align: right;\">\n",
       "      <th></th>\n",
       "      <th>Нижняя граница д.и.</th>\n",
       "      <th>Средняя выручка</th>\n",
       "      <th>STD средней выручки</th>\n",
       "      <th>Верхняя граница д.и.</th>\n",
       "      <th>Риск убытков (через 0)</th>\n",
       "      <th>Риск убытков (избыточно сложно)</th>\n",
       "    </tr>\n",
       "  </thead>\n",
       "  <tbody>\n",
       "    <tr>\n",
       "      <td>Регион №0</td>\n",
       "      <td>0.125 млрд.руб.</td>\n",
       "      <td>0.346 млрд.руб.</td>\n",
       "      <td>0.112 млрд.руб.</td>\n",
       "      <td>0.554 млрд.руб.</td>\n",
       "      <td>0.2%</td>\n",
       "      <td>0.2%</td>\n",
       "    </tr>\n",
       "    <tr>\n",
       "      <td>Регион №1</td>\n",
       "      <td>0.271 млрд.руб.</td>\n",
       "      <td>0.694 млрд.руб.</td>\n",
       "      <td>0.209 млрд.руб.</td>\n",
       "      <td>1.09 млрд.руб.</td>\n",
       "      <td>0%</td>\n",
       "      <td>0.0%</td>\n",
       "    </tr>\n",
       "    <tr>\n",
       "      <td>Регион №2</td>\n",
       "      <td>0.0853 млрд.руб.</td>\n",
       "      <td>0.27 млрд.руб.</td>\n",
       "      <td>0.0956 млрд.руб.</td>\n",
       "      <td>0.463 млрд.руб.</td>\n",
       "      <td>0.2%</td>\n",
       "      <td>0.2%</td>\n",
       "    </tr>\n",
       "  </tbody>\n",
       "</table>\n",
       "</div>"
      ],
      "text/plain": [
       "          Нижняя граница д.и.  Средняя выручка STD средней выручки  \\\n",
       "Регион №0     0.125 млрд.руб.  0.346 млрд.руб.     0.112 млрд.руб.   \n",
       "Регион №1     0.271 млрд.руб.  0.694 млрд.руб.     0.209 млрд.руб.   \n",
       "Регион №2    0.0853 млрд.руб.   0.27 млрд.руб.    0.0956 млрд.руб.   \n",
       "\n",
       "          Верхняя граница д.и. Риск убытков (через 0)  \\\n",
       "Регион №0      0.554 млрд.руб.                   0.2%   \n",
       "Регион №1       1.09 млрд.руб.                     0%   \n",
       "Регион №2      0.463 млрд.руб.                   0.2%   \n",
       "\n",
       "          Риск убытков (избыточно сложно)  \n",
       "Регион №0                            0.2%  \n",
       "Регион №1                            0.0%  \n",
       "Регион №2                            0.2%  "
      ]
     },
     "execution_count": 35,
     "metadata": {},
     "output_type": "execute_result"
    }
   ],
   "source": [
    "columns=['Нижняя граница д.и.','Средняя выручка', 'STD средней выручки','Верхняя граница д.и.','Риск убытков (через 0)','Риск убытков (избыточно сложно)']\n",
    "visual = pd.DataFrame(columns=columns)\n",
    "for i in range(0, len(pred)):\n",
    "    profits_sorted = profits[i].sort_values();\n",
    "    loss_value = profits_sorted[profits_sorted <= 0].max()\n",
    "    loss_proba_1 = 0 if(pd.isna(loss_value)) else stats.percentileofscore(profits[i],loss_value)\n",
    "    loss_proba_2 = stats.percentileofscore(profits[i],0)\n",
    "    row = pd.Series(\n",
    "        {\n",
    "            f'{columns[0]}': pretty_billions(profits[i].quantile((1-CONFIDENCE_INTERVAL)/2)), \n",
    "            f'{columns[1]}': pretty_billions(profits[i].mean()), \n",
    "            f'{columns[2]}': pretty_billions(profits[i].std()), \n",
    "            f'{columns[3]}': pretty_billions(profits[i].quantile((1+CONFIDENCE_INTERVAL)/2)), \n",
    "            f'{columns[4]}': f'{loss_proba_1}%',\n",
    "            f'{columns[5]}': f'{loss_proba_2}%'\n",
    "        }, name=f'Регион №{i}')\n",
    "    visual = visual.append(row)\n",
    "visual"
   ]
  },
  {
   "cell_type": "markdown",
   "metadata": {},
   "source": [
    "<div class=\"alert alert-block alert-danger\">\n",
    "<b>Комментарий ревьюера</b>\n",
    "\n",
    "<s>Я не совсем понял вычисление рисков. Мне кажется, не совсем верный подход. Для последнего региона в loss_value сейчас лежит такое значение (вывел ниже). Но ведь убытки это когда меньше нуля. И надо в percentileofscore положить не loss_value, а ноль. Пожалуйста, оставь свой комментарий, если я неправильно понял идею.\n",
    "\n",
    "</div>\n"
   ]
  },
  {
   "cell_type": "code",
   "execution_count": 36,
   "metadata": {},
   "outputs": [
    {
     "data": {
      "text/plain": [
       "-21376341.1939888"
      ]
     },
     "execution_count": 36,
     "metadata": {},
     "output_type": "execute_result"
    }
   ],
   "source": [
    "loss_value"
   ]
  },
  {
   "cell_type": "markdown",
   "metadata": {},
   "source": [
    "<div class=\"alert alert-info\">\n",
    "<b>Комментарий студента:</b>\n",
    "\n",
    "В принципе, ты прав: можно указать 0, это \"просто и элегантно\" - функция сама рассчитает нужное значение (например, усреднением, ведь мы же понимаем, что выборка дискретна). \n",
    "Я делаю чуть избыточный код, говоря: отбери все значения, где нет прибыли (=0) или есть убыток (<0) и возьми из них максимум. Это, в частности,\n",
    "может быть и не 0 (мне трудно вообразить, что кто-то специально подгонял датасет, чтобы при расчете прибыли хотя бы на одной из 1000 бутстреп-выборок обязательно получался 0).\n",
    "Т.е. я \"помогаю функции с точным значением из выборки, для которого мне нужен перцентиль\", что, как я уже и сказал избыточно. **Но на конечный результат это не повлияет, что и видно из таблицы**</div>"
   ]
  },
  {
   "cell_type": "markdown",
   "metadata": {},
   "source": [
    "<div class=\"alert alert-block alert-success\">\n",
    "<b>Комментарий ревьюера (v2)</b>\n",
    "\n",
    "Прошу прощения, был не прав с возвратом работы из-за этого. Сейчас логику понял :)\n",
    "\n",
    "</div>\n"
   ]
  },
  {
   "cell_type": "markdown",
   "metadata": {},
   "source": [
    "<div class=\"alert alert-block alert-warning\">\n",
    "<b>Комментарий ревьюера</b>\n",
    "\n",
    "Также можно вычислить среднюю выручку.\n",
    "\n",
    "</div>\n"
   ]
  },
  {
   "cell_type": "markdown",
   "metadata": {},
   "source": [
    "И (на удивление) разумным выбором становится Регион №1: даже если мы будем произвольно (то есть вообще никак не ориентируясь на features) бурить скважины, то\n",
    "    с  вероятностью 95% мы заработаем больше денег, чем в других регионах и при этом без риска получить убыток."
   ]
  },
  {
   "cell_type": "markdown",
   "metadata": {},
   "source": [
    "Вывод: хочешь прибыли - занимайся нефтью, а не ML (ok, ML в нефтянке - как компромисс) "
   ]
  },
  {
   "cell_type": "markdown",
   "metadata": {},
   "source": [
    "<div class=\"alert alert-block alert-success\">\n",
    "<b>Комментарий ревьюера</b>\n",
    "\n",
    "С выбором региона согласен. Хороший, цельный проект с понятным кодом и грамотными выводами, молодец.\n",
    "\n",
    "ML в металлургии тоже неплохо, кстати. Северсталь, Норникель, еще какая-то крупная металл-компания постоянно людей набирают :)\n",
    "\n",
    "</div>\n"
   ]
  },
  {
   "cell_type": "markdown",
   "metadata": {},
   "source": [
    "## Чек-лист готовности проекта"
   ]
  },
  {
   "cell_type": "markdown",
   "metadata": {},
   "source": [
    "Поставьте 'x' в выполненных пунктах. Далее нажмите Shift+Enter."
   ]
  },
  {
   "cell_type": "markdown",
   "metadata": {},
   "source": [
    "- [x]  Jupyter Notebook открыт\n",
    "- [x]  Весь код выполняется без ошибок\n",
    "- [x]  Ячейки с кодом расположены в порядке исполнения\n",
    "- [x]  Выполнен шаг 1: данные подготовлены\n",
    "- [x]  Выполнен шаг 2: модели обучены и проверены\n",
    "    - [x]  Данные корректно разбиты на обучающую и валидационную выборки\n",
    "    - [x]  Модели обучены, предсказания сделаны\n",
    "    - [x]  Предсказания и правильные ответы на валидационной выборке сохранены\n",
    "    - [x]  На экране напечатаны результаты\n",
    "    - [x]  Сделаны выводы\n",
    "- [x]  Выполнен шаг 3: проведена подготовка к расчёту прибыли\n",
    "    - [x]  Для всех ключевых значений созданы константы Python\n",
    "    - [x]  Посчитано минимальное среднее количество продукта в месторождениях региона, достаточное для разработки\n",
    "    - [x]  По предыдущему пункту сделаны выводы\n",
    "    - [x]  Написана функция расчёта прибыли\n",
    "- [x]  Выполнен шаг 4: посчитаны риски и прибыль\n",
    "    - [x]  Проведена процедура *Bootstrap*\n",
    "    - [x]  Все параметры бутстрепа соответствуют условию\n",
    "    - [x]  Найдены все нужные величины\n",
    "    - [x]  Предложен регион для разработки месторождения\n",
    "    - [x]  Выбор региона обоснован"
   ]
  },
  {
   "cell_type": "code",
   "execution_count": null,
   "metadata": {},
   "outputs": [],
   "source": []
  },
  {
   "cell_type": "code",
   "execution_count": null,
   "metadata": {},
   "outputs": [],
   "source": []
  }
 ],
 "metadata": {
  "kernelspec": {
   "display_name": "Python 3 (ipykernel)",
   "language": "python",
   "name": "python3"
  },
  "language_info": {
   "codemirror_mode": {
    "name": "ipython",
    "version": 3
   },
   "file_extension": ".py",
   "mimetype": "text/x-python",
   "name": "python",
   "nbconvert_exporter": "python",
   "pygments_lexer": "ipython3",
   "version": "3.9.5"
  },
  "toc": {
   "base_numbering": 1,
   "nav_menu": {},
   "number_sections": true,
   "sideBar": true,
   "skip_h1_title": true,
   "title_cell": "Table of Contents",
   "title_sidebar": "Contents",
   "toc_cell": false,
   "toc_position": {},
   "toc_section_display": true,
   "toc_window_display": false
  }
 },
 "nbformat": 4,
 "nbformat_minor": 2
}
